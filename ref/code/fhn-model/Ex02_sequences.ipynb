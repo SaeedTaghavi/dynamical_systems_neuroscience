{
 "cells": [
  {
   "cell_type": "markdown",
   "metadata": {
    "slideshow": {
     "slide_type": "slide"
    }
   },
   "source": [
    "# Exercice: Détection des cadres de lecture ouverts\n",
    "\n",
    "Les cadre de lectures ouverts ([Open Reading Frame, ORF](https://en.wikipedia.org/wiki/Open_reading_frame)) sont la partie d'une séquence qui peut être traduite en protéine.  \n",
    "\n",
    "On ignorera les introns. "
   ]
  },
  {
   "cell_type": "code",
   "execution_count": 3,
   "metadata": {
    "slideshow": {
     "slide_type": "subslide"
    }
   },
   "outputs": [],
   "source": [
    "import numpy as np\n",
    "import random"
   ]
  },
  {
   "cell_type": "markdown",
   "metadata": {
    "slideshow": {
     "slide_type": "slide"
    }
   },
   "source": [
    "## Question 1: Écrire une fonction qui construit une séquence d'ADN générée aléatoirement de longueur N \n"
   ]
  },
  {
   "cell_type": "code",
   "execution_count": 4,
   "metadata": {
    "slideshow": {
     "slide_type": "subslide"
    },
    "tags": [
     "solution"
    ]
   },
   "outputs": [],
   "source": [
    "# Correction 1 - Distribution uniforme, en une ligne.\n",
    "def random_sequence(size):\n",
    "    \"\"\"Return a random DNA sequence of length size as a string\"\"\"\n",
    "    return ''.join([random.choice('ATGC') for _ in range(size)])\n",
    "\n",
    "# Notez :\n",
    "# - L'utilisation de la méthode join de la chaîne vide\n",
    "# - La compréhension de liste\n",
    "# - Une variable inutilisée en python doit être appelée \"_\" par convention\n",
    "# - La chaîne 'ATGC' est utilisée comme itérateur par random.choice. \n",
    "\n",
    "# Correction 2 - Avec des poids. \n",
    "def random_sequence(size, letters=(('A', 1), ('T', 1), ('G',1), ('C', 1))):\n",
    "    \"\"\"Return a random sequence built from letters.\n",
    "    Args:\n",
    "        size (int): sequence length\n",
    "        letters (iterable): each element is a couple (letter, weight).\n",
    "        \n",
    "    Return: (string) random sequence where the probability of each letter is\n",
    "    proportional to its weight.\n",
    "    \"\"\"\n",
    "    alphabet, weights = zip(*letters)\n",
    "    array_of_letters = np.random.choice(alphabet, size=size, p=weights/np.sum(weights))\n",
    "    return ''.join(array_of_letters)\n",
    "\n",
    "# Notez que np.random.choice peut prendre des poids en argument. \n",
    "# Notez l'utilisation de zip(*letters)\n",
    "# zip(*[(A,1), (B,2), (C,3)]) => zip((A,1), (B,2), (C,3)) => (A,B,C), (1,2,3)\n",
    "\n",
    "#=> Pour des distributions plus compliquées, rendez-vous au cours de mathématiques \n",
    "#   quand nous verrons les châines de Markov !"
   ]
  },
  {
   "cell_type": "markdown",
   "metadata": {
    "slideshow": {
     "slide_type": "slide"
    }
   },
   "source": [
    "## Question 2: Écrire une fonction qui recherche les codons d'initiation (ATG) dans une séquence "
   ]
  },
  {
   "cell_type": "code",
   "execution_count": 5,
   "metadata": {
    "tags": [
     "solution"
    ]
   },
   "outputs": [],
   "source": [
    "# Correction 1:\n",
    "def find_start(sequence):\n",
    "    \"\"\"Cherche la position des codons d'initiation.\"\"\"\n",
    "    pos = []\n",
    "    for i in range(len(sequence) - 3):\n",
    "        if sequence[i:i+3]=='ATG':\n",
    "            pos.append(i)\n",
    "    return pos \n",
    "\n",
    "# Correction 2:\n",
    "def find_start2(sequence):\n",
    "    \"\"\"Utilise la méthode find des chaînes de caractère pour trouver la position des condons d'initiation.\"\"\"\n",
    "    i = 0 \n",
    "    starts = []\n",
    "    pos = 0\n",
    "    while i<len(sequence):\n",
    "        pos = sequence[i:].find('ATG')\n",
    "        if pos>=0:\n",
    "            starts.append(i+pos)\n",
    "            i += pos + 3\n",
    "        else:\n",
    "            break\n",
    "    return starts\n",
    "\n",
    "# Correction 3:  \n",
    "import re \n",
    "def find_start3(sequence):\n",
    "    \"\"\"Utilise des regexp pour trouver la position des condons d'initiation.\"\"\"\n",
    "    return [elt.start() for elt in re.finditer('ATG', sequence)]"
   ]
  },
  {
   "cell_type": "code",
   "execution_count": 6,
   "metadata": {
    "slideshow": {
     "slide_type": "slide"
    },
    "tags": [
     "solution"
    ]
   },
   "outputs": [],
   "source": [
    "# Vérifier que toutes les méthodes sont cohérentes.\n",
    "test = 'ATGGCATCTCATTATTTCATGGGTAAATCTGA'\n",
    "assert find_start(test) == [0,18] \n",
    "assert find_start2(test) == [0,18] \n",
    "assert find_start3(test) == [0,18] "
   ]
  },
  {
   "cell_type": "code",
   "execution_count": 7,
   "metadata": {
    "tags": [
     "solution"
    ]
   },
   "outputs": [
    {
     "name": "stdout",
     "output_type": "stream",
     "text": [
      "Courte séquence:\n",
      "3.24 µs ± 62.2 ns per loop (mean ± std. dev. of 7 runs, 100000 loops each)\n",
      "938 ns ± 3.4 ns per loop (mean ± std. dev. of 7 runs, 1000000 loops each)\n",
      "1.06 µs ± 4.85 ns per loop (mean ± std. dev. of 7 runs, 1000000 loops each)\n",
      "\n",
      "Longue séquence:\n",
      "324 µs ± 1.97 µs per loop (mean ± std. dev. of 7 runs, 1000 loops each)\n",
      "22.8 µs ± 297 ns per loop (mean ± std. dev. of 7 runs, 10000 loops each)\n",
      "10.2 µs ± 44.9 ns per loop (mean ± std. dev. of 7 runs, 100000 loops each)\n"
     ]
    }
   ],
   "source": [
    "# On peut comparer le temps de chacune des méthodes...\n",
    "print('Courte séquence:')\n",
    "%timeit find_start(test)\n",
    "%timeit find_start2(test)\n",
    "%timeit find_start3(test)\n",
    "\n",
    "print('\\nLongue séquence:')\n",
    "test2 = random_sequence(3000)\n",
    "%timeit find_start(test2)\n",
    "%timeit find_start2(test2)\n",
    "%timeit find_start3(test2)"
   ]
  },
  {
   "cell_type": "code",
   "execution_count": 8,
   "metadata": {
    "slideshow": {
     "slide_type": "slide"
    },
    "tags": [
     "solution"
    ]
   },
   "outputs": [
    {
     "data": {
      "text/plain": [
       "[]"
      ]
     },
     "execution_count": 8,
     "metadata": {},
     "output_type": "execute_result"
    }
   ],
   "source": [
    "# Correction 4: Une version plus générale. \n",
    "def find_all(sequence, pattern='ATG', reading_frame=None, max_hits = None):\n",
    "    \"\"\"Find all indces of pattern in sequence.\n",
    "    Args: \n",
    "        sequence (string): the sequence to search into.\n",
    "        pattern (string): the pattern to search for. \n",
    "        reading_frames (int, tuple or None): reading frame to check, if None look in all reading frame.\n",
    "        max_hits (int): max number of hits to return (all of them if None)\n",
    "    Return: (list) list of position in sequence where pattern starts.\"\"\"\n",
    "    hits = []\n",
    "    L = len(pattern)\n",
    "    \n",
    "    # Parse the value of the reading_frame argument.\n",
    "    # Note the Duck-typing. \n",
    "    if reading_frame is None: \n",
    "        # If None, all reading frame\n",
    "        reading_frame = range(len(pattern))\n",
    "    try:\n",
    "        iter(reading_frame)\n",
    "    except TypeError:\n",
    "        # If not iterable, make it iterable. \n",
    "        reading_frame = (reading_frame,)\n",
    "    \n",
    "    for rf in reading_frame:\n",
    "        for i in range(rf, len(sequence)-L+1, L ):\n",
    "            if sequence[i:i+L] == pattern:\n",
    "                hits.append(i)\n",
    "                if max_hits is not None and len(hits)>=max_hits:\n",
    "                    break\n",
    "    return hits\n",
    "\n",
    "find_all('', 'ATG')"
   ]
  },
  {
   "cell_type": "markdown",
   "metadata": {
    "slideshow": {
     "slide_type": "slide"
    }
   },
   "source": [
    "## Question 3: Écrire une fonction qui recherche le premier codon stop (TAA, TAG, TGA) suivant un codon AUG dans le même cadre de lecture "
   ]
  },
  {
   "cell_type": "code",
   "execution_count": 9,
   "metadata": {
    "tags": [
     "solution"
    ]
   },
   "outputs": [],
   "source": [
    "def matching_stop(sequence, start='ATG', stops=('TAA','TAG','TGA')):\n",
    "    \"\"\" Return the position of each start codon and of the first following stop codon.\n",
    "    If there is no stop codon after it, the start codon is ignored. \n",
    "    Args: \n",
    "        sequence (string): the sequence to search into.\n",
    "        start (string): start codon\n",
    "        stops (iter): list of stop codons\n",
    "        \n",
    "    \"\"\"\n",
    "    hits = []\n",
    "    starts = find_all(sequence=sequence, pattern=start)\n",
    "    for start in starts:\n",
    "        stop_hits = []\n",
    "        for stop in stops:\n",
    "            for pos in find_all(sequence[start:], stop, reading_frame=0, max_hits=1):\n",
    "                stop_hits.append(pos)\n",
    "        if stop_hits:\n",
    "            hits.append((start, start+np.min(stop_hits)))\n",
    "    return hits\n",
    "            \n",
    "def matching_stop2(sequence):\n",
    "    \"\"\"Trouve les ORF non chevauchants à l'aide de la puissance des regexp.\"\"\"\n",
    "    return [(match.span(0)[0],match.span(2)[0]) for match in re.finditer('ATG([ATGC]{3})*?(TAA|TAG|TGA)', sequence)]\n",
    "test = 'ATGAAATAGAATGTTGTAG'"
   ]
  },
  {
   "cell_type": "code",
   "execution_count": 10,
   "metadata": {
    "tags": [
     "solution"
    ]
   },
   "outputs": [],
   "source": [
    "test = 'ATGAAATAGAATGTTGTAG'\n",
    "assert matching_stop(test) == [(0,6),(10,16)]\n",
    "assert matching_stop2(test) == [(0,6),(10,16)]\n",
    "\n",
    "# Exercice bonus: \n",
    "#- Expliquez la regexp de matching_stop2\n",
    "#- Modifier matching_stop2 pour prendre en compte les ORF chevauchants."
   ]
  },
  {
   "cell_type": "markdown",
   "metadata": {
    "slideshow": {
     "slide_type": "slide"
    }
   },
   "source": [
    "## Question 4: Modifier la fonction pour qu'elle retourne la distance entre un codon d'initiation et le premier codon stop suivant dans le même cadre de lecture"
   ]
  },
  {
   "cell_type": "code",
   "execution_count": 11,
   "metadata": {
    "tags": [
     "solution"
    ]
   },
   "outputs": [
    {
     "data": {
      "text/plain": [
       "[6, 6]"
      ]
     },
     "execution_count": 11,
     "metadata": {},
     "output_type": "execute_result"
    }
   ],
   "source": [
    "def matching_stop_distance(sequence, start='ATG', stops=('TAA','TAG','TGA')):\n",
    "    \"\"\" Return the position of the first stop codon after each start codon.\n",
    "    Args: \n",
    "        sequence (string): the sequence to search into.\n",
    "        start (string): start codon\n",
    "        stops (iter): list of stop codons\n",
    "    \"\"\"\n",
    "    dist = []\n",
    "    starts = find_all(sequence=sequence, pattern=start)\n",
    "    for start in starts:\n",
    "        stop_hits = []\n",
    "        for stop in stops:\n",
    "            for pos in find_all(sequence[start:], stop, reading_frame=0, max_hits=1):\n",
    "                stop_hits.append(pos)\n",
    "        if stop_hits:\n",
    "            dist.append(np.min(stop_hits))\n",
    "    return dist\n",
    "\n",
    "test = 'ATGAAATAGAATGTTGTAG'\n",
    "matching_stop_distance(test)"
   ]
  },
  {
   "cell_type": "markdown",
   "metadata": {
    "slideshow": {
     "slide_type": "slide"
    }
   },
   "source": [
    "## Question 5: Déterminer quel est le nombre d'ORFs dans une séquence aléatoire d'ADN de longueur N. Pour chacun, calculer sa longueur.\n",
    "\n",
    "#### Quel est le nombre d'ORF attendus dans une séquence aléatoire uniforme ?\n",
    "\n",
    "Si on considère que la séquence est assez longue, on peut approximer le nombre d'ORF par le nombre de codon d'initiation.\n",
    "\n",
    "Il y a $N-2$ codons (chevauchants) dans une séquence de N bases. Si on considère que tous les codons sont équiprobables, la probabilité qu'un codon soit un codon d'initiation est de $\\frac{1}{64}$. Si on considère que tous les codons sont idépendants (ce qui n'est pas vraiment le cas parcequ'ils sont chevauchants), le nombre de codons d'initiation $M$ est binomial $M \\sim Binom(N-2, 1/64)$. \n",
    "\n",
    "En moyenne il y a  $\\mathbb E(M_N) = \\frac{N-2}{64}$ ORF dans une séquence de taille $N$ selon ce modèle. Ce nombre est probablement sur-estimé, car il peut y avoir des codons d'initiation en fin de séquence qui ne forment pas d'ORF et que les codons ne sont pas vraiment indépendants.\n",
    "\n",
    "#### Quelle est la longueur attendue d'un ORF dans une séquence aléatoire uniforme ?\n",
    "\n",
    "Si la séquence est assez longue, l'ORF commence au codon d'initiation et se termine au premier codon stop rencontré. Sa longueur $L$ est donc géométriquement disitribuée, $L \\sim Geom(3/64)$ (plus 1 si on compte le codon d'initiation et plus 2 si on compte aussi le codon stop). En moyenne cela fait $64$ bases.\n",
    "\n",
    "$$\\mathbb P(L=k) = \n",
    "\\underbrace{\\frac{61}{64}^k}_\\text{non stop} \n",
    "\\times\n",
    "\\underbrace{\\frac{3}{64}}_\\text{stop}$$\n",
    "\n",
    "$$\\mathbb E(L) = \\frac{64}{3} \\approx 21 \\text{ codons}$$"
   ]
  },
  {
   "cell_type": "code",
   "execution_count": 12,
   "metadata": {
    "slideshow": {
     "slide_type": "slide"
    },
    "tags": [
     "solution"
    ]
   },
   "outputs": [],
   "source": [
    "R = 10 # Nombre de réplicas \n",
    "L = 1000 # Longueur maximale de la séquence\n",
    "dist = {} # On va stocker l->liste des tailles\n",
    "length_seq = np.arange(6, L, 1)\n",
    "for _ in range(R):\n",
    "    for l in length_seq:\n",
    "        for d in matching_stop_distance(random_sequence(l)):\n",
    "            try:\n",
    "                dist[l].append(d)\n",
    "            except KeyError:\n",
    "                dist[l] = [d]\n",
    "                \n",
    "# Notez que l'on utilise le try/except pour ajouter les entrées de dictionnaire manquante.\n",
    "# Une alternative à cette construction est d'utiliser collections.defaultdict(list)"
   ]
  },
  {
   "cell_type": "code",
   "execution_count": 13,
   "metadata": {
    "tags": [
     "solution"
    ]
   },
   "outputs": [],
   "source": [
    "import matplotlib.pyplot as plt\n",
    "%matplotlib inline"
   ]
  },
  {
   "cell_type": "code",
   "execution_count": 14,
   "metadata": {
    "slideshow": {
     "slide_type": "slide"
    },
    "tags": [
     "solution"
    ]
   },
   "outputs": [
    {
     "data": {
      "image/png": "[encoded data removed]",
      "text/plain": [
       "<Figure size 1152x288 with 2 Axes>"
      ]
     },
     "metadata": {},
     "output_type": "display_data"
    }
   ],
   "source": [
    "# Create the object figure and two axes.\n",
    "fig, ax = plt.subplots(1, 2, figsize=(16,4))\n",
    "\n",
    "# in the first axis, we plot the ORF length as a function of sequence length.\n",
    "ax[0].plot(length_seq, [len(dist[k])/R if k in dist else 0 for k in length_seq], label='Mean')\n",
    "ax[0].set(xlabel='Sequence length (bp)', ylabel='Number of ORF (bp)')\n",
    "ax[0].plot(length_seq, (length_seq-2)/64, label='Theoretical estimate')\n",
    "ax[0].legend()\n",
    "\n",
    "# In the second axis, we plot ORF length as a function of sequence length\n",
    "for k,v in dist.items():\n",
    "    ax[1].scatter([k]*len(v),v, color='k', marker='.', alpha=0.1)\n",
    "ax[1].plot(length_seq, [np.mean(dist[k]) if k in dist else 0 for k in length_seq], label='Mean')\n",
    "ax[1].hlines(64, 0,L, color='C1', label='Theory')\n",
    "ax[1].legend() #=> display the labels\n",
    "ax[1].set(xlabel='Sequence length (bp)', ylabel='Length of ORF (bp)');"
   ]
  },
  {
   "cell_type": "markdown",
   "metadata": {
    "slideshow": {
     "slide_type": "slide"
    }
   },
   "source": [
    "## Question 6: Écrire un programme qui traduit une séquence nucléique en une série de protéines. \n",
    "\n",
    "On ignorera la transcription."
   ]
  },
  {
   "cell_type": "code",
   "execution_count": 15,
   "metadata": {
    "tags": [
     "solution"
    ]
   },
   "outputs": [],
   "source": [
    "### Copié-collé depuis wikipédia:\n",
    "data = \"\"\"\n",
    "Amino acid \tCodons \tCompressed \t\tAmino acid \tCodons \tCompressed\n",
    "Ala / A \tGCU, GCC, GCA, GCG \tGCN \tLeu / L \tUUA, UUG, CUU, CUC, CUA, CUG \tYUR, CUN\n",
    "Arg / R \tCGU, CGC, CGA, CGG, AGA, AGG \tCGN, MGR \tLys / K \tAAA, AAG \tAAR\n",
    "Asn / N \tAAU, AAC \tAAY \tMet / M \tAUG\n",
    "Asp / D \tGAU, GAC \tGAY \tPhe / F \tUUU, UUC \tUUY\n",
    "Cys / C \tUGU, UGC \tUGY \tPro / P \tCCU, CCC, CCA, CCG \tCCN\n",
    "Gln / Q \tCAA, CAG \tCAR \tSer / S \tUCU, UCC, UCA, UCG, AGU, AGC \tUCN, AGY\n",
    "Glu / E \tGAA, GAG \tGAR \tThr / T \tACU, ACC, ACA, ACG \tACN\n",
    "Gly / G \tGGU, GGC, GGA, GGG \tGGN \tTrp / W \tUGG\n",
    "His / H \tCAU, CAC \tCAY \tTyr / Y \tUAU, UAC \tUAY\n",
    "Ile / I \tAUU, AUC, AUA \tAUH \tVal / V \tGUU, GUC, GUA, GUG \tGUN\n",
    "START \tAUG \tSTOP \tUAA, UGA, UAG \tUAR, URA\"\"\"\n",
    "\n",
    "# On va construire un dictionnaire qui contient la correspondance ARN->Protéines\n",
    "# C'est l'occasion d'exercer nos regexp. \n",
    "code = {}\n",
    "for line in data.split('\\n'):\n",
    "    for m in re.finditer(\"[A-Za-z]{3} / ([A-Z]) \\t([AUGC, ]*)\",line):\n",
    "        for codon in m.group(2).split(','):\n",
    "            code[codon.strip()] = m.group(1)\n",
    "\n",
    "for codon in re.search(\"STOP \\t([AUGC, ]*)\", data).group(1).split(','):\n",
    "    code[codon.strip()] = '*'\n",
    "\n",
    "assert len(code)==64\n",
    "\n",
    "# Comme on va ignorer l'étape de transcription, remplaçons les U par des T:\n",
    "code = {k.replace('U','T'):v for k,v in code.items()}"
   ]
  },
  {
   "cell_type": "code",
   "execution_count": 16,
   "metadata": {
    "slideshow": {
     "slide_type": "slide"
    },
    "tags": [
     "solution"
    ]
   },
   "outputs": [],
   "source": [
    "def traduction(sequence, code, taille_codon=3):\n",
    "    \"\"\"Traduit la séquence en utilisant le code.\n",
    "        sequence (string): La séquence à traduire.\n",
    "        code (dict): La correspondance codon->traduction.\n",
    "        taille_codon (int): la taille d'un codon.\n",
    "    Retourne la séquence traduite (string) Les codons non complets sont ignorés.\"\"\"\n",
    "    return ''.join(code[sequence[i:i+taille_codon]] \n",
    "                   for i in \n",
    "                   range(0,taille_codon*(len(sequence)//taille_codon),taille_codon))\n",
    "\n",
    "assert traduction('ATGTTTTAG', code) == \"MF*\"\n",
    "assert traduction('ATGTTTTAGT', code)  == \"MF*\"\n",
    "assert traduction('', code) == \"\" \n",
    "\n",
    "def traduire_orf(sequence, code, taille_codon=3, start='ATG', stops=('TAA','TAG','TGA')):\n",
    "    \"\"\"Cherche les ORF et les traduit. \n",
    "        sequence (string): La séquence à traduire.\n",
    "        code (dict): La correspondance codon->traduction.\n",
    "        taille_codon (int): la taille d'un codon.\n",
    "        start (string): start codon\n",
    "        stops (iter): list of stop codons\n",
    "    Retourne les protéines sous forme de liste.\n",
    "    \"\"\"\n",
    "    orf = matching_stop(sequence, start=start, stops=stops)\n",
    "    return [traduction(sequence[o[0]:o[1]], code, taille_codon) for o in orf]\n",
    "\n",
    "assert traduire_orf('ATGTTTTAGTTCATGGGGGGGTAG', code) == ['MF', 'MGG']"
   ]
  },
  {
   "cell_type": "markdown",
   "metadata": {
    "slideshow": {
     "slide_type": "slide"
    }
   },
   "source": [
    "## Question 7: Écrire une fonction pour lire et une pour écrire au format fasta"
   ]
  },
  {
   "cell_type": "code",
   "execution_count": 17,
   "metadata": {
    "tags": [
     "solution"
    ]
   },
   "outputs": [],
   "source": [
    "def from_fasta(text):\n",
    "    \"\"\"Convert a fasta-formatted string to a list of (key, sequence)\"\"\"\n",
    "    out = []\n",
    "    for seq in text.split('>'):\n",
    "        lines = seq.split('\\n')\n",
    "        if seq and lines:\n",
    "            out.append((lines[0].strip(), ''.join(lines[1:])))\n",
    "    return out\n",
    "\n",
    "def to_fasta(sequences, max_line_length=80):\n",
    "    \"\"\"Convert a list of (key,sequence) in a fasta-formatted string.\n",
    "    Arg: \n",
    "        sequence (iterable of st): each element is key,sequence\n",
    "        max_line_length (int): justify sequence with this length\n",
    "    \"\"\"\n",
    "    lines = []\n",
    "    for key, seq in sequences:\n",
    "        lines.append('> {}'.format(key))\n",
    "        for i in range(0,  max_line_length*(len(seq)//max_line_length+1), max_line_length):\n",
    "            lines.append(seq[i:i+max_line_length])\n",
    "    return '\\n'.join(lines)"
   ]
  },
  {
   "cell_type": "code",
   "execution_count": 18,
   "metadata": {
    "slideshow": {
     "slide_type": "slide"
    },
    "tags": [
     "solution"
    ]
   },
   "outputs": [],
   "source": [
    "def read_fasta(path):\n",
    "    \"\"\"Read a fasta file from path, return a list of (key,sequence).\"\"\"\n",
    "    with open(path, 'r') as file:\n",
    "        return from_fasta(file.read())\n",
    "def save_fasta(path, sequences, max_line_length=80):\n",
    "    \"\"\"Write an iterable of (key,sequence) into a fasta file.\"\"\"\n",
    "    with open(path,'w') as file:\n",
    "        file.write(to_fasta(sequences, max_line_length=max_line_length))"
   ]
  },
  {
   "cell_type": "code",
   "execution_count": 19,
   "metadata": {
    "tags": [
     "solution"
    ]
   },
   "outputs": [],
   "source": [
    "# Quelques tests\n",
    "test = \"\"\"> Sequence of T\n",
    "TTT\n",
    "> Bases\n",
    "ATGC\"\"\"\n",
    "assert from_fasta(test) == [('Sequence of T', 'TTT'),('Bases','ATGC')]\n",
    "assert test == to_fasta( [('Sequence of T', 'TTT'),('Bases','ATGC')]) \n",
    "assert len(from_fasta(to_fasta([('test_long','T'*120),]))[0][1])==120\n",
    "\n",
    "test = [('test_long','G'*120),('test_court','T')]\n",
    "save_fasta('test.fa', test)\n",
    "assert read_fasta('test.fa') == test"
   ]
  },
  {
   "cell_type": "markdown",
   "metadata": {},
   "source": [
    "## Question 8 : Exporter les positions d'ORF au format CSV"
   ]
  },
  {
   "cell_type": "code",
   "execution_count": 24,
   "metadata": {
    "tags": [
     "solution"
    ]
   },
   "outputs": [
    {
     "data": {
      "text/html": [
       "<div>\n",
       "<style scoped>\n",
       "    .dataframe tbody tr th:only-of-type {\n",
       "        vertical-align: middle;\n",
       "    }\n",
       "\n",
       "    .dataframe tbody tr th {\n",
       "        vertical-align: top;\n",
       "    }\n",
       "\n",
       "    .dataframe thead th {\n",
       "        text-align: right;\n",
       "    }\n",
       "</style>\n",
       "<table border=\"1\" class=\"dataframe\">\n",
       "  <thead>\n",
       "    <tr style=\"text-align: right;\">\n",
       "      <th></th>\n",
       "      <th>end</th>\n",
       "      <th>start</th>\n",
       "      <th>stop_codon</th>\n",
       "      <th>length</th>\n",
       "    </tr>\n",
       "  </thead>\n",
       "  <tbody>\n",
       "    <tr>\n",
       "      <th>0</th>\n",
       "      <td>6</td>\n",
       "      <td>0</td>\n",
       "      <td>TAG</td>\n",
       "      <td>6</td>\n",
       "    </tr>\n",
       "    <tr>\n",
       "      <th>1</th>\n",
       "      <td>16</td>\n",
       "      <td>10</td>\n",
       "      <td>TAA</td>\n",
       "      <td>6</td>\n",
       "    </tr>\n",
       "  </tbody>\n",
       "</table>\n",
       "</div>"
      ],
      "text/plain": [
       "   end  start stop_codon  length\n",
       "0    6      0        TAG       6\n",
       "1   16     10        TAA       6"
      ]
     },
     "execution_count": 24,
     "metadata": {},
     "output_type": "execute_result"
    }
   ],
   "source": [
    "import pandas as pd\n",
    "\n",
    "def matching_stop_table(sequence, start='ATG', stops=('TGA','TAA','TAG')):\n",
    "    \"\"\" Return a pd.Dataframe contenant les ORF d'une sequence.\n",
    "    Args: \n",
    "        sequence (string): the sequence to search into.\n",
    "        start (string): start codon\n",
    "        stops (iter): list of stop codons\n",
    "    Return (pd.dataframe), avec colonnes: start, stop, stop_codon, length\n",
    "    \"\"\"\n",
    "    data = []\n",
    "    # construire le dataframe ligne par ligne. \n",
    "    for begin,end in matching_stop(sequence, start=start, stops=stops):\n",
    "        data.append({'start':begin, 'end':end, \n",
    "                     'stop_codon':sequence[end:end+3]\n",
    "                    })\n",
    "    data = pd.DataFrame(data)\n",
    "    data['length'] = data.end-data.start\n",
    "    return data\n",
    "test = 'ATGAAATAGAATGTTGTAA'\n",
    "data = matching_stop_table(test)\n",
    "data.to_csv('orf.csv')\n",
    "data"
   ]
  },
  {
   "cell_type": "code",
   "execution_count": null,
   "metadata": {},
   "outputs": [],
   "source": []
  }
 ],
 "metadata": {
  "celltoolbar": "Tags",
  "kernelspec": {
   "display_name": "Python 3",
   "language": "python",
   "name": "python3"
  },
  "language_info": {
   "codemirror_mode": {
    "name": "ipython",
    "version": 3
   },
   "file_extension": ".py",
   "mimetype": "text/x-python",
   "name": "python",
   "nbconvert_exporter": "python",
   "pygments_lexer": "ipython3",
   "version": "3.5.3"
  },
  "toc": {
   "base_numbering": 1,
   "nav_menu": {},
   "number_sections": true,
   "sideBar": true,
   "skip_h1_title": false,
   "title_cell": "Table of Contents",
   "title_sidebar": "Contents",
   "toc_cell": false,
   "toc_position": {},
   "toc_section_display": true,
   "toc_window_display": false
  }
 },
 "nbformat": 4,
 "nbformat_minor": 2
}
