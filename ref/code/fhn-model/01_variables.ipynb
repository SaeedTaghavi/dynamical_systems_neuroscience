{
 "cells": [
  {
   "cell_type": "markdown",
   "metadata": {},
   "source": [
    "# Un point sur les variables et espaces de noms "
   ]
  },
  {
   "cell_type": "markdown",
   "metadata": {},
   "source": [
    "## Les variables en Python sont des références nommées\n",
    "En Python, tout est objet. Comme Python est un langage fortement typé, chaque objet à un type et ce type ne peut pas changer. Les types de bases sont les entiers `int` et le nombres à virgule flottante `float`, les chaînes de caractères `str`, les complexes `complex`. La bibliothèque standard contient aussi plusieurs types de conteneurs: listes `list`, n-uplets `tuples`, dictionnaires `dict`, ensembles `set`..."
   ]
  },
  {
   "cell_type": "code",
   "execution_count": 3,
   "metadata": {},
   "outputs": [
    {
     "data": {
      "text/plain": [
       "94875962855936"
      ]
     },
     "execution_count": 3,
     "metadata": {},
     "output_type": "execute_result"
    }
   ],
   "source": [
    "# En Python les variables sont des références nommées à des objets. \n",
    "# Par exemple:\n",
    "a = 3\n",
    "# Créer un objet de type int et lui associe le nom 'a'\n",
    "type(a) #=> int\n",
    "# Cet objet se trouve dans la mémoire de l'ordinateur\n",
    "# à un endroit que l'on peut obtenir avec `id`:\n",
    "id(a) #=> La position de l'objet nommé a dans la mémoire de l'ordinateur."
   ]
  },
  {
   "cell_type": "code",
   "execution_count": 4,
   "metadata": {},
   "outputs": [],
   "source": [
    "# Maintenant si on fait:\n",
    "a = \"coucou\"\n",
    "# Le type de a est maintenant `str`.\n",
    "# Mais l'objet de type int que nous avions précédemment n'a pas changé de type.\n",
    "# Il n'est juste plus référencé, il est maintenant impossible d'y accéder.\n",
    "# Un objet qui n'a plus de référence est automatiquement retiré de la mémoire \n",
    "# par le mécanisme de \"ramassage miettes\" (garbage collection) de Python. \n",
    "# Nous avons donc juste créé un objet de type `str` et lui avons associé le nom `a`."
   ]
  },
  {
   "cell_type": "markdown",
   "metadata": {},
   "source": [
    "![](references.svg)"
   ]
  },
  {
   "cell_type": "markdown",
   "metadata": {},
   "source": [
    "## Objets immuables et modifiables, Attention aux pièges !\n",
    "\n",
    "On l'a vu en Python tout est objet. Il existe une importante distinction entre deux grandes catégories d'objet en Python. Les objets que l'on peut modifier, et ceux que l'on ne peut pas modifier (immuables). Un objet immuable, une fois créé ne peut plus changer. Voici un tableau récapitulatif. \n",
    "\n",
    "|Immuables|Modifiables|\n",
    "|----|\n",
    "| Entiers `int` | Listes `list`\n",
    "| Flottants   `float` | Dictionnaires `dict`\n",
    "| Complexes   `complex` | Ensembles `set`\n",
    "| Booléens   `bool` | \n",
    "| Chaînes de caractères   `string` |\n",
    "| n-uplet   `tuple` |  \n",
    "| Intervalles   `range` | \n",
    "| Ensemble immuables  `frozenset` |"
   ]
  },
  {
   "cell_type": "code",
   "execution_count": 37,
   "metadata": {},
   "outputs": [],
   "source": [
    "# Ainsi si vous faites:\n",
    "x = 3 \n",
    "x += 2 \n",
    "# vous ne changez pas la valeur de l'objet référencé par `x`, vous créez un nouvel objet \n",
    "# de type `int` et de valeur `5`.\n",
    "\n",
    "# Par contre:\n",
    "liste = [1,2,3,4,5]\n",
    "liste[1] = 200\n",
    "# Change effectivement le contenu de l'objet `liste`. Maintenant, la deuxième case \n",
    "# de la liste fait référence à un autre objet (`int`) de valeur 200. \n",
    "# C'est impossible à faire avec un n-uplet (`tuple`)."
   ]
  },
  {
   "cell_type": "markdown",
   "metadata": {},
   "source": [
    "![](liste.svg)"
   ]
  },
  {
   "cell_type": "code",
   "execution_count": 19,
   "metadata": {},
   "outputs": [
    {
     "name": "stdout",
     "output_type": "stream",
     "text": [
      "140447784022984 140447784022984\n",
      "True\n",
      "[1, 2, 3, 4, 5] [1, 2, 3, 4, 5]\n"
     ]
    }
   ],
   "source": [
    "# Un objet peut avoir plusieurs références:\n",
    "a = [1,2,3]\n",
    "b = a\n",
    "print(id(a), id(b))\n",
    "\n",
    "# On peut utiliser l'opérateur `is` pour tester si deux variables font \n",
    "# référence au même objet\n",
    "print(a is b)\n",
    "\n",
    "# Ce qui nous amène au premier piège:\n",
    "# Si on modifie le premier cela modifie le second.\n",
    "a.append(4)\n",
    "b.append(5)\n",
    "print(a,b)"
   ]
  },
  {
   "cell_type": "code",
   "execution_count": 15,
   "metadata": {},
   "outputs": [
    {
     "name": "stdout",
     "output_type": "stream",
     "text": [
      "[1, 2, 3] 140447783846984\n",
      "[1, 2, 3, 4] 140447783832520\n",
      "[1, 2, 3, 4, 5] 140447783832520\n"
     ]
    }
   ],
   "source": [
    "# il y a donc une différence entre faire:\n",
    "liste = [1,2,3]\n",
    "print(liste, id(liste))\n",
    "liste = [1,2,3,4] # Créer un nouvel objet de type `list` et y associe le nom `liste`\n",
    "print(liste, id(liste))\n",
    "liste.append(5) # Modifie l'objet liste \"en place\"\n",
    "print(liste, id(liste))"
   ]
  },
  {
   "cell_type": "code",
   "execution_count": 14,
   "metadata": {},
   "outputs": [
    {
     "name": "stdout",
     "output_type": "stream",
     "text": [
      "140447783900232\n",
      "140447783900232\n"
     ]
    },
    {
     "data": {
      "text/plain": [
       "(1, 2, 3, [1, 2, 3])"
      ]
     },
     "execution_count": 14,
     "metadata": {},
     "output_type": "execute_result"
    }
   ],
   "source": [
    "# Le second piège provient du fait que c'est le conteneur qui est immuable, non son contenu.\n",
    "nuplet = (1,2,3, [1,2])\n",
    "print(id(nuplet[3]))\n",
    "\n",
    "# Ainsi, s'il est interdit de changer la référence qui est contenue dans un tuple...\n",
    "# nuplet[3] = [1,2,3] #=> will rise a TypeError exception\n",
    "\n",
    "# ... il est possible de modifier l'objet lui même si celui-ci n'est pas immuable.\n",
    "nuplet[3].append(3)\n",
    "print(id(nuplet[3])) # n'a pas changé\n",
    "nuplet"
   ]
  },
  {
   "cell_type": "markdown",
   "metadata": {},
   "source": [
    "Ces deux pièges peuvent être évités si on utilise des objets immuables: on est sûr qu'un objet une fois créé ne peut pas être modifié ailleurs dans le code. Si on ne change pas la référence le contenu est identique. Voilà pourquoi il faut toujours privilégier les objets immuables si on le peut. (En plus les objets immuables sont en général plus rapides car optimisés par l'interpréteur).\n",
    "\n",
    "![](immuable.svg)"
   ]
  },
  {
   "cell_type": "markdown",
   "metadata": {},
   "source": [
    "## Les espaces de noms\n",
    "\n",
    "Les espaces de noms sont une des fonctionnalités les plus importantes de Python et participent grandement à sa simplicité. Voici une petite introduction, plus d'informations sont disponibles dans [la documentation de Python sur les namespace](https://docs.python.org/3.7/tutorial/classes.html#python-scopes-and-namespaces).\n",
    "\n",
    "Quand vous faites référence à une variable, Python cherche la référence à l'objet correspondant dans l'*espace de nom* adéquat. Un espace de nom est donc simplement une collection de noms associés à des références d'objet. C'est ce qui fait la correspondance entre le nom de la variable et ce à quoi elle se réfère. \n",
    "\n",
    "Il existe de nombreux espaces de noms:\n",
    "\n",
    "- L'espace des noms réservé de python (`built-in`): créé quand on lance l'interpréteur.\n",
    "- L'espace de nom global: créé quand on lance l'interpréteur.\n",
    "- L'espace de nom d'un module: créé la première fois qu'un module est importé avec `import`\n",
    "- L'espace de nom d'une fonction: créé quand la fonction est appelée et détruit quand elle retourne ça valeur (`return`).\n",
    "- L'espace de nom d'un objet: créé quand l'objet est instancié et détruit avec l'objet\n",
    "- L'espace de nom d'une classe: créé quand la classe est définie\n",
    "\n",
    "Quand on fait référence à une méthode ou un attribut d'un objet `objet.méthode()` ou `objet.attribut`, python cherche dans l'espace de nom associé à cet objet (puis éventuellement dans celui de la classe).\n",
    "\n",
    "Quand on fait référence à une méthode ou un attribut d'un module `numpy.sum()`, `matplotlib.pyplot.plot()`, ptyhon cherche dans l'espace de nom associé à ce module. \n",
    "\n",
    "Quand on donne juste le no d'une variable Python cherche toujours dans l'espace de nom le plus local possible s'il existe, dans l'ordre: fonction < objet < classe < global < réservé.\n",
    "\n",
    "Toute assignation de variable (avec `=`) se fait dans l'espace de nom le plus local. On parle de portée (locale) des variables.Il est possible de changer ce comportement si on utilise les mots clés `global` (pour assigner dans l'espace de nom global) ou `nonlocal` (pour assigner dans l'espace de nom directement supérieur). Je vous déconseille fortement d'utiliser ces mots clés à moins de savoir ce que vous faites et d'avoir une très bonne raison de le faire: cela complique inutilement le code et son développement.  "
   ]
  },
  {
   "cell_type": "code",
   "execution_count": 38,
   "metadata": {},
   "outputs": [],
   "source": [
    "# Exercice: Prédire la sortie des différents print. Expliquez pourquoi.\n",
    "# Executer la fonction et comparer avec votre prédiction. \n",
    "def test_portee_variables():\n",
    "    def do_local():\n",
    "        variable = \"Cette valeur est locale\"\n",
    "        print('Dans la fonction do_local:', variable)\n",
    "\n",
    "    def do_nonlocal():\n",
    "        nonlocal variable\n",
    "        variable = \"Cette valeur est non locale\"\n",
    "\n",
    "    def do_global():\n",
    "        global variable\n",
    "        variable = \"Cette valeur est globale\"\n",
    "\n",
    "    variable = \"valeur\"\n",
    "    do_local()\n",
    "    print(\"Après une assignation locale:\", variable)\n",
    "    do_nonlocal()\n",
    "    print(\"Après une assignation non locale:\", variable)\n",
    "    do_global()\n",
    "    print(\"Après une assignation global:\", variable)"
   ]
  },
  {
   "cell_type": "code",
   "execution_count": 27,
   "metadata": {},
   "outputs": [],
   "source": [
    "test_portee_variables()\n",
    "print(\"Dans l'espace de nom global:\", variable)"
   ]
  },
  {
   "cell_type": "code",
   "execution_count": 36,
   "metadata": {},
   "outputs": [
    {
     "name": "stdout",
     "output_type": "stream",
     "text": [
      "140447310203464\n",
      "140447310203464\n",
      "140447310185864\n",
      "[1, 2, 3, 3]\n"
     ]
    }
   ],
   "source": [
    "# Les pièges précédent s'appliquent aussi !\n",
    "# Que pouvez vous dire de ce code ? \n",
    "\n",
    "liste = [1,2,3]\n",
    "print(id(liste))\n",
    "def penser_global():\n",
    "    print(id(liste))\n",
    "    liste.append(3)\n",
    "def agir_local():\n",
    "    liste = [1,2,3]\n",
    "    print(id(liste))\n",
    "    liste.append(4)\n",
    "penser_global()\n",
    "agir_local()\n",
    "print(liste)"
   ]
  },
  {
   "cell_type": "markdown",
   "metadata": {},
   "source": [
    "### Piège: les arguments par défaut des fonctions\n",
    "\n",
    "Les arguments par défaut d'une fonction font partie de l'espace de nom de l'objet de type `fonction` et non de l'espace de nom local créer à l'appel de la fonction. Voilà pourquoi il vaut mieux éviter de mettre des objets modifiables comme arguments par défaut."
   ]
  },
  {
   "cell_type": "code",
   "execution_count": 51,
   "metadata": {},
   "outputs": [
    {
     "data": {
      "text/plain": [
       "({5: 5}, {3: 3, 4: 4, 5: 5})"
      ]
     },
     "execution_count": 51,
     "metadata": {},
     "output_type": "execute_result"
    }
   ],
   "source": [
    "def fonction_inutile(a,b={}):\n",
    "    c = {a:a} #=> `c` est local à un appel de la fonction_inutile.\n",
    "    b[a] = a #=> `b` est local à l'objet fonction_inutile. \n",
    "    return c,b\n",
    "\n",
    "fonction_inutile(3)\n",
    "fonction_inutile(4)\n",
    "fonction_inutile(5)"
   ]
  },
  {
   "cell_type": "markdown",
   "metadata": {},
   "source": [
    "### Un dernier example illustré\n",
    "![](espace_de_nom.svg)\n",
    "\n",
    "```python\n",
    "import numpy as np\n",
    "\n",
    "def fonction_utile(alpha='argument_par_defaut'):\n",
    "    \"\"\"Multiplie par 3\"\"\"\n",
    "    beta = 3 \n",
    "    return alpha * beta  \n",
    "\n",
    "class Human():\n",
    "    \"\"\"Un primate capable de coder en python\"\"\"\n",
    "    espece = 'Homo sapiens'\n",
    "    def __init__(self, prenom=\"Jean\", nom=\"Sépasplus\"):\n",
    "        \"\"\"Méthode constructeur des objets Humans\"\"\"\n",
    "        self.nom = nom\n",
    "        self.prenom = prenom\n",
    "        \n",
    "    def dire_bonjour(self):\n",
    "        \"\"\"Dit bonjour à l'instance\"\"\"\n",
    "        print(\"Bonjour {}\".format(self.prenom))\n",
    "        \n",
    "a = Human(nom='Rie', prenom='Théo')\n",
    "b = Human(nom='Cover', prenom='Harry')\n",
    "\n",
    "```"
   ]
  },
  {
   "cell_type": "markdown",
   "metadata": {},
   "source": [
    "### La fermeture des espaces de nom (Avancé)\n",
    "\n",
    "Quand on définie des fonctions emboitées, la fonction la plus locale garde une référence à l'espace de nom des fonctions emboitantes. Ce mécanisme est appelé la fermeture de l'espace de nom (`closure` en anglais) et est très important en programation fonctionnelle car cela permet d'écrire des fonctions qui renvoient des fonctions:"
   ]
  },
  {
   "cell_type": "code",
   "execution_count": 40,
   "metadata": {},
   "outputs": [
    {
     "data": {
      "text/plain": [
       "4"
      ]
     },
     "execution_count": 40,
     "metadata": {},
     "output_type": "execute_result"
    }
   ],
   "source": [
    "def creer_additioneur(combien):\n",
    "    \"\"\"Retourne une fonction qui additionne \"\"\"\n",
    "    # Combien est local à creer_additioneur.\n",
    "    def additioneur(valeur):\n",
    "        # mais peut être utilisé dans la fonction sous-jacente.\n",
    "        return valeur+combien\n",
    "    return additioneur\n",
    "\n",
    "ajoute_un = creer_additioneur(1)\n",
    "# l'espace de nom local créé par l'appel à `creer_additioneur(1)` n'est pas détruit,\n",
    "# il subsiste par fermeture dans `ajoute_un`.\n",
    "ajoute_un(3)"
   ]
  },
  {
   "cell_type": "markdown",
   "metadata": {},
   "source": [
    "## Pourquoi Python est lent ? L'idée centrale derrière Numpy\n",
    "\n",
    "On vous a sûrement dit que python était lent par rapport aux langages compilés (par exemple le C). C'est vrai mais pourquoi est-ce le cas ? \n",
    "\n",
    "L'expressivité et la souplesse de Python ont un coût non négligeable [1]. Quand on additionne deux entiers en python, il faut: constater que le premier objet est un entier, utiliser sa méthode d'addition, constater que le second objet est un entier, créer un nouvel objet \"entier\" de sortie quelque part dans la mémoire,  réaliser l'opération d'addition, et remplir le nouvel objet.\n",
    "\n",
    "Cela nécessite de nombreuses opérations, alors que les langages compilés et statiquement typés ont assez d'information à priori sur la nature des éléments pour pouvoir faire l'addition directement sur les cases mémoire (en beaucoup moins d'opération pour le processeur).\n",
    "\n",
    "Mais Pyhton possède une fonctionnalité très importante pour remédier à ce problème, dont l'interface est fournie par numpy. Il est possible de manipuler directement des morceaux continus de mémoire à l'aide de Python grace à une interface de bas niveau appellée le *Buffer protocol* [2] qui a été développé pour numpy. \n",
    "\n",
    "Voilà pourquoi les `np.array` sont si rapides pour les opérations élément par élément. Ils correspondent à un bloc contigu dans la mémoire, et les architectures actuelles (des controlleurs mémoires aux processeurs) sont optimisés pour réaliser efficacement ces opérations [3]. Par contre ils sont en général moins rapide que des listes si on change leur taille souvent, et ils n'ont pas beaucoup d'avantage s'ils contiennent des (références) à des objets.\n",
    "\n",
    "\n",
    "Au final, c'est un compromis à trouver entre temps de développement et temps d'exécution. Le code python bien vectorisé avec numpy est facile à écrire et assez rapide pour la majeure partie des applications en biologie.\n",
    "\n",
    "![](numpy.svg)\n",
    "\n",
    "Références:\n",
    "\n",
    "1. [Why Python is slow](https://jakevdp.github.io/blog/2014/05/09/why-python-is-slow/) de l'astronome et éminent pythoniste Jake VanderPlas. \n",
    "2. [La structure continue dans la mémoire des arrays numpy permet d'accélérer les calculs](https://en.wikipedia.org/wiki/Locality_of_reference) et de s'affranchir de pas mal de lenteurs en python.\n",
    "3. [Python is the fastest growing programming language due to a feature you've never heard of](https://jeffknupp.com/blog/2017/09/15/python-is-the-fastest-growing-programming-language-due-to-a-feature-youve-never-heard-of/)\n",
    "\n",
    "### Quel est l'avantage de numpy en terme de vitesse ? \n",
    "Ne me prenez pas au mot, essayez ! \n",
    "\n",
    "La commande magique `%%timeit` permet d'executer le code d'une cellule de nombreuses fois et de calculer son temps moyen d'exécution. Comparez les deux exemples suivants:"
   ]
  },
  {
   "cell_type": "code",
   "execution_count": 46,
   "metadata": {},
   "outputs": [],
   "source": [
    "import numpy as np"
   ]
  },
  {
   "cell_type": "code",
   "execution_count": 47,
   "metadata": {},
   "outputs": [],
   "source": [
    "a = list(range(500000)) # Une liste python\n",
    "c = np.arange(500000) # Un array numpy"
   ]
  },
  {
   "cell_type": "code",
   "execution_count": 48,
   "metadata": {},
   "outputs": [
    {
     "name": "stdout",
     "output_type": "stream",
     "text": [
      "21.7 ms ± 35.1 µs per loop (mean ± std. dev. of 7 runs, 10 loops each)\n"
     ]
    }
   ],
   "source": [
    "%%timeit\n",
    "# En utilisant des listes\n",
    "b = [i*2 for i in a]"
   ]
  },
  {
   "cell_type": "code",
   "execution_count": 49,
   "metadata": {},
   "outputs": [
    {
     "name": "stdout",
     "output_type": "stream",
     "text": [
      "258 µs ± 5.16 µs per loop (mean ± std. dev. of 7 runs, 1000 loops each)\n"
     ]
    }
   ],
   "source": [
    "%%timeit\n",
    "# En utilisant des np.array\n",
    "d = c*2"
   ]
  }
 ],
 "metadata": {
  "kernelspec": {
   "display_name": "Python 3",
   "language": "python",
   "name": "python3"
  },
  "language_info": {
   "codemirror_mode": {
    "name": "ipython",
    "version": 3
   },
   "file_extension": ".py",
   "mimetype": "text/x-python",
   "name": "python",
   "nbconvert_exporter": "python",
   "pygments_lexer": "ipython3",
   "version": "3.5.3"
  },
  "toc": {
   "base_numbering": 1,
   "nav_menu": {
    "height": "274px",
    "width": "248px"
   },
   "number_sections": true,
   "sideBar": true,
   "skip_h1_title": false,
   "title_cell": "Table of Contents",
   "title_sidebar": "Contents",
   "toc_cell": false,
   "toc_position": {},
   "toc_section_display": true,
   "toc_window_display": false
  }
 },
 "nbformat": 4,
 "nbformat_minor": 2
}
