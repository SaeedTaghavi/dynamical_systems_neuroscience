{
 "cells": [
  {
   "cell_type": "markdown",
   "metadata": {},
   "source": [
    "# Les paradigmes de programmation\n",
    "\n",
    "## La place de la programmation dans la recherche  \n",
    "\n",
    "### Le menuisier et l'architecte \n",
    "La programmation informatique consiste en identifier des problèmes qui peuvent être résolu automatiquement, en concevoir des solutions algorithmiques et à les transcrire en langage informatique (les \"coder\"). Ces méthodes sont largement répandues dans la pratique actuelle de la science. Ainsi, il est crucial d'en saisir les bases.   \n",
    "\n",
    "Qu'on se le dise un chercheur n'est pas un ingénieur en génie logiciel et a des besoins très différents en termes de connaissances en programmation. La plupart des chercheurs en biologie sont amenés à écrire des programmes, souvent courts et monotâches, qui s'inscrivent dans le cadre d'une analyse plus globale d'une question scientifique. Même si des méthodes générales peuvent faire l'objet d'une intégration dans des logiciels ou des bibliothèques de plus grande envergure, cela représente une fraction plus faible des chercheurs, et cela arrive le plus souvent comme l'aboutissement d'une démarche de recherche et non comme l'objectif premier.\n",
    "\n",
    "Une image classique pour comparer l'usage de la programmation par un chercheur ou par un développeur est celle du menuisier et de l'architecte. Le menuisier réalise des pièces plus petites et plus artisanales que l'architecte qui planifie des bâtiments entiers. Les attentes et les outils sont différents, même si elles se rejoignent parfois. Il n'est pas nécessaire d'être un bon architecte pour être un bon menuisier, mais il faut tout de même avoir un certain nombre de connaissances afin de produire des objets de qualité. Il en va de même pour la programmation informatique. \n",
    "\n",
    "\n",
    "### De l'abstraction \n",
    "\n",
    "Raisonner à propos d'un système nécessite de construire un certain nombre d'abstractions que l'on puisse manipuler. \n",
    "\n",
    "Quand les problèmes sont complexes, il est vital de pouvoir manipuler des abstractions bien définies. Si on sait que nos abstractions qu'elles fonctionnent bien et qu'elles n'ont pas d'effet secondaire indésirable sur le reste du code, on peut construire des solutions plus complexe, mais qui restent simples dans leur expression. \n",
    "\n",
    "On parle de **barrière d'abstraction** pour désigner le fait que l'on doit pouvoir manipuler des abstractions de haut niveau sans se soucier de leurs détails d'implémentation (voire même sans les connaître ! Il n'est pas nécessaire de tout connaître du *buffer protocol* pour utiliser `numpy` par exemple). \n",
    "\n",
    "De manière générale, on dit qu'un code est **modulaire** s'il est composé d'éléments (modules -à ne pas confondre avec les modules Python-) les plus indépendants possibles les un des autres, et qui fonctionnent ensemble simplement. Quand les modules sont bien indépendants, il est possible de les développer et les tester indépendamment et de les réutiliser simplement dans d'autres projets.\n",
    "\n",
    "Ainsi, les bibliothèques de calcul scientifiques (numpy, sympy..) sont développées et testées indépendamment et réutilisées dans la majorité des programmes python scientifiques.\n",
    "\n",
    "### Comment écrire des abstractions ?\n",
    "\n",
    "On appelle *paradigmes* de programmation des ensembles d'abstractions qui régissent la manière de transcrire les problèmes réels en langage informatique.\n",
    "\n",
    "Python est un langage multi-paradigme, dans le sens où il permet de programmer selon différents paradigmes. Je vous propose de voir quelques idées sur trois d'entre eux: la programmation impérative, la programmation orienté-objet et la programmation fonctionnelle. \n"
   ]
  },
  {
   "cell_type": "markdown",
   "metadata": {},
   "source": [
    "## La programmation Impérative (et procédurale)\n",
    "\n",
    "La programmation impérative est le paradigme de programmation le plus ancien. Il consiste à résoudre un problème en listant une série d'instructions (assignations, boucles, conditions, opérations) qui modifient l'état d'un programme jusqu'à obtenir la solution. On donne une recette de cuisine qui est suivie ligne à ligne par l'interpréteur."
   ]
  },
  {
   "cell_type": "code",
   "execution_count": 15,
   "metadata": {},
   "outputs": [
    {
     "name": "stdout",
     "output_type": "stream",
     "text": [
      "Le motif TAG se trouve aux positions: [115, 160, 194, 262, 368, 422, 505, 563]\n"
     ]
    }
   ],
   "source": [
    "# Voici un exemple de la recherche d'un motif en programmation impérative.\n",
    "SEQ = \"AGGAAACATGGGTGCTTCACCTTCCCTCCCTGTTCGTTATACATGGCAATCTCGACAGCTCATAAGTAAAAATATGTACTTTGCCAGGGTGTTACTGGAGAGGAGTCAATCTGGATAGATGAGACGACCGCGTCGGGTGACCTTCGGCCCTCGCCGGTTATAGATTCTCGGAGGTACGGGTCCAAGATTCATGTTAGTTTCATCAGAAAGTCTCTCCTGCTCTCCAGTGGCCAGTCTGCCGACTGTGGACTGCCGAGAGCTGTAGCAGACTCTAAGGCGGCTTTACGACGTGAAAAGGCCGAGCCTTTCAGAAGTAACGATCCGCAGCAAGCTTGTGTATACTTCGAATCATATCGCCCCAGCGGCGATAGCTCTCAGTAACAAGACCATGCACCCACGTTGTGAGTGAATTAACTGGGCTATAGATGCCACCCCCTCCAGTGGTCGTGGGCATAATACGCTCCCGGCGACGCGTATTCCGGGAAAGGCAATGTACATCGGAGAATAGCAGCAAGATTATCAGCGGTTGTCTTTTCGTACCCCTTACGCGCAGGTTCGGGGGATAGATCATC\"\n",
    "PATTERN = \"TAG\"\n",
    "L = len(PATTERN)\n",
    "pos = []\n",
    "for i in range(len(SEQ) - L):\n",
    "    if SEQ[i:i+L]==PATTERN:\n",
    "        pos.append(i)\n",
    "if pos:\n",
    "    print('Le motif {} se trouve {} position{}: {}'.format(PATTERN,\n",
    "                                                          'à la' if len(pos)==1 else 'aux',\n",
    "                                                          '' if len(pos)==1 else 's',\n",
    "                                                          pos))\n",
    "else:\n",
    "    print('Le motif ne se trouve pas dans la séquence')"
   ]
  },
  {
   "cell_type": "markdown",
   "metadata": {},
   "source": [
    "Les programmes purement impératifs sont très souvent structurés en \"procédures\" qui regroupent et nomment les instructions. En Python les procédures sont des fonctions sans arguments et ne renvoyant pas de valeur."
   ]
  },
  {
   "cell_type": "code",
   "execution_count": 14,
   "metadata": {},
   "outputs": [
    {
     "name": "stdout",
     "output_type": "stream",
     "text": [
      "Le motif TAG se trouve aux positions: [115, 160, 194, 262, 368, 422, 505, 563]\n"
     ]
    }
   ],
   "source": [
    "def initialisation():\n",
    "    global SEQ \n",
    "    global PATTERN \n",
    "    global L \n",
    "    SEQ = \"AGGAAACATGGGTGCTTCACCTTCCCTCCCTGTTCGTTATACATGGCAATCTCGACAGCTCATAAGTAAAAATATGTACTTTGCCAGGGTGTTACTGGAGAGGAGTCAATCTGGATAGATGAGACGACCGCGTCGGGTGACCTTCGGCCCTCGCCGGTTATAGATTCTCGGAGGTACGGGTCCAAGATTCATGTTAGTTTCATCAGAAAGTCTCTCCTGCTCTCCAGTGGCCAGTCTGCCGACTGTGGACTGCCGAGAGCTGTAGCAGACTCTAAGGCGGCTTTACGACGTGAAAAGGCCGAGCCTTTCAGAAGTAACGATCCGCAGCAAGCTTGTGTATACTTCGAATCATATCGCCCCAGCGGCGATAGCTCTCAGTAACAAGACCATGCACCCACGTTGTGAGTGAATTAACTGGGCTATAGATGCCACCCCCTCCAGTGGTCGTGGGCATAATACGCTCCCGGCGACGCGTATTCCGGGAAAGGCAATGTACATCGGAGAATAGCAGCAAGATTATCAGCGGTTGTCTTTTCGTACCCCTTACGCGCAGGTTCGGGGGATAGATCATC\"\n",
    "    PATTERN = \"TAG\"\n",
    "    L = len(PATTERN)\n",
    "    \n",
    "def recherche():\n",
    "    global pos \n",
    "    pos = []\n",
    "    for i in range(len(SEQ) - L):\n",
    "        if SEQ[i:i+L]==PATTERN:\n",
    "            pos.append(i)\n",
    "            \n",
    "def affichage():\n",
    "    if pos:\n",
    "        print('Le motif {} se trouve {} position{}: {}'.format(PATTERN,\n",
    "                                                              'à la' if len(pos)==1 else 'aux',\n",
    "                                                              '' if len(pos)==1 else 's',\n",
    "                                                              pos))\n",
    "    else:\n",
    "        print('Le motif ne se trouve pas dans la séquence')\n",
    "        \n",
    "initialisation()\n",
    "recherche()\n",
    "affichage()"
   ]
  },
  {
   "cell_type": "markdown",
   "metadata": {},
   "source": [
    "## La programmation Orientée Objet\n",
    "\n",
    "Dans la programmation objet, l'abstraction centrale est l'*objet*. Un objet est un conteneur symbolique qui contient des données et des comportements. Souvent les objets sont programmés en analogie avec des objets réels ou des concepts. En programmation orientée objet, le problème est transcrit en la construction d'un certain nombre d'objets avec des comportements spécifiques dont la manipulation permet de le résoudre. \n",
    "\n",
    "On distingue deux types d'information contenue dans un objet: \n",
    "\n",
    "- Les Attributs: sont des données qui précisent les caractéristiques de l'objet.\n",
    "- Les Méthodes: sont des fonctions qui précisent le comportement de l'objet.\n",
    "\n",
    "En Python, méthodes et attributs d'un objet sont référencés dans son espace de nom. On y accède avec la syntaxe `objet.methode()` ou `objet.attribut`. \n",
    "\n",
    "L'utilisateur d'un objet n'accède en général pas aux attributs directement, mais n'interagit avec l'objet que par ses méthodes, dont les détails d'implémentations sont laissés au développeur de l'objet (et peuvent potentiellement changer sans poser de problème à l'utilisateur si le code est bien modulaire.). Les méthodes abstraient des comportements complexes en une \"boite noire\". On parle d'**encapsulation**. \n",
    "\n",
    "### Créer un objet\n",
    "En Python, on construit des objets en instanciant une Classe d'objet. Une classe décrit un type d'objet. Elle donne le patron (*template*), la recette de cuisine, nécessaire pour produire un objet d'un certain type.\n",
    "\n",
    "Une classe contient en général une méthode spéciale appelée à chaque fois qu'un objet est instancié (`__init__`, en python) et qui initialise les attributs de l'objet. \n",
    "\n",
    "Une classe peut aussi contenir un certain nombre d'autre méthodes qui seront automatiquement accessibles aux objets instanciés. \n",
    "\n",
    "Rappelez-vous, comme tout est objet en python, les entiers, les chaînes de caractères mais aussi les modules, fonctions et les classes elles-mêmes sont des objets ! L'initialisation de ces objets est souvent implicite.  "
   ]
  },
  {
   "cell_type": "code",
   "execution_count": 110,
   "metadata": {},
   "outputs": [
    {
     "data": {
      "text/html": [
       "<div style=\"word-break:break-all;border:1px solid #aaaaaa;background:#eeeeee;\"><header style=\"background:white;color:#666666\">Sequence of length 23:</header>ATGC<span style=\"color:white; background:#e15759;\"><span style=\"color:white; background:#e15759;\">TAG</span></span>ATACTGATTCGATGGT</div>"
      ],
      "text/plain": [
       "Sequence of length 23, ATGCTAGATA..."
      ]
     },
     "execution_count": 110,
     "metadata": {},
     "output_type": "execute_result"
    }
   ],
   "source": [
    "# Voici un petit exemple de comment écrire une classe pour une abstraction utile en biologie. \n",
    "# La séquence. \n",
    "\n",
    "# Il est d'usage en Python de réserver aux classes les noms commençant par une majuscule.\n",
    "class Seq:\n",
    "    \"\"\"Les objets de la classe Seq représentent une séquence.\"\"\"\n",
    "    \n",
    "    attribut_de_classe = \"coucou\" # Cet attributs appartient à l'objet classe et est accessible à toutes les instances\n",
    "    \n",
    "    def __init__(self, seq):\n",
    "        \"\"\"La méthode spéciale __init__ est appelée quand un nouvel objet est instancié.\n",
    "        C'est elle qui spécifie comment l'objet est construit à partir de ses paramètres.\"\"\"\n",
    "        # self fait toujours référence à l'espace de nom propre à l'objet instancié. \n",
    "        # Il faut toujours le préciser comme premier paramètre de toute méthode.\n",
    "        self.seq = seq\n",
    "        \n",
    "    def __len__(self):\n",
    "        \"\"\"La méthode spéciale __len__ est appelée par la fonction len(obj) elle doit renvoyer\n",
    "        la \"longueur\" de l'objet.\"\"\"\n",
    "        return len(self.seq)\n",
    "    \n",
    "    def __repr__(self):\n",
    "        \"\"\"La méthode spéciale __repr__ est appelée pour obtenir une représentation texte de la séquence,\n",
    "        par exemple par la fonction print.\"\"\"\n",
    "        return 'Sequence of length {}, {}{}'.format(len(self),\n",
    "                                                    self.seq[:10],\n",
    "                                                    '...' if len(self)>10 else '')\n",
    "    \n",
    "    def __add__(self, other):\n",
    "        \"\"\"La méthode spéciale __add__ est appelée quand on utilise l'opérateur + sur l'objet\"\"\"\n",
    "        return Seq(self.seq+other.seq)\n",
    "\n",
    "    def _repr_html_(self):\n",
    "        \"\"\"La méthode spéciale _repr_html_ (/!\\ au soulignement unique) est appelée par le notebook pour\n",
    "        obtenir une représentation HTML de l'objet\"\"\"\n",
    "        # Un peu de CSS\n",
    "        style_seq = \"word-break:break-all;border:1px solid #aaaaaa;background:#eeeeee;\"\n",
    "        style_header = \"background:white;color:#666666\"\n",
    "        style_start = \"color:white; background:#59a14f\"\n",
    "        style_end = \"color:white; background:#e15759;\"\n",
    "        \n",
    "        # Construire le HTML\n",
    "        html = self.seq.replace('ATC', '<span style=\"{}\">ATC</span>'.format(style_start))\n",
    "        for stop in ('TAG','TAG','TAA'):\n",
    "            html = html.replace(stop, '<span style=\"{}\">{}</span>'.format(style_end, stop))\n",
    "        header = '<div style=\"{}\"><header style=\"{}\">Sequence of length {}:</header>'.format(style_seq, style_header, len(self.seq))\n",
    "        return header+html+'</div>'\n",
    "    \n",
    "Seq('ATGCTAGATACTGATTCGATGGT')"
   ]
  },
  {
   "cell_type": "code",
   "execution_count": 111,
   "metadata": {},
   "outputs": [
    {
     "data": {
      "text/html": [
       "<div style=\"word-break:break-all;border:1px solid #aaaaaa;background:#eeeeee;\"><header style=\"background:white;color:#666666\">Sequence of length 22:</header><span style=\"color:white; background:#59a14f\">ATC</span>ATGCGATACCGTTACG<span style=\"color:white; background:#e15759;\"><span style=\"color:white; background:#e15759;\">TAG</span></span></div>"
      ],
      "text/plain": [
       "Sequence of length 22, ATCATGCGAT..."
      ]
     },
     "execution_count": 111,
     "metadata": {},
     "output_type": "execute_result"
    }
   ],
   "source": [
    "# Exemple de l'utilisation de __add__\n",
    "Seq('ATC')+Seq('ATGCGATACCGTTACG')+Seq('TAG')"
   ]
  },
  {
   "cell_type": "code",
   "execution_count": null,
   "metadata": {},
   "outputs": [],
   "source": [
    "#Exercice:\n",
    "#- Ajoutez une méthode `.get_orf()` à cette classe pour chercher les ORF.\n",
    "#- Ajoutez une méthode `.to_fasta()` à cette classe qui convertit la séquence au format fasta.\n",
    "#- Ajoutez une méthode `.save(format=fasta|text)` à cette classe qui sauvegarde la séquence dans un fichier.\n",
    "#- (avancé) Créez une nouvelle classe RNA ou DNA qui vérifie si la séquence d'entrée est valide et lève une exception si non. Vous pouvez utiliser le système d'[Héritage des classes](https://docs.python.org/3.7/tutorial/classes.html#inheritance) pour construire une nouvelle classe qui hérite des méthodes de son ancêtre.\n",
    "#- (avancé) Un peu de lecture: le paquet BioPython implémente lui aussi une classe [Seq](https://github.com/biopython/biopython/blob/master/Bio/Seq.py#L70). Comparez avec votre propre code."
   ]
  },
  {
   "cell_type": "markdown",
   "metadata": {},
   "source": [
    "### (Avancé) Accesseurs, Mutateurs et Propriétés\n",
    "\n",
    "**Cette section est vraiment optionnelle et est à réserver à ceux qui veulent vraiment écrire de belles classes en python**\n",
    "\n",
    "En programmation orientée objet traditionelle (par exemple en Java), on accède et ne modifie jamais les valeurs des attributs d'un objet directement. Pour cela on utilise des méthodes particulières appelées accesseurs (get) et mutateurs (set). En Python, ces constructions sont optionnelles, mais vous les rencontrerez dans beaucoup de bibliothèques (ax.set_title dans matplotlib par exemple)."
   ]
  },
  {
   "cell_type": "code",
   "execution_count": 100,
   "metadata": {},
   "outputs": [
    {
     "name": "stdout",
     "output_type": "stream",
     "text": [
      "8\n",
      "9\n"
     ]
    }
   ],
   "source": [
    "class A:\n",
    "    def __init__(self, att):\n",
    "        self.att = att\n",
    "obj = A(8)\n",
    "print(obj.att) #=> acceder sans accesseur\n",
    "obj.att = 9 #=> modifier sans mutateur\n",
    "print(obj.att)"
   ]
  },
  {
   "cell_type": "markdown",
   "metadata": {},
   "source": [
    "L'intérêt principal des accesseurs et mutateurs et de rajouter un comportement particulier au moment où un attribut est lu ou modifié. Par exemple, peut-être que la valeur est longue à calculer, l'accesseur permet de ne faire le calcul que si on souhaite effectivement lire cette valeur. Autre exemple, la valeur doit être positive, le mutateur permet de lever une exception si l'utilisateur entre une valeur fausse.\n",
    "\n",
    "```python\n",
    "    class B(A):\n",
    "        def get_att(self):\n",
    "            ''' Accesseur pour att\n",
    "            Un accesseur permet de ne calculer la valeur que si on la demande'''\n",
    "            return long_et_compliqué_calcul()\n",
    "        def set_att2(self, value):\n",
    "            \"\"\"Mutateur pour att2\n",
    "            Un mutateur permet d'executer du code avant de changer la valeur d'un attribut.\n",
    "            Celui-ci vérifie que la valeur est positive.\n",
    "            \"\"\"\n",
    "            if value < 0:\n",
    "                raise ValueError(\"att2 doit être positif\")\n",
    "            self.att2 = value\n",
    "```\n",
    "\n",
    "De manière générale, les accesseurs et les mutateurs donnent beaucoup de flexibilité au développeur de l'objet, tout en lui permettant de conserver une interface (exposée à l'utilisateur de l'objet) stable. Le mutateur et l'accesseur peuvent lire/écrire tous les attributs de l'objet: la représentation interne de l'attribut peut donc changer, de manière transparente pour l'utilisateur. Par exemple, on peut décider de changer la représentation interne de att2 d'une liste à un dictionnaire en ne modifiant que le mutateur associé. Ils ont un role important pour l'*encapsulation*.\n",
    "\n",
    "Mais les accesseurs et les mutateurs sont assez lourds à utiliser en Python, et n'empêchent pas l'utilisateur d'accéder directement aux attributs avec la syntaxe `objet.attribut`. Voilà pourquoi, comme souvent, il existe une alternative syntaxique plus pratique: les [properties](https://docs.python.org/3/library/functions.html?highlight=property#property) qui surcharge le comportement classique de python (`objet.attribut`)."
   ]
  },
  {
   "cell_type": "code",
   "execution_count": 105,
   "metadata": {},
   "outputs": [
    {
     "name": "stdout",
     "output_type": "stream",
     "text": [
      "2\n",
      "Le mutateur est bien appelé\n"
     ]
    }
   ],
   "source": [
    "class A:\n",
    "    def __init__(self):\n",
    "        self._att = None \n",
    "        # Préfixer un attribut par _ en python est une convention qui signifie que \n",
    "        # L'utilisateur ne devrait PAS accéder directement à cet attribut.\n",
    "        \n",
    "    @property # ceci est un décorateur, il modifie la fonction qui le suit. \n",
    "    def att(self):\n",
    "        \"\"\"Accesseur de l'attribut att\"\"\"\n",
    "        if self._att is None:\n",
    "            self._att = calcul_long_et_complique()\n",
    "        return self._att\n",
    "    \n",
    "    # ce second décorateur (optionel) doit avoir le nom <atttribut>.setter où <attribut> correspond a la method décorée par properties\n",
    "    @att.setter \n",
    "    def att(self,value):\n",
    "        \"\"\"Mutateur de l'attribut att\"\"\"\n",
    "        if value<0:\n",
    "            raise ValueError('att doit être positif')\n",
    "        self._att = value\n",
    "        \n",
    "def calcul_long_et_complique():\n",
    "    return 1+1\n",
    "\n",
    "obj = A()\n",
    "print(obj.att) #=> appele l'accesseur !\n",
    "obj.att = 4 #=> Appele le mutateur !\n",
    "try:\n",
    "    obj.att = -4\n",
    "except ValueError:\n",
    "    print('Le mutateur est bien appelé')"
   ]
  },
  {
   "cell_type": "markdown",
   "metadata": {},
   "source": [
    "Maintenant, tous les attributs, même ceux qui nécessitent un accesseur/mutateur non trivial fonctionnent avec la syntaxe `objet.attribut` ! Donc vous pouvez utliser des attributs normaux tout le temps et ne passer aux `properties` que pour les cas qui le demandent."
   ]
  },
  {
   "cell_type": "markdown",
   "metadata": {},
   "source": [
    "## La programmation Fonctionnelle \n",
    "\n",
    "En programmation fonctionnelle, l'abstraction centrale est la `fonction`. Elle est très proche du concept de fonction en mathématique ce qui explique qu'elle est particulièrement adaptée pour un grand nombre de problèmes qui peuvent se formaliser mathématiquement. \n",
    "\n",
    "### Fonctions pures \n",
    "Les fonctions prennent un certain nombre de paramètres en entrée et retournent un certain nombre de sorties. Idéalement les fonctions doivent être \"pure\" dans le sens où elles n'ont aucun effet de bord:\n",
    "- pour un ensemble d'arguments donnés, leur valeur de sortie ne dépend pas du reste de l'état du programme \n",
    "- elles ne modifient pas l'état du programme hors de leur valeur de sortie.\n",
    "\n",
    "Les fonctions pures ont de nombreux avantages liés à leur absence d'effet de bord: on peut plus facilement vérifier leur exactitude (on peut même prouver qu'elles sont vraies à l'aide de théorèmes mathématiques), on peut les utiliser dans n'importe quel ordre ou les composer sans risque.\n",
    "\n",
    "En revanche, ces conditions restrictives interdisent l'utilisation de variables globales, d'objets modifiables, mais aussi de toutes les sorties autre que return (`print`, `file.write`...). Ainsi un programme purement fonctionnel... ne peut pas interagir avec l'extérieur. \n",
    "\n",
    "Voilà pourquoi en pratique un programme fonctionnel à tout de même des effets de bords, mais ceci sont le plus possible restreint et séparés de la logique interne. \n",
    "\n",
    "Références: [How To functional programming (Python documentation)](https://docs.python.org/3.7/howto/functional.html)"
   ]
  },
  {
   "cell_type": "markdown",
   "metadata": {},
   "source": [
    "### Comprendre les itérables\n",
    "\n",
    "Un itérateur en python est un type d'objet particulier qui représente un flux de données. Il possède une méthode `__next__()` qui renvoie l'élément suivant du flux, ou lève une exception `StopIteration` si on est arrivé au bout du flux. \n",
    "\n",
    "Les itérateurs sont partout en Python. Ils sont créés implicitement dès que l'ont fait une boucle `for` mais ils sont plus rarement instanciés explicitement, même si cela est possible avec la fonction `iter()`. Un objet à partir duquel on peut obtenir un itérateur est appelé un (objet) itérable."
   ]
  },
  {
   "cell_type": "code",
   "execution_count": 65,
   "metadata": {},
   "outputs": [
    {
     "data": {
      "text/plain": [
       "[('A', 1), ('B', 2), ('C', 3)]"
      ]
     },
     "execution_count": 65,
     "metadata": {},
     "output_type": "execute_result"
    }
   ],
   "source": [
    "# Exemple d'itérables: \n",
    "for element in (1,2,3): #=> les tuples, les listes\n",
    "    pass #=> pass ne fait rien\n",
    "for key in {'a':1, 'b':2}: #=> les dictionnaires\n",
    "    pass\n",
    "for i in range(3): #=> Les objets range\n",
    "    pass \n",
    "\n",
    "# Ces boucles sont équivalentes à faire:\n",
    "for element in iter((1,2,3)): \n",
    "    pass\n",
    "# L'appel à iter est implicite. \n",
    "\n",
    "# La fonction zip prend plusieurs itérables et renvoie\n",
    "# un itérateur dont la i-ème entrée est un tuple qui contient \n",
    "# le i-ème élément de chaque  itérateur. \n",
    "zipped = zip(('A','B','C'),(1,2,3))\n",
    "\n",
    "# Les itérables ne peuvent être utilisés qu'une seule fois ! On ne peut pas revenir en arrière. \n",
    "# Une fois l'exception StopIteration levée. Il ne sert plus à rien.\n",
    "# Même lire un itérateur le \"détruit\".\n",
    "it = iter((1,2,3))\n",
    "\n",
    "it.__next__() #=> 1\n",
    "it.__next__() #=> 2\n",
    "it.__next__() #=> 3\n",
    "try:\n",
    "    it.__next__() # Tout appel supplémentaire à __next__() lève une exception.\n",
    "except StopIteration:\n",
    "    pass\n",
    "\n",
    "# Les constructeurs des listes et tuples acceptent les itérateurs.\n",
    "# Si vous voulez utiliser un itérateur (par exemple renvoyé par zip) plusieurs fois\n",
    "# il faut le convertir en liste ou en tuple.\n",
    "list(zipped)"
   ]
  },
  {
   "cell_type": "markdown",
   "metadata": {},
   "source": [
    "### Opérations de bases en programmation fonctionnelle: map, filter, reduce\n",
    "\n",
    "La programmation fonctionnelle fait appel à trois grandes opérations sur les itérateurs:\n",
    "\n",
    "- L'opération `map(fonction, itérable)` applique la fonction à tous les éléments de l'itérable et retourne un nouvel itérable. \n",
    "- L'opération `filter(fonction, itérable)` renvoie un itérable qui ne contient que les éléments de l'itérable d'entrée pour lesquels la fonction évalue à True. \n",
    "- L'opération `reduce(fonction, itérable, init)` renvoie le résultat de la récurrence $X_n = fonction(X_{n-1}, I_n)$ où $I_0$=`init` et $I_n$=`itérable[n-1]`.\n",
    "\n",
    "Les fonctions `map` est `filter` font partie de l'espace de nom réservé de Python, `reduce` doit être importé depuis `functools`. Pour les opérations `map` et `filter` cependant, il est d'usage de les écrire sous forme de compréhension de liste.\n",
    "\n",
    "\n",
    "```python\n",
    "list(map(f, it)) <===> [f(x) for x in it]\n",
    "list(filter(f,it)) <===> [x for x in it if f(x)]\n",
    "```\n",
    "\n"
   ]
  },
  {
   "cell_type": "code",
   "execution_count": 51,
   "metadata": {},
   "outputs": [],
   "source": [
    "from functools import reduce\n",
    "import random\n",
    "import numpy as np \n",
    "\n",
    "def random_seq(N):\n",
    "    \"\"\"Create a random DNA sequence of length N by mapping the function \n",
    "    random.choice on the [0,1,2...N-1] array\"\"\"\n",
    "    return ''.join([random.choice('ATGC') for _ in range(N)])\n",
    "\n",
    "def compute_gc(seq):\n",
    "    \"\"\"Compute gc content of a sequence\"\"\"\n",
    "    # Ici on utilise reduce pour accumuler le compte le long de la séquence.\n",
    "    # Regardez collection.Counter pour une solution toute faite !\n",
    "    count = {'A':0,'T':0,'G':0,'C':0}\n",
    "    def counter(count, caracter):\n",
    "        count[caracter] += 1\n",
    "        return count\n",
    "    count = reduce(counter, seq, count)\n",
    "    return (count['G']+count['C'])/len(seq)\n",
    "\n",
    "# Créer une liste de séquences avec un map:\n",
    "sequences = [random_seq(100) for _ in range(10)]\n",
    "\n",
    "# Calculer leur GC content:\n",
    "gc = [compute_gc(seq) for seq in sequences]\n",
    "\n",
    "# N'afficher que les GC > 0.5 avec un filter:\n",
    "highgc = [x for x in gc if x>0.5]\n",
    "\n",
    "# calculer la moyenne avec reduce:\n",
    "mean_red = reduce(lambda x,y: x+y, gc, 0)/len(gc)\n",
    "\n",
    "# ou numpy...\n",
    "mean_np = np.mean(gc)\n",
    "assert mean_red == mean_np\n",
    "\n",
    "# Associer les GC et les séquences avec un zip... et filtrer pour les hauts GC.\n",
    "highgc = [seq for seq,g in zip(sequences, gc) if g>0.5]"
   ]
  },
  {
   "cell_type": "markdown",
   "metadata": {},
   "source": [
    "### Applications partielles \n",
    "\n",
    "Finalement la programmation fonctionnelle fait appel à des \"fonction de haut niveau\", c'est à dire des fonctions qui renvoient d'autres fonctions. \n",
    "\n",
    "Nous avons déjà vu comment la fermeture des espaces de nom permet de faire cela dans le cours sur les espaces de noms. Voici une autre méthode, la définition d'*[applications partielles](https://en.wikipedia.org/wiki/Partial_application)*. \n",
    "\n",
    "Soit une fonction de deux variables $f: E_1\\times E_2 \\to F$ $f(x,y) \\in F$. On définit l'application partielle $g$ de $f$ pour une valeur $a$ de $y$ par $g: E_1 \\to F$:\n",
    "\n",
    "$$g(x) = f(x,a)$$\n"
   ]
  },
  {
   "cell_type": "code",
   "execution_count": 67,
   "metadata": {},
   "outputs": [],
   "source": [
    "# En python les applications partielles sont définies à l'aide de functools.partial\n",
    "from functools import partial\n",
    "\n",
    "def f(x,y):\n",
    "    return x**2+y\n",
    "\n",
    "# Partial est une fonction de haut niveau,\n",
    "# qui prend comme paramètre la fonction de départ et\n",
    "# la valeur des arguments à fixer\n",
    "# et qui renvoie une fonction.\n",
    "g = partial(f, y=3) #=> g est une fonction ! \n",
    "assert g(10) == f(10,3)"
   ]
  },
  {
   "cell_type": "code",
   "execution_count": 76,
   "metadata": {},
   "outputs": [
    {
     "data": {
      "text/plain": [
       "12"
      ]
     },
     "execution_count": 76,
     "metadata": {},
     "output_type": "execute_result"
    }
   ],
   "source": [
    "# Petit piège: partial ne change pas l'ordre des arguments ! \n",
    "h = partial(f, x=3)\n",
    "# h(3) revient à f(3, x=3) => TypeError: multiple argument for x \n",
    "# dans ce cas où on fixe les premiers arguments, \n",
    "# il faut ensuite appeler les autres par leur mot clé\n",
    "h(y=3)"
   ]
  },
  {
   "cell_type": "code",
   "execution_count": 88,
   "metadata": {},
   "outputs": [
    {
     "data": {
      "image/png": "[encoded data removed]",
      "text/plain": [
       "<Figure size 432x288 with 1 Axes>"
      ]
     },
     "metadata": {},
     "output_type": "display_data"
    }
   ],
   "source": [
    "# Une utilisation très pratique de ce mécanisme est fixer des paramètres quand on fait des simulations. \n",
    "def croissance_malthusienne(N0, t, r):\n",
    "    \"\"\"Une croissance malthusienne\"\"\"\n",
    "    return N0*r**t\n",
    "\n",
    "# On fixe les paramètres une fois pour toute ici et on a plus besoin de les \n",
    "# reporter plus tard dans le code. \n",
    "doubling = partial(croissance_malthusienne, r=2)\n",
    "\n",
    "import matplotlib.pyplot as plt\n",
    "%matplotlib inline\n",
    "t = np.linspace(0,3,100)\n",
    "for N0 in (1,2,3):\n",
    "    plt.plot(t,doubling(N0=N0, t=t), label='$N_0$ = {}'.format(N0))\n",
    "plt.legend();"
   ]
  },
  {
   "cell_type": "markdown",
   "metadata": {},
   "source": [
    "Cette opération est souvent rapprochée d'une autre appelée *[currying](https://en.wikipedia.org/wiki/Currying)* qui n'est pas très utilisée en Python."
   ]
  }
 ],
 "metadata": {
  "kernelspec": {
   "display_name": "Python 3",
   "language": "python",
   "name": "python3"
  },
  "language_info": {
   "codemirror_mode": {
    "name": "ipython",
    "version": 3
   },
   "file_extension": ".py",
   "mimetype": "text/x-python",
   "name": "python",
   "nbconvert_exporter": "python",
   "pygments_lexer": "ipython3",
   "version": "3.5.3"
  },
  "toc": {
   "base_numbering": 1,
   "nav_menu": {},
   "number_sections": true,
   "sideBar": true,
   "skip_h1_title": false,
   "title_cell": "Table of Contents",
   "title_sidebar": "Contents",
   "toc_cell": false,
   "toc_position": {},
   "toc_section_display": true,
   "toc_window_display": false
  }
 },
 "nbformat": 4,
 "nbformat_minor": 2
}
