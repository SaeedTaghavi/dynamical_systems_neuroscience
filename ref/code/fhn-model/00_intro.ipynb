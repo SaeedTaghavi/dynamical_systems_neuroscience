{
 "cells": [
  {
   "cell_type": "markdown",
   "metadata": {},
   "source": [
    "# Mathématiques: Ce qu'un biologiste ne doit pas oublier"
   ]
  },
  {
   "cell_type": "markdown",
   "metadata": {},
   "source": [
    "## À qui s'adressent ces notes \n",
    "\n",
    "Ces notes de cours sont le pendant pratique du cours: \"Mathématiques: Ce qu'un biologiste ne doit pas ignorer.\" Dispensé par Amaury Lambert aux L3 du département de biologie de l'École normale supérieure de Paris. \n",
    "\n",
    "La raison d'être de ces notes est d'illustrer certains résultats du cours de Mathématiques afin de les démystifier et faire en sorte que les étudiants s'en saissient sans hésiter.\n",
    "\n",
    "\n",
    "## Structure\n",
    "\n",
    "Ce cours est structuré en trois partie. \n",
    "\n",
    "|| Chapitre 1 | Chapitre 2 | Chapitre 3 |\n",
    "|---|-----|\n",
    "|**Thème**| Algèbre linéaire | Chaînes de Markov | Systèmes Dynamiques (ODE)\n",
    "|**Problème biologique**| Transport Cellulaire (biologie cellulaire) | Cannaux ioniques (neuro)| Dynamique des populations (écologie)\n",
    "|**Définitions**| Matrice, Valeur/vecteur propre | Chaîne de Markov, trajectoire| ODE, trajectoire, diagramme de phase |\n",
    "|| Déterminant,| Distribution invariante, Pseudo-Aléatoire | isocline, flot, diagramme de bifurcation\n",
    "|| | Classe d'eq. Transient, recurrent, mesure initiale  | |\n",
    "|**Savoir faire**| Écrire un modèle linéaire de flux. | Écrire un modèle de CdM | Écrire un modèle ODE\n",
    "||Définir une matrice  , Produit matriciel |  Échantillonner une distribution | Simuler une trajectoire\n",
    "|| Trouver vecteurs/valeur  propre | Comparer des nombres à virgule flottante | Représenter l'espace des phases \n",
    "|| Simuler un modèle linéaire | Simuler une chaîne de Markov | Comprendre l'intégration numérique (Euler expl)\n",
    "|||| Représenter un diagramme de bifurcation|\n",
    "|**Résultat à illustrer**| Théorème de Perron-Froebenius | Théorème ergodique | Théorème de Cauchy-Lipschitz\n",
    "\n",
    "Termes transversaux re-définis à chaque fois pour bien enfoncer le clou: Espace d'état, Trajectoire, Conditions initiales. Temps discret/temps continu. Autonome/non autonome. Stochastique/Déterministe\n"
   ]
  },
  {
   "cell_type": "markdown",
   "metadata": {},
   "source": [
    "## Typologie informelle des modèles vus en cours\n",
    "![](outils.svg)"
   ]
  },
  {
   "cell_type": "markdown",
   "metadata": {
    "tags": [
     "ta_notes"
    ]
   },
   "source": [
    "### Comment donner ce cours\n",
    "\n",
    "Donner un cours, c'est en partie un exposé savant, en partie une pièce de théatre et en partie une discussion animée. Voici la méthode que je conseille pour celui ci.\n",
    "\n",
    "C'est un  cours pratique qui se déroule en salle informatique. Le déroulé idéal d'un cours est:\n",
    "\n",
    "1. Description of a biologically relevant and interesting problem.\n",
    "2. Class discussion to identitfy biological assumptions and hypothesis\n",
    "   along with the relevant modeling tools. We define the \"main\n",
    "   problem\" to solve during this class. I use this discussion to ask the\n",
    "   students question in order to sum up the main results covered\n",
    "   during the main lecture. I try to write down those results on the\n",
    "   white board as much as possible and keep them on a side to be able\n",
    "   to mobilize them in the rest of the class.\n",
    "3. Interactively solving a simple problem on the whiteboard. I either\n",
    "   solve fully a simple problem with them (asking question along the\n",
    "   way) or I present the outline of the method we will use to solve\n",
    "   the main problem (I do not go through the computation or write down\n",
    "   the exact code). The goal is to give the student an overview of the\n",
    "   problem so they are not lost.\n",
    "4. Personal/group work time. They try to solve the main problem using\n",
    "   the outline we discussed previoulsy. Usually I go from group to\n",
    "   group asking \"Who's stuck ?\", \"Who has no idea of what to do next\n",
    "   ?\", and try to help them.\n",
    "5. In class correction of the problem.\n",
    "\n",
    "Lors du cours, je vais répéter les étapes 3-5 quand le problème est long. Quand une question pertinent survient lors de l'étape 4, je n'hésite pas à faire un aparté au tableau. \n",
    "\n",
    "En préparant ce cours j'ai deux idées en têtes: \"quel cours aurais-je aimé suivre quand j'étais en L3 ?\" et \"Ces notions ne sont pas évidente, j'ai beaucoup ramé pour les maitriser: comment faire pour qu'ils rament moins que moi ?\"\n",
    "\n",
    "Dans chaque chapitre, il y a un \"grand résultat\" à illustrer. Dans \"*Comment Penser Comme Un Mathématicien*\", Kevin Houston souligne l'importance de la capaciter à formuler des non-exemples dans le processus de compréhension d'un théorème. Je pense qu'illustrer ces résultats par des exemples qui fonctionnent et d'autres qui en violent certaines hypothèses est riche d'enseignement. \n",
    "\n",
    "\n",
    "Dans l'introduction générale du cours, je demande qui se sent capable (lever la main) de simuler un modèle matriciel de population, une équation différentielle, une chaine de Markov, de trouver des valeurs propres, des vecteurs propres... En général ce n'est pas la majorité. J'indique bien que le but de ce cours est que tout le monde soit capable de le faire.\n",
    "\n"
   ]
  },
  {
   "cell_type": "code",
   "execution_count": null,
   "metadata": {},
   "outputs": [],
   "source": []
  }
 ],
 "metadata": {
  "celltoolbar": "Tags",
  "kernelspec": {
   "display_name": "Python 3",
   "language": "python",
   "name": "python3"
  },
  "language_info": {
   "codemirror_mode": {
    "name": "ipython",
    "version": 3
   },
   "file_extension": ".py",
   "mimetype": "text/x-python",
   "name": "python",
   "nbconvert_exporter": "python",
   "pygments_lexer": "ipython3",
   "version": "3.5.3"
  },
  "toc": {
   "base_numbering": 1,
   "nav_menu": {},
   "number_sections": true,
   "sideBar": true,
   "skip_h1_title": false,
   "title_cell": "Table of Contents",
   "title_sidebar": "Contents",
   "toc_cell": false,
   "toc_position": {},
   "toc_section_display": true,
   "toc_window_display": false
  }
 },
 "nbformat": 4,
 "nbformat_minor": 2
}
