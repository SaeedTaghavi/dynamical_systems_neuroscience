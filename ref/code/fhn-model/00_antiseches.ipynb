{
 "cells": [
  {
   "cell_type": "markdown",
   "metadata": {},
   "source": [
    "# Antisèches Python pour Biologiste Pressé\n",
    "\n",
    "Voici un looooong notebook qui peut vous servir de référence sur Python. Ce n'est en aucun cas un substitut à un cours complet, mais la vraie maîtrise des outils de programmation ne s’acquiert que par la pratique régulière. N'hésitez pas à garder ceci sous le coude quand vous essayez de résoudre les problèmes que vous rencontrez. \n",
    "\n",
    "Les Parties 1-6 sont dérivées de https://learnxinyminutes.com/ (CC BY-SA 3.0)"
   ]
  },
  {
   "cell_type": "markdown",
   "metadata": {},
   "source": [
    "## Jupyter Notebook"
   ]
  },
  {
   "cell_type": "markdown",
   "metadata": {},
   "source": [
    "\n",
    "[Jupyter](https://jupyter.org/) est un logiciel écrit en python permettant de travailler avec des notebook dans différents languages (dont Julia, Python et R d'où le nom du logiciel).\n",
    "Vous pouvez le lancer sur les machines de la salle info en tapant `jupyter notebook` dans un terminal\n",
    "\n",
    "Pointez ensuite votre navigateur favori sur l'adresse indiquée (en général https://localhost:8888 )\n",
    "\n",
    "Le Notebook est organisé en cellules qui peuvent contenir soit du code soit du texte formaté en [Markdown](https://fr.wikipedia.org/wiki/Markdown) et des équations formatées en $\\LaTeX$.\n",
    "\n",
    "Si vous avez chargé le notebook (fichier .ipynb) dans jupyter, n'hésitez pas à editer ce texte en double cliquant dessus. \n",
    "\n",
    "Les notebook peuvent aussi être exportés dans divers formats dont des pages web (.html) en utilisant le menu idoine (`File->Download as`)\n",
    "\n",
    "> **Raccourcis clavier utiles**\n",
    "> - `Ctrl-M a` et `Ctrl-M b`: Créer une nouvelle cellule au-dessus/au-dessous de la cellule sélectionnée.\n",
    "> - `Ctrl-M c`, `Ctrl-M v`, `Ctrl-M x` : Copier, coller et couper (resp.) des cellules.\n",
    "> - `Shift+Entrée` : Exécuter le contenu de la cellule courante\n",
    "> - `Ctrl-M m`, `Ctrl-M y`: Passer la cellule en mode texte ou en mode code. \n",
    "> - `Shift+Tab` sur le nom d'une fonction : Afficher l'aide, C'est à dire sa docstring.  "
   ]
  },
  {
   "cell_type": "markdown",
   "metadata": {},
   "source": [
    "## Types de données primaires et opérateurs "
   ]
  },
  {
   "cell_type": "markdown",
   "metadata": {},
   "source": [
    "### Entiers, flottants"
   ]
  },
  {
   "cell_type": "code",
   "execution_count": 14,
   "metadata": {},
   "outputs": [],
   "source": [
    "# Le croisillon (#) indique que le reste de la ligne est un commentaire.\n",
    "\n",
    "# On a des nombres entiers\n",
    "3  # => 3\n",
    "type(3) #=> int\n",
    "\n",
    "# Les calculs sont ce à quoi on s'attend (+, -, *)\n",
    "1 + 1  # => 2\n",
    "8 - 1  # => 7\n",
    "10 * 2  # => 20\n",
    "\n",
    "# On peut forcer la priorité de calcul avec des parenthèses\n",
    "(1 + 3) * 2  # => 8\n",
    "\n",
    "# La division retourne un nombre à virgule flottante (float)\n",
    "35 / 5  # => 7.0\n",
    "type(35/5) #=> float\n",
    "\n",
    "# Quand on utilise un float, le résultat est un float\n",
    "3 * 2.0 # => 6.0\n",
    "\n",
    "# La Division Euclidienne se fait avec une double barre oblique. \n",
    "5 // 3     # => 1\n",
    "type(5//3) #=> int\n",
    "5.0 // 3.0 # => 1.0 # Ça marche pour les floats egalement. \n",
    "-5 // 3  # => -2\n",
    "-5.0 // 3.0 # => -2.0\n",
    "\n",
    "# Modulo (reste de la division)\n",
    "7 % 3 # => 1\n",
    "\n",
    "# Exponentiation (x**y, x élevé à la puissance y)\n",
    "2**4; # => 16"
   ]
  },
  {
   "cell_type": "markdown",
   "metadata": {},
   "source": [
    "### Booléens"
   ]
  },
  {
   "cell_type": "code",
   "execution_count": 15,
   "metadata": {},
   "outputs": [],
   "source": [
    "# Les valeurs booléennes sont de type \"bool\"\n",
    "True\n",
    "False\n",
    "type(True) #=> bool\n",
    "\n",
    "# Négation avec not\n",
    "not True  # => False\n",
    "not False  # => True\n",
    "\n",
    "# Opérateurs booléens\n",
    "# On note que \"and\" et \"or\" sont sensibles à la casse\n",
    "True and False #=> False\n",
    "False or True #=> True\n",
    "\n",
    "# On vérifie une égalité avec ==, cela renvoie un bool.\n",
    "1 == 1  # => True\n",
    "2 == 1  # => False\n",
    "type(1==1) #=> bool\n",
    "\n",
    "# On vérifie une inégalité avec !=\n",
    "1 != 1  # => False\n",
    "2 != 1  # => True\n",
    "\n",
    "# Autres opérateurs de comparaison\n",
    "1 < 10  # => True\n",
    "1 > 10  # => False\n",
    "2 <= 2  # => True\n",
    "2 >= 2  # => True\n",
    "\n",
    "# On peut enchaîner les comparaisons\n",
    "1 < 2 < 3  # => True\n",
    "2 < 3 < 2  # => False\n",
    "\n",
    "# Utilisation des opérations booléennes avec des entiers :\n",
    "# Tout entier non null est \"True\"\n",
    "0 == False #=> True\n",
    "2 == True #=> False\n",
    "1 == True #=> True\n",
    "0 and 2 #=> 0\n",
    "-5 or 0 #=> -5\n",
    "\n",
    "# (is vs. ==) is vérifie si deux variables pointent sur le même objet, mais == vérifie\n",
    "# si les objets ont la même valeur.\n",
    "a = [1, 2, 3, 4] # a pointe sur une nouvelle liste, [1, 2, 3, 4]\n",
    "b = a # b pointe sur a\n",
    "b is a # => True, a et b pointent sur le même objet\n",
    "b == a # => True, les objets a et b sont égaux\n",
    "b = [1, 2, 3, 4] # b pointe sur une nouvelle liste, [1, 2, 3, 4]\n",
    "b is a # => False, a et b ne pointent pas sur le même objet\n",
    "b == a; # => True, les objets a et b ne pointent pas sur le même objet"
   ]
  },
  {
   "cell_type": "markdown",
   "metadata": {},
   "source": [
    "### Chaînes de caractères"
   ]
  },
  {
   "cell_type": "code",
   "execution_count": 17,
   "metadata": {},
   "outputs": [
    {
     "data": {
      "text/plain": [
       "'Les chaînes peuvent etre interpolées'"
      ]
     },
     "execution_count": 17,
     "metadata": {},
     "output_type": "execute_result"
    }
   ],
   "source": [
    "# Les chaînes (ou strings) sont créées avec \" ou '\n",
    "\"Ceci est une chaine\"\n",
    "'Ceci est une chaine aussi.'\n",
    "\n",
    "\"\"\" Les chaînes de caractères peuvent aussi être écrites\n",
    "    avec 3 guillemets doubles (\"), et sont souvent\n",
    "    utilisées comme des commentaires.\n",
    "\"\"\"\n",
    "\n",
    "# Additionner des chaînes les concatène. \n",
    "\"Hello \" + \"world!\"  # => \"Hello world!\"\n",
    "# Deux chaînes juxtaposées sont aussi concaténées. \n",
    "\"Hello \" \"world!\"  # => \"Hello world!\"\n",
    "(\"Combiné aux parenthèses, cela permet de représenter une \"\n",
    "\"longue chaîne (qui ne contient pas de retour à la ligne)\"\n",
    " \"sur plusieurs ligne.\")\n",
    "\n",
    "# On peut traîter une chaîne comme une liste de caractères\n",
    "\"This is a string\"[0]  # => 'T'\n",
    "\n",
    "# .format peut être utilisé pour formatter des chaînes, comme ceci:\n",
    "\"{} peuvent etre {}\".format(\"Les chaînes\", \"interpolées\")\n",
    "\n",
    "# La méthode format a un mini langage complet pour formatter les chaînes de caractères\n",
    "# (https://docs.python.org/3/library/string.html#formatspec)"
   ]
  },
  {
   "cell_type": "code",
   "execution_count": 78,
   "metadata": {},
   "outputs": [
    {
     "data": {
      "text/plain": [
       "'Jack be nimble, Jack be quick, Jack jump over the candle stick'"
      ]
     },
     "execution_count": 78,
     "metadata": {},
     "output_type": "execute_result"
    }
   ],
   "source": [
    "# On peut aussi réutiliser le même argument pour gagner du temps.\n",
    "\"{0} be nimble, {0} be quick, {0} jump over the {1}\".format(\"Jack\", \"candle stick\")"
   ]
  },
  {
   "cell_type": "code",
   "execution_count": 79,
   "metadata": {},
   "outputs": [
    {
     "data": {
      "text/plain": [
       "'Bob wants to eat lasagna'"
      ]
     },
     "execution_count": 79,
     "metadata": {},
     "output_type": "execute_result"
    }
   ],
   "source": [
    "# On peut aussi utiliser des mots clés pour éviter de devoir compter.\n",
    "\"{name} wants to eat {food}\".format(name=\"Bob\", food=\"lasagna\")"
   ]
  },
  {
   "cell_type": "code",
   "execution_count": 117,
   "metadata": {},
   "outputs": [
    {
     "name": "stdout",
     "output_type": "stream",
     "text": [
      "I'm Python. Nice to meet you!\n",
      "Hello, World!"
     ]
    }
   ],
   "source": [
    "# Python a une fonction print pour afficher du texte\n",
    "print(\"I'm Python. Nice to meet you!\")\n",
    "\n",
    "# Par défaut, la fonction print affiche aussi une nouvelle ligne à la fin.\n",
    "# Utilisez l'argument optionnel end pour changer ce caractère de fin.\n",
    "print(\"Hello, World\", end=\"!\") # => Hello, World!"
   ]
  },
  {
   "cell_type": "code",
   "execution_count": 25,
   "metadata": {},
   "outputs": [
    {
     "data": {
      "text/plain": [
       "'1, 2, 3'"
      ]
     },
     "execution_count": 25,
     "metadata": {},
     "output_type": "execute_result"
    }
   ],
   "source": [
    "liste =  [1,2,3]\n",
    "str(liste)[1:-1]"
   ]
  },
  {
   "cell_type": "code",
   "execution_count": 18,
   "metadata": {},
   "outputs": [
    {
     "name": "stdout",
     "output_type": "stream",
     "text": [
      "human\n",
      "genome\n",
      "200.txt\n"
     ]
    }
   ],
   "source": [
    "# La méthode Split permet de découper une chaîne par rapport à un séparateur\n",
    "\"human_genome_200.txt\".split(\"_\") #=> ['human', 'genome', '200.txt']\n",
    "# La méthode join permet de recoller une liste de chaîne à partir d'un séparateur\n",
    "print(\"\\n\".join(['human', 'genome', '200.txt'])) #=> 'human_genome_200.txt'"
   ]
  },
  {
   "cell_type": "markdown",
   "metadata": {},
   "source": [
    "### Un type spécial, None"
   ]
  },
  {
   "cell_type": "code",
   "execution_count": null,
   "metadata": {},
   "outputs": [],
   "source": [
    "# None est un objet\n",
    "None  # => None\n",
    "\n",
    "# N'utilisez pas \"==\" pour comparer des objets à None\n",
    "# Utilisez plutôt \"is\". Cela permet de vérifier l'égalité de l'identité des objets.\n",
    "\"etc\" is None  # => False\n",
    "None is None  # => True"
   ]
  },
  {
   "cell_type": "markdown",
   "metadata": {},
   "source": [
    "## Variables"
   ]
  },
  {
   "cell_type": "code",
   "execution_count": 19,
   "metadata": {},
   "outputs": [
    {
     "data": {
      "text/plain": [
       "5"
      ]
     },
     "execution_count": 19,
     "metadata": {},
     "output_type": "execute_result"
    }
   ],
   "source": [
    "# Les variables en Python sont des référence nommées à des objets. \n",
    "# La convention est de nommer ses variables avec des minuscules_et_underscores\n",
    "some_var = 5 # Créer une variable qui pointe vers l'objet \"5\" de type int. \n",
    "some_var"
   ]
  },
  {
   "cell_type": "code",
   "execution_count": 26,
   "metadata": {},
   "outputs": [
    {
     "ename": "NameError",
     "evalue": "name 'une_variable_inconnue' is not defined",
     "output_type": "error",
     "traceback": [
      "\u001b[0;31m---------------------------------------------------------------------------\u001b[0m",
      "\u001b[0;31mNameError\u001b[0m                                 Traceback (most recent call last)",
      "\u001b[0;32m<ipython-input-26-b986950689af>\u001b[0m in \u001b[0;36m<module>\u001b[0;34m()\u001b[0m\n\u001b[1;32m      1\u001b[0m \u001b[0;31m# Tenter d'accéder à une variable non définie lève une exception.\u001b[0m\u001b[0;34m\u001b[0m\u001b[0;34m\u001b[0m\u001b[0m\n\u001b[1;32m      2\u001b[0m \u001b[0;31m# Voir Structures de contrôle pour en apprendre plus sur le traitement des exceptions.\u001b[0m\u001b[0;34m\u001b[0m\u001b[0;34m\u001b[0m\u001b[0m\n\u001b[0;32m----> 3\u001b[0;31m \u001b[0mune_variable_inconnue\u001b[0m  \u001b[0;31m# Lève une NameError\u001b[0m\u001b[0;34m\u001b[0m\u001b[0m\n\u001b[0m",
      "\u001b[0;31mNameError\u001b[0m: name 'une_variable_inconnue' is not defined"
     ]
    }
   ],
   "source": [
    "# Tenter d'accéder à une variable non définie lève une exception.\n",
    "# Voir Structures de contrôle pour en apprendre plus sur le traitement des exceptions.\n",
    "une_variable_inconnue  # Lève une NameError"
   ]
  },
  {
   "cell_type": "markdown",
   "metadata": {},
   "source": [
    "## Structures de données"
   ]
  },
  {
   "cell_type": "markdown",
   "metadata": {},
   "source": [
    "### Listes (ordonné, modifiable)"
   ]
  },
  {
   "cell_type": "code",
   "execution_count": 20,
   "metadata": {},
   "outputs": [],
   "source": [
    "# Les listes permettent de stocker des séquences\n",
    "li = []\n",
    "\n",
    "# On peut initialiser une liste pré-remplie\n",
    "other_li = [4, 5, 6]\n",
    "\n",
    "# On ajoute des objets à la fin d'une liste avec .append\n",
    "li.append(1)    # li vaut maintenant [1]\n",
    "li.append(2)    # li vaut maintenant [1, 2]\n",
    "li.append(4)    # li vaut maintenant [1, 2, 4]\n",
    "li.append(3)    # li vaut maintenant [1, 2, 4, 3]\n",
    "\n",
    "# On enlève le dernier élément avec .pop\n",
    "li.pop()        # => 3 et li vaut maintenant [1, 2, 4]\n",
    "# Et on le remet\n",
    "li.append(3)    # li vaut de nouveau [1, 2, 4, 3]\n",
    "\n",
    "# Accès à un élément d'une liste :\n",
    "li[0]  # => 1\n",
    "# Accès au dernier élément :\n",
    "li[-1];  # => 3"
   ]
  },
  {
   "cell_type": "code",
   "execution_count": 21,
   "metadata": {},
   "outputs": [
    {
     "ename": "IndexError",
     "evalue": "list index out of range",
     "output_type": "error",
     "traceback": [
      "\u001b[0;31m---------------------------------------------------------------------------\u001b[0m",
      "\u001b[0;31mIndexError\u001b[0m                                Traceback (most recent call last)",
      "\u001b[0;32m<ipython-input-21-e8f9f5e370cd>\u001b[0m in \u001b[0;36m<module>\u001b[0;34m()\u001b[0m\n\u001b[1;32m      1\u001b[0m \u001b[0;31m# Accéder à un élément en dehors des limites lève une IndexError\u001b[0m\u001b[0;34m\u001b[0m\u001b[0;34m\u001b[0m\u001b[0m\n\u001b[0;32m----> 2\u001b[0;31m \u001b[0mli\u001b[0m\u001b[0;34m[\u001b[0m\u001b[0;36m4\u001b[0m\u001b[0;34m]\u001b[0m  \u001b[0;31m# Lève une IndexError\u001b[0m\u001b[0;34m\u001b[0m\u001b[0m\n\u001b[0m",
      "\u001b[0;31mIndexError\u001b[0m: list index out of range"
     ]
    }
   ],
   "source": [
    "# Accéder à un élément en dehors des limites lève une IndexError\n",
    "li[4]  # Lève une IndexError"
   ]
  },
  {
   "cell_type": "code",
   "execution_count": 24,
   "metadata": {},
   "outputs": [],
   "source": [
    "# On peut accéder à un intervalle avec la syntaxe \"slice\"\n",
    "li = [1,2,3,4]\n",
    "li[1:3]  # => [2, 4]\n",
    "# Omettre les deux premiers éléments\n",
    "li[2:]  # => [4, 3]\n",
    "# Prendre les trois premiers\n",
    "li[:3]  # => [1, 2, 4]\n",
    "# Sélectionner un élément sur deux\n",
    "li[::2]   # =>[1, 4]\n",
    "# Avoir une copie de la liste à l'envers\n",
    "li[::-1]   # => [3, 4, 2, 1]\n",
    "\n",
    "# La syntaxe est: debut:fin:pas\n",
    "# Le premier element est inclusif (en partant de 0)\n",
    "# Le dernier element est exclusif\n",
    "# Le pas est optionnel\n",
    "\n",
    "# Faire une copie d'une profondeur de un avec les \"slices\"\n",
    "li2 = li[:] # => li2 = [1, 2, 4, 3] mais (li2 is li) vaut False.\n",
    "\n",
    "# Enlever des éléments arbitrairement d'une liste\n",
    "del li[2]   # li is now [1, 2, 3]\n",
    "\n",
    "# On peut additionner des listes pour les concaterner\n",
    "# Note: les valeurs de li et other_li ne sont pas modifiées.\n",
    "li + other_li   # => [1, 2, 3, 4, 5, 6]\n",
    "\n",
    "# Vérifier la présence d'un objet dans une liste avec \"in\"\n",
    "1 in li   # => True\n",
    "\n",
    "# Examiner la longueur avec \"len()\"\n",
    "len(li);   # => 6"
   ]
  },
  {
   "cell_type": "code",
   "execution_count": 27,
   "metadata": {},
   "outputs": [
    {
     "data": {
      "text/plain": [
       "([24, 324, 2, 8], [2, 8, 24, 324])"
      ]
     },
     "execution_count": 27,
     "metadata": {},
     "output_type": "execute_result"
    }
   ],
   "source": [
    "# Trier les listes se fait avec la méthode sort pour un tri \"sur place\"\n",
    "a = [24, 324, 2, 8]\n",
    "a.sort() #=> a is now [2, 8, 24, 324]\n",
    "\n",
    "# ou la fonction sorted pour un qui retourne une nouvelle liste sans changer la première\n",
    "a = [24, 324, 2, 8]\n",
    "b = sorted(a) #=> [2, 8, 24, 324]\n",
    "a,b"
   ]
  },
  {
   "cell_type": "code",
   "execution_count": 28,
   "metadata": {},
   "outputs": [
    {
     "data": {
      "text/plain": [
       "[(5, 0), (1, 2), (3, 4)]"
      ]
     },
     "execution_count": 28,
     "metadata": {},
     "output_type": "execute_result"
    }
   ],
   "source": [
    "# Par défaut les listes sont triées dans l'ordre croissant.\n",
    "# On peut changer la fonction de comparaison utilisée pour le tri avec l'argument key.\n",
    "\n",
    "# Ex: tri dans l'ordre décroissant. \n",
    "a = [24, 324, 2, 8]\n",
    "sorted(a) #=> [2, 8, 24, 324]\n",
    "def ordre(x):\n",
    "    return -x\n",
    "sorted(a, key=ordre) #=> [324, 24, 8, 2]\n",
    "\n",
    "# Ex: tri dans l'ordre du second elément d'une paire\n",
    "a = [(1,2),(3,4),(5,0)]\n",
    "sorted(a) #=> [(1, 2), (3, 4), (5, 0)]\n",
    "def ordre(x):\n",
    "    return x[1]\n",
    "sorted(a, key=ordre) #=> [(5, 0), (1, 2), (3, 4)]"
   ]
  },
  {
   "cell_type": "markdown",
   "metadata": {},
   "source": [
    "### N-uplets ou Tuples (ordonné, immuable)"
   ]
  },
  {
   "cell_type": "code",
   "execution_count": 28,
   "metadata": {},
   "outputs": [
    {
     "ename": "TypeError",
     "evalue": "'tuple' object does not support item assignment",
     "output_type": "error",
     "traceback": [
      "\u001b[0;31m---------------------------------------------------------------------------\u001b[0m",
      "\u001b[0;31mTypeError\u001b[0m                                 Traceback (most recent call last)",
      "\u001b[0;32m<ipython-input-28-6f49ff0631d1>\u001b[0m in \u001b[0;36m<module>\u001b[0;34m()\u001b[0m\n\u001b[1;32m      2\u001b[0m \u001b[0mtup\u001b[0m \u001b[0;34m=\u001b[0m \u001b[0;34m(\u001b[0m\u001b[0;36m1\u001b[0m\u001b[0;34m,\u001b[0m \u001b[0;36m2\u001b[0m\u001b[0;34m,\u001b[0m \u001b[0;36m3\u001b[0m\u001b[0;34m)\u001b[0m\u001b[0;34m\u001b[0m\u001b[0m\n\u001b[1;32m      3\u001b[0m \u001b[0mtup\u001b[0m\u001b[0;34m[\u001b[0m\u001b[0;36m0\u001b[0m\u001b[0;34m]\u001b[0m   \u001b[0;31m# => 1\u001b[0m\u001b[0;34m\u001b[0m\u001b[0m\n\u001b[0;32m----> 4\u001b[0;31m \u001b[0mtup\u001b[0m\u001b[0;34m[\u001b[0m\u001b[0;36m0\u001b[0m\u001b[0;34m]\u001b[0m \u001b[0;34m=\u001b[0m \u001b[0;36m3\u001b[0m  \u001b[0;31m# Lève une TypeError\u001b[0m\u001b[0;34m\u001b[0m\u001b[0m\n\u001b[0m",
      "\u001b[0;31mTypeError\u001b[0m: 'tuple' object does not support item assignment"
     ]
    }
   ],
   "source": [
    "# Les tuples sont comme des listes mais sont immuables\n",
    "tup = (1, 2, 3)\n",
    "tup[0]   # => 1\n",
    "tup[0] = 3  # Lève une TypeError"
   ]
  },
  {
   "cell_type": "code",
   "execution_count": 34,
   "metadata": {},
   "outputs": [],
   "source": [
    "# Note : un tuple de taille un doit avoir une virgule après le dernier élément,\n",
    "# mais ce n'est pas le cas des tuples d'autres tailles, même zéro.\n",
    "type((1))  # => <class 'int'>\n",
    "type((1,)) # => <class 'tuple'>\n",
    "type(())   # => <class 'tuple'>\n",
    "\n",
    "# On peut utiliser la plupart des opérations des listes sur des tuples.\n",
    "len(tup)   # => 3\n",
    "tup + (4, 5, 6)   # => (1, 2, 3, 4, 5, 6)\n",
    "tup[:2]   # => (1, 2)\n",
    "2 in tup   # => True\n",
    "\n",
    "# Vous pouvez décomposer des tuples (ou des listes) dans des variables\n",
    "a, b, c = (1, 2, 3)     # a vaut 1, b vaut 2 et c vaut 3\n",
    "# Les tuples sont créés par défaut sans parenthèses\n",
    "d, e, f = 4, 5, 6\n",
    "# Voyez comme il est facile d'intervertir deux valeurs :\n",
    "e, d = d, e     # d vaut maintenant 5 et e vaut maintenant 4"
   ]
  },
  {
   "cell_type": "markdown",
   "metadata": {},
   "source": [
    "### Dictionnaires (clé/valeur, non-ordonné, modifiable)"
   ]
  },
  {
   "cell_type": "code",
   "execution_count": 27,
   "metadata": {},
   "outputs": [],
   "source": [
    "# Créer un dictionnaire :\n",
    "empty_dict = {}\n",
    "# Un dictionnaire pré-rempli :\n",
    "filled_dict = {\"one\": 1, \"two\": 2, \"three\": 3}"
   ]
  },
  {
   "cell_type": "code",
   "execution_count": 28,
   "metadata": {},
   "outputs": [
    {
     "ename": "TypeError",
     "evalue": "unhashable type: 'list'",
     "output_type": "error",
     "traceback": [
      "\u001b[0;31m---------------------------------------------------------------------------\u001b[0m",
      "\u001b[0;31mTypeError\u001b[0m                                 Traceback (most recent call last)",
      "\u001b[0;32m<ipython-input-28-673be194e885>\u001b[0m in \u001b[0;36m<module>\u001b[0;34m()\u001b[0m\n\u001b[1;32m      2\u001b[0m \u001b[0;31m# Elles doivent être convertibles en une valeur constante pour une recherche rapide.\u001b[0m\u001b[0;34m\u001b[0m\u001b[0;34m\u001b[0m\u001b[0m\n\u001b[1;32m      3\u001b[0m \u001b[0;31m# Les types immuables incluent les ints, floats, strings et tuples.\u001b[0m\u001b[0;34m\u001b[0m\u001b[0;34m\u001b[0m\u001b[0m\n\u001b[0;32m----> 4\u001b[0;31m \u001b[0minvalid_dict\u001b[0m \u001b[0;34m=\u001b[0m \u001b[0;34m{\u001b[0m\u001b[0;34m[\u001b[0m\u001b[0;36m1\u001b[0m\u001b[0;34m,\u001b[0m\u001b[0;36m2\u001b[0m\u001b[0;34m,\u001b[0m\u001b[0;36m3\u001b[0m\u001b[0;34m]\u001b[0m\u001b[0;34m:\u001b[0m \u001b[0;34m\"123\"\u001b[0m\u001b[0;34m}\u001b[0m \u001b[0;31m# => Lève une TypeError: unhashable type: 'list'\u001b[0m\u001b[0;34m\u001b[0m\u001b[0m\n\u001b[0m\u001b[1;32m      5\u001b[0m \u001b[0mvalid_dict\u001b[0m \u001b[0;34m=\u001b[0m \u001b[0;34m{\u001b[0m\u001b[0;34m(\u001b[0m\u001b[0;36m1\u001b[0m\u001b[0;34m,\u001b[0m\u001b[0;36m2\u001b[0m\u001b[0;34m,\u001b[0m\u001b[0;36m3\u001b[0m\u001b[0;34m)\u001b[0m\u001b[0;34m:\u001b[0m\u001b[0;34m[\u001b[0m\u001b[0;36m1\u001b[0m\u001b[0;34m,\u001b[0m\u001b[0;36m2\u001b[0m\u001b[0;34m,\u001b[0m\u001b[0;36m3\u001b[0m\u001b[0;34m]\u001b[0m\u001b[0;34m}\u001b[0m  \u001b[0;31m# Par contre, les valeurs peuvent être de tout type.\u001b[0m\u001b[0;34m\u001b[0m\u001b[0m\n",
      "\u001b[0;31mTypeError\u001b[0m: unhashable type: 'list'"
     ]
    }
   ],
   "source": [
    "# Note : les clés des dictionnaires doivent être de types immuables.\n",
    "# Elles doivent être convertibles en une valeur constante pour une recherche rapide.\n",
    "# Les types immuables incluent les ints, floats, strings et tuples.\n",
    "invalid_dict = {[1,2,3]: \"123\"} # => Lève une TypeError: unhashable type: 'list'\n",
    "valid_dict = {(1,2,3):[1,2,3]}  # Par contre, les valeurs peuvent être de tout type."
   ]
  },
  {
   "cell_type": "code",
   "execution_count": 29,
   "metadata": {},
   "outputs": [],
   "source": [
    "# On trouve une valeur avec []\n",
    "filled_dict[\"one\"]   # => 1\n",
    "\n",
    "# On obtient toutes les clés sous forme d'un itérable avec \"keys()\" Il faut l'entourer\n",
    "# de list() pour avoir une liste Note: l'ordre n'est pas garanti.\n",
    "list(filled_dict.keys())   # => [\"three\", \"two\", \"one\"]\n",
    "\n",
    "# On obtient toutes les valeurs sous forme d'un itérable avec \"values()\". \n",
    "# Là aussi, il faut utiliser list() pour avoir une liste.\n",
    "# Note : l'ordre n'est toujours pas garanti.\n",
    "list(filled_dict.values())   # => [3, 2, 1]\n",
    "\n",
    "# On vérifie la présence d'une clé dans un dictionnaire avec \"in\"\n",
    "\"one\" in filled_dict   # => True\n",
    "1 in filled_dict;   # => False"
   ]
  },
  {
   "cell_type": "code",
   "execution_count": 30,
   "metadata": {},
   "outputs": [
    {
     "ename": "KeyError",
     "evalue": "'four'",
     "output_type": "error",
     "traceback": [
      "\u001b[0;31m---------------------------------------------------------------------------\u001b[0m",
      "\u001b[0;31mKeyError\u001b[0m                                  Traceback (most recent call last)",
      "\u001b[0;32m<ipython-input-30-80440d700559>\u001b[0m in \u001b[0;36m<module>\u001b[0;34m()\u001b[0m\n\u001b[1;32m      1\u001b[0m \u001b[0;31m# L'accès à une clé non-existente lève une KeyError\u001b[0m\u001b[0;34m\u001b[0m\u001b[0;34m\u001b[0m\u001b[0m\n\u001b[0;32m----> 2\u001b[0;31m \u001b[0mfilled_dict\u001b[0m\u001b[0;34m[\u001b[0m\u001b[0;34m\"four\"\u001b[0m\u001b[0;34m]\u001b[0m   \u001b[0;31m# KeyError\u001b[0m\u001b[0;34m\u001b[0m\u001b[0m\n\u001b[0m",
      "\u001b[0;31mKeyError\u001b[0m: 'four'"
     ]
    }
   ],
   "source": [
    "# L'accès à une clé non-existente lève une KeyError\n",
    "filled_dict[\"four\"]   # KeyError"
   ]
  },
  {
   "cell_type": "code",
   "execution_count": null,
   "metadata": {},
   "outputs": [],
   "source": [
    "# On utilise \"get()\" pour éviter la KeyError\n",
    "filled_dict.get(\"one\")   # => 1\n",
    "filled_dict.get(\"four\")   # => None\n",
    "# La méthode get accepte une valeur de retour par défaut en cas de valeur non-existante.\n",
    "filled_dict.get(\"one\", 4)   # => 1\n",
    "filled_dict.get(\"four\", 4)   # => 4\n",
    "\n",
    "# \"setdefault()\" insère une valeur dans un dictionnaire si la clé n'est pas présente.\n",
    "filled_dict.setdefault(\"five\", 5)  # filled_dict[\"five\"] devient 5\n",
    "filled_dict.setdefault(\"five\", 6)  # filled_dict[\"five\"] est toujours 5\n",
    "\n",
    "# Ajouter à un dictionnaire\n",
    "filled_dict.update({\"four\":4}) #=> {\"one\": 1, \"two\": 2, \"three\": 3, \"four\": 4}\n",
    "#filled_dict[\"four\"] = 4  # une autre méthode\n",
    "\n",
    "# Enlever des clés d'un dictionnaire avec del\n",
    "del filled_dict[\"one\"]  # Enlever la clé \"one\" de filled_dict."
   ]
  },
  {
   "cell_type": "markdown",
   "metadata": {},
   "source": [
    "### Ensembles (non-ordonné, modifiable)"
   ]
  },
  {
   "cell_type": "code",
   "execution_count": null,
   "metadata": {},
   "outputs": [],
   "source": [
    "# Les sets stockent des ensembles\n",
    "empty_set = set()\n",
    "# Initialiser un set avec des valeurs. \n",
    "some_set = {1, 1, 2, 2, 3, 4}   # some_set est maintenant {1, 2, 3, 4}"
   ]
  },
  {
   "cell_type": "code",
   "execution_count": 81,
   "metadata": {},
   "outputs": [
    {
     "ename": "TypeError",
     "evalue": "unhashable type: 'list'",
     "output_type": "error",
     "traceback": [
      "\u001b[0;31m---------------------------------------------------------------------------\u001b[0m",
      "\u001b[0;31mTypeError\u001b[0m                                 Traceback (most recent call last)",
      "\u001b[0;32m<ipython-input-81-f9738ce9c4f8>\u001b[0m in \u001b[0;36m<module>\u001b[0;34m()\u001b[0m\n\u001b[1;32m      1\u001b[0m \u001b[0;31m# Comme les clés d'un dictionnaire, les éléments d'un set doivent être immuables.\u001b[0m\u001b[0;34m\u001b[0m\u001b[0;34m\u001b[0m\u001b[0m\n\u001b[1;32m      2\u001b[0m \u001b[0mvalid_set\u001b[0m \u001b[0;34m=\u001b[0m \u001b[0;34m{\u001b[0m\u001b[0;34m(\u001b[0m\u001b[0;36m1\u001b[0m\u001b[0;34m,\u001b[0m\u001b[0;34m)\u001b[0m\u001b[0;34m,\u001b[0m \u001b[0;36m1\u001b[0m\u001b[0;34m}\u001b[0m\u001b[0;34m\u001b[0m\u001b[0m\n\u001b[0;32m----> 3\u001b[0;31m \u001b[0minvalid_set\u001b[0m \u001b[0;34m=\u001b[0m \u001b[0;34m{\u001b[0m\u001b[0;34m[\u001b[0m\u001b[0;36m1\u001b[0m\u001b[0;34m]\u001b[0m\u001b[0;34m,\u001b[0m \u001b[0;36m1\u001b[0m\u001b[0;34m}\u001b[0m \u001b[0;31m# => Lève une TypeError: unhashable type: 'list'\u001b[0m\u001b[0;34m\u001b[0m\u001b[0m\n\u001b[0m",
      "\u001b[0;31mTypeError\u001b[0m: unhashable type: 'list'"
     ]
    }
   ],
   "source": [
    "# Comme les clés d'un dictionnaire, les éléments d'un set doivent être immuables.\n",
    "valid_set = {(1,), 1}\n",
    "invalid_set = {[1], 1} # => Lève une TypeError: unhashable type: 'list'"
   ]
  },
  {
   "cell_type": "code",
   "execution_count": 41,
   "metadata": {},
   "outputs": [
    {
     "data": {
      "text/plain": [
       "False"
      ]
     },
     "execution_count": 41,
     "metadata": {},
     "output_type": "execute_result"
    }
   ],
   "source": [
    "# On peut changer un set :\n",
    "filled_set = some_set\n",
    "\n",
    "# Ajouter un objet au set :\n",
    "filled_set.add(5)   # filled_set vaut maintenant {1, 2, 3, 4, 5}\n",
    "\n",
    "# Chercher les intersections de deux sets avec &\n",
    "other_set = {3, 4, 5, 6}\n",
    "filled_set & other_set   # => {3, 4, 5}\n",
    "\n",
    "# On fait l'union de sets avec |\n",
    "filled_set | other_set   # => {1, 2, 3, 4, 5, 6}\n",
    "\n",
    "# On fait la différence de deux sets avec -\n",
    "{1, 2, 3, 4} - {2, 3, 5}   # => {1, 4}\n",
    "\n",
    "# On vérifie la présence d'un objet dans un set avec in\n",
    "2 in filled_set   # => True\n",
    "10 in filled_set   # => False"
   ]
  },
  {
   "cell_type": "code",
   "execution_count": 18,
   "metadata": {},
   "outputs": [
    {
     "data": {
      "text/plain": [
       "False"
      ]
     },
     "execution_count": 18,
     "metadata": {},
     "output_type": "execute_result"
    }
   ],
   "source": [
    "# None, 0, et les strings/lists/dicts (chaînes/listes/dictionnaires) vides valent False\n",
    "# lorsqu'ils sont convertis en booléens.\n",
    "# Toutes les autres valeurs valent True\n",
    "bool(0)  # => False\n",
    "bool(\"\")  # => False\n",
    "bool([]) #=> False\n",
    "bool({}) #=> False"
   ]
  },
  {
   "cell_type": "markdown",
   "metadata": {},
   "source": [
    "## Structures de contrôle et Itérables"
   ]
  },
  {
   "cell_type": "code",
   "execution_count": 2,
   "metadata": {},
   "outputs": [
    {
     "name": "stdout",
     "output_type": "stream",
     "text": [
      "some_var is smaller than 10.\n"
     ]
    },
    {
     "data": {
      "text/plain": [
       "'pair'"
      ]
     },
     "execution_count": 2,
     "metadata": {},
     "output_type": "execute_result"
    }
   ],
   "source": [
    "# On crée juste une variable\n",
    "some_var = 5\n",
    "\n",
    "# Voici une condition \"si\". L'indentation est significative en Python!\n",
    "# Affiche: \"some_var is smaller than 10\"\n",
    "if some_var > 10:\n",
    "    print(\"some_var is totally bigger than 10.\")\n",
    "elif some_var < 10:    # La clause elif (\"sinon si\") est optionelle\n",
    "    print(\"some_var is smaller than 10.\")\n",
    "else:                  # La clause else (\"sinon\") l'est aussi.\n",
    "    print(\"some_var is indeed 10.\")\n",
    "    \n",
    "x = 2\n",
    "# Python a aussi un opérateur conditionnel ternaire, qui peut être utilisé en une seule ligne.\n",
    "'pair' if x%2==0 else 'impair' #=> pair"
   ]
  },
  {
   "cell_type": "code",
   "execution_count": 45,
   "metadata": {},
   "outputs": [
    {
     "name": "stdout",
     "output_type": "stream",
     "text": [
      "chien est un mammifère\n",
      "chat est un mammifère\n",
      "souris est un mammifère\n"
     ]
    }
   ],
   "source": [
    "#Les boucles \"for\" itèrent sur une liste\n",
    "for animal in [\"chien\", \"chat\", \"souris\"]:\n",
    "    # On peut utiliser format() pour interpoler des chaînes formattées\n",
    "    print(\"{} est un mammifère\".format(animal))"
   ]
  },
  {
   "cell_type": "code",
   "execution_count": 46,
   "metadata": {},
   "outputs": [
    {
     "name": "stdout",
     "output_type": "stream",
     "text": [
      "0\n",
      "1\n",
      "2\n",
      "3\n"
     ]
    }
   ],
   "source": [
    "# \"range(nombre)\" retourne un itérable de nombres de zéro au nombre donné\n",
    "for i in range(4):\n",
    "    print(i)"
   ]
  },
  {
   "cell_type": "code",
   "execution_count": 47,
   "metadata": {},
   "outputs": [
    {
     "name": "stdout",
     "output_type": "stream",
     "text": [
      "4\n",
      "5\n",
      "6\n",
      "7\n"
     ]
    }
   ],
   "source": [
    "#\"range(debut, fin)\" retourne un itérable de nombre de debut à fin.\n",
    "for i in range(4, 8):\n",
    "    print(i)"
   ]
  },
  {
   "cell_type": "code",
   "execution_count": 48,
   "metadata": {},
   "outputs": [
    {
     "name": "stdout",
     "output_type": "stream",
     "text": [
      "4\n",
      "6\n"
     ]
    }
   ],
   "source": [
    "#\"range(debut, fin, pas)\" retourne un itérable de nombres\n",
    "#de début à fin en incrémentant de pas.\n",
    "#Si le pas n'est pas indiqué, la valeur par défaut est 1.\n",
    "\n",
    "for i in range(4, 8, 2):\n",
    "    print(i)"
   ]
  },
  {
   "cell_type": "code",
   "execution_count": 49,
   "metadata": {},
   "outputs": [
    {
     "name": "stdout",
     "output_type": "stream",
     "text": [
      "0\n",
      "1\n",
      "2\n",
      "3\n"
     ]
    }
   ],
   "source": [
    "#Les boucles \"while\" bouclent jusqu'à ce que la condition devienne fausse.\n",
    "x = 0\n",
    "while x < 4:\n",
    "    print(x)\n",
    "    x += 1  # Raccourci pour x = x + 1"
   ]
  },
  {
   "cell_type": "code",
   "execution_count": 50,
   "metadata": {},
   "outputs": [
    {
     "name": "stdout",
     "output_type": "stream",
     "text": [
      "On nettoie les ressources ici\n"
     ]
    }
   ],
   "source": [
    "# On gère les exceptions avec un bloc try/except\n",
    "try:\n",
    "    # On utilise \"raise\" pour lever une erreur\n",
    "    raise IndexError(\"Ceci est une erreur d'index\")\n",
    "except IndexError as e:\n",
    "    pass    # Pass signifie simplement \"ne rien faire\". Généralement, on gère l'erreur ici.\n",
    "except (TypeError, NameError):\n",
    "    pass    # Si besoin, on peut aussi gérer plusieurs erreurs en même temps.\n",
    "else:   # Clause optionelle des blocs try/except. Doit être après tous les except.\n",
    "    print(\"Tout va bien!\")   # Uniquement si aucune exception n'est levée.\n",
    "finally: #  Éxécuté dans toutes les circonstances.\n",
    "    print(\"On nettoie les ressources ici\")"
   ]
  },
  {
   "cell_type": "code",
   "execution_count": 54,
   "metadata": {},
   "outputs": [
    {
     "name": "stdout",
     "output_type": "stream",
     "text": [
      "dict_keys(['three', 'one', 'two'])\n",
      "three\n",
      "one\n",
      "two\n"
     ]
    }
   ],
   "source": [
    "# Python offre une abstraction fondamentale : l'Iterable.\n",
    "# Un itérable est un objet pouvant être traîté comme une séquence.\n",
    "# L'objet retourné par la fonction range() est un itérable.\n",
    "\n",
    "filled_dict = {\"one\": 1, \"two\": 2, \"three\": 3}\n",
    "our_iterable = filled_dict.keys()\n",
    "print(our_iterable) #=> range(1,10). C'est un objet qui implémente l'interface Iterable\n",
    "\n",
    "# On peut boucler dessus\n",
    "for i in our_iterable:\n",
    "    print(i)    # Affiche one, two, three"
   ]
  },
  {
   "cell_type": "code",
   "execution_count": 52,
   "metadata": {},
   "outputs": [
    {
     "ename": "TypeError",
     "evalue": "'dict_keys' object does not support indexing",
     "output_type": "error",
     "traceback": [
      "\u001b[0;31m---------------------------------------------------------------------------\u001b[0m",
      "\u001b[0;31mTypeError\u001b[0m                                 Traceback (most recent call last)",
      "\u001b[0;32m<ipython-input-52-6878533980f9>\u001b[0m in \u001b[0;36m<module>\u001b[0;34m()\u001b[0m\n\u001b[1;32m      1\u001b[0m \u001b[0;31m# Cependant, on ne peut pas accéder aux éléments par leur adresse.\u001b[0m\u001b[0;34m\u001b[0m\u001b[0;34m\u001b[0m\u001b[0m\n\u001b[0;32m----> 2\u001b[0;31m \u001b[0mour_iterable\u001b[0m\u001b[0;34m[\u001b[0m\u001b[0;36m1\u001b[0m\u001b[0;34m]\u001b[0m  \u001b[0;31m# Lève une TypeError\u001b[0m\u001b[0;34m\u001b[0m\u001b[0m\n\u001b[0m",
      "\u001b[0;31mTypeError\u001b[0m: 'dict_keys' object does not support indexing"
     ]
    }
   ],
   "source": [
    "# Cependant, on ne peut pas accéder aux éléments par leur adresse.\n",
    "our_iterable[1]  # Lève une TypeError"
   ]
  },
  {
   "cell_type": "code",
   "execution_count": 53,
   "metadata": {},
   "outputs": [
    {
     "ename": "StopIteration",
     "evalue": "",
     "output_type": "error",
     "traceback": [
      "\u001b[0;31m---------------------------------------------------------------------------\u001b[0m",
      "\u001b[0;31mStopIteration\u001b[0m                             Traceback (most recent call last)",
      "\u001b[0;32m<ipython-input-53-6e8dd51c3168>\u001b[0m in \u001b[0;36m<module>\u001b[0;34m()\u001b[0m\n\u001b[1;32m     11\u001b[0m \u001b[0;34m\u001b[0m\u001b[0m\n\u001b[1;32m     12\u001b[0m \u001b[0;31m# Après que l'itérateur a retourné toutes ses données, il lève une exception StopIterator\u001b[0m\u001b[0;34m\u001b[0m\u001b[0;34m\u001b[0m\u001b[0m\n\u001b[0;32m---> 13\u001b[0;31m \u001b[0mnext\u001b[0m\u001b[0;34m(\u001b[0m\u001b[0mour_iterator\u001b[0m\u001b[0;34m)\u001b[0m \u001b[0;31m# Lève une StopIteration\u001b[0m\u001b[0;34m\u001b[0m\u001b[0m\n\u001b[0m\u001b[1;32m     14\u001b[0m \u001b[0;34m\u001b[0m\u001b[0m\n\u001b[1;32m     15\u001b[0m \u001b[0;31m# On peut mettre tous les éléments d'un itérateur dans une liste avec list()\u001b[0m\u001b[0;34m\u001b[0m\u001b[0;34m\u001b[0m\u001b[0m\n",
      "\u001b[0;31mStopIteration\u001b[0m: "
     ]
    }
   ],
   "source": [
    "# Un itérable est un objet qui sait créer un itérateur.\n",
    "our_iterator = iter(our_iterable)\n",
    "\n",
    "# Notre itérateur est un objet qui se rappelle de notre position quand on le traverse.\n",
    "# On passe à l'élément suivant avec \"next()\".\n",
    "next(our_iterator)  #=> \"one\"\n",
    "\n",
    "# Il garde son état quand on itère.\n",
    "next(our_iterator)  #=> \"two\"\n",
    "next(our_iterator)  #=> \"three\"\n",
    "\n",
    "# Après que l'itérateur a retourné toutes ses données, il lève une exception StopIterator\n",
    "next(our_iterator) # Lève une StopIteration\n",
    "\n",
    "# On peut mettre tous les éléments d'un itérateur dans une liste avec list()\n",
    "list(filled_dict.keys())  #=> Returns [\"one\", \"two\", \"three\"]"
   ]
  },
  {
   "cell_type": "markdown",
   "metadata": {},
   "source": [
    "## Fonctions"
   ]
  },
  {
   "cell_type": "code",
   "execution_count": 32,
   "metadata": {},
   "outputs": [
    {
     "name": "stdout",
     "output_type": "stream",
     "text": [
      "x est 5 et y est 6\n",
      "x est 5 et y est 6\n",
      "x est 5 et y est 6\n"
     ]
    },
    {
     "data": {
      "text/plain": [
       "11"
      ]
     },
     "execution_count": 32,
     "metadata": {},
     "output_type": "execute_result"
    }
   ],
   "source": [
    "# On utilise \"def\" pour créer des fonctions\n",
    "def add(x, y):\n",
    "    print(\"x est {} et y est {}\".format(x, y))\n",
    "    return x + y    # On retourne une valeur avec return\n",
    "\n",
    "# Appel d'une fonction avec des arguments :\n",
    "add(5, 6)   # => affiche \"x est 5 et y est 6\" et retourne 11\n",
    "\n",
    "# Une autre manière d'appeler une fonction : avec des arguments nommés.\n",
    "add(x=5, y=6)\n",
    "# Les arguments nommés peuvent être indiqués dans n'importe quel ordre \n",
    "#(mais doivent toujours être indiqués après les arguments non nommés).\n",
    "add(y=6, x=5)  "
   ]
  },
  {
   "cell_type": "code",
   "execution_count": 39,
   "metadata": {},
   "outputs": [
    {
     "data": {
      "text/plain": [
       "4"
      ]
     },
     "execution_count": 39,
     "metadata": {},
     "output_type": "execute_result"
    }
   ],
   "source": [
    "# Un argument est optionnel s'il a une valeur par défaut dans la déclaration de la fonction\n",
    "def add(x,y=1):\n",
    "    return x+y\n",
    "add(3)"
   ]
  },
  {
   "cell_type": "code",
   "execution_count": 40,
   "metadata": {},
   "outputs": [
    {
     "name": "stdout",
     "output_type": "stream",
     "text": [
      "(1, 2)\n",
      "{'a': 3, 'b': 4}\n"
     ]
    }
   ],
   "source": [
    "# Définir une fonction qui prend un nombre variable d'arguments\n",
    "def varargs(*args):\n",
    "    return args\n",
    "\n",
    "# La variable args fait référence à un tuple des valeurs des arguments. \n",
    "varargs(1, 2, 3)   # => (1, 2, 3)\n",
    "\n",
    "# On peut aussi définir une fonction qui prend un nombre variable d'arguments nommés.\n",
    "def keyword_args(**kwargs):\n",
    "    return kwargs\n",
    "\n",
    "# La variable kwargs fait référence à un dictionnaire des noms et valeurs des arguments. \n",
    "keyword_args(big=\"foot\", loch=\"ness\");   # => {\"big\": \"foot\", \"loch\": \"ness\"}\n",
    "\n",
    "# On peut aussi faire les deux à la fois :\n",
    "def all_the_args(*args, **kwargs):\n",
    "    print(args)\n",
    "    print(kwargs)\n",
    "    \n",
    "all_the_args(1, 2, a=3, b=4)"
   ]
  },
  {
   "cell_type": "code",
   "execution_count": 41,
   "metadata": {},
   "outputs": [
    {
     "name": "stdout",
     "output_type": "stream",
     "text": [
      "(1, 2, 3, 4)\n",
      "{}\n",
      "()\n",
      "{'a': 3, 'b': 4}\n",
      "(1, 2, 3, 4)\n",
      "{'a': 3, 'b': 4}\n"
     ]
    }
   ],
   "source": [
    "# En appelant des fonctions, on peut aussi faire l'inverse :\n",
    "# utiliser * pour étendre un tuple de paramètres \n",
    "# et ** pour étendre un dictionnaire d'arguments.\n",
    "# On parle d'opérateur de dépaquetage. \n",
    "args = (1, 2, 3, 4)\n",
    "kwargs = {\"a\": 3, \"b\": 4}\n",
    "all_the_args(*args)   # équivalent à foo(1, 2, 3, 4)\n",
    "all_the_args(**kwargs)   # équivalent à foo(a=3, b=4)\n",
    "all_the_args(*args, **kwargs)   # équivalent à foo(1, 2, 3, 4, a=3, b=4)"
   ]
  },
  {
   "cell_type": "code",
   "execution_count": 42,
   "metadata": {},
   "outputs": [
    {
     "data": {
      "text/plain": [
       "(2, 1)"
      ]
     },
     "execution_count": 42,
     "metadata": {},
     "output_type": "execute_result"
    }
   ],
   "source": [
    "# On peut retourner plusieurs valeurs (avec un tuple)\n",
    "def swap(x, y):\n",
    "    return y, x # Retourne plusieurs valeurs avec un tuple sans parenthèses.\n",
    "                # (Note: on peut aussi utiliser des parenthèses)\n",
    "\n",
    "x = 1\n",
    "y = 2\n",
    "x, y = swap(x, y) # => x = 2, y = 1\n",
    "# (x, y) = swap(x,y) # Là aussi, rien ne nous empêche d'ajouter des parenthèses\n",
    "x,y"
   ]
  },
  {
   "cell_type": "code",
   "execution_count": 43,
   "metadata": {},
   "outputs": [
    {
     "name": "stdout",
     "output_type": "stream",
     "text": [
      "43\n",
      "5\n",
      "6\n"
     ]
    },
    {
     "data": {
      "text/plain": [
       "6"
      ]
     },
     "execution_count": 43,
     "metadata": {},
     "output_type": "execute_result"
    }
   ],
   "source": [
    "# Espace de noms.\n",
    "# Les fonctions ont leur propre espace de nom.\n",
    "# Toute variable définie dans une fonction est locale à la fonction. \n",
    "x = 5\n",
    "\n",
    "def setX(num):\n",
    "    # La variable locale x n'est pas la même que la variable globale x\n",
    "    x = num # => 43\n",
    "    print (x) # => 43\n",
    "\n",
    "# On peut exceptionellement changer la valeur d'une variable de l'espace de nom global\n",
    "# depuis une fonction en utilisant le mot clé global\n",
    "# C'est en général considéré comme une mauvaise pratique. \n",
    "def setGlobalX(num):\n",
    "    global x\n",
    "    print (x) # => 5\n",
    "    x = num # la variable globale x est maintenant 6\n",
    "    print (x) # => 6\n",
    "\n",
    "setX(43)\n",
    "setGlobalX(6)\n",
    "x"
   ]
  },
  {
   "cell_type": "code",
   "execution_count": 6,
   "metadata": {},
   "outputs": [
    {
     "data": {
      "text/plain": [
       "5"
      ]
     },
     "execution_count": 6,
     "metadata": {},
     "output_type": "execute_result"
    }
   ],
   "source": [
    "# On peut définir une application partielle avec functools.partial\n",
    "from functools import partial\n",
    "\n",
    "def f(x,y):\n",
    "    return 3*x+2*y\n",
    "    \n",
    "f(1,1) # => 5\n",
    "g = partial(f, y=1) #=> g(x) = f(x,1); g est l'application partielle de f où y est fixé à 1.\n",
    "g(1) #=> 5"
   ]
  },
  {
   "cell_type": "code",
   "execution_count": 44,
   "metadata": {},
   "outputs": [
    {
     "data": {
      "text/plain": [
       "5"
      ]
     },
     "execution_count": 44,
     "metadata": {},
     "output_type": "execute_result"
    }
   ],
   "source": [
    "# lambda permet d'écrire des \"fonctions anonymes\" en une seule ligne. \n",
    "(lambda x: x > 2)(3)   # => True\n",
    "(lambda x, y: x ** 2 + y ** 2)(2, 1) # => 5"
   ]
  },
  {
   "cell_type": "code",
   "execution_count": 116,
   "metadata": {},
   "outputs": [
    {
     "data": {
      "text/plain": [
       "<filter at 0x7f47c48f8898>"
      ]
     },
     "execution_count": 116,
     "metadata": {},
     "output_type": "execute_result"
    }
   ],
   "source": [
    "# Map permet d'appliquer une fonction à chaque élément d'un itérable et renvoie un itérable\n",
    "map(add, [1, 2, 3])   # => [11, 12, 13]\n",
    "map(max, [1, 2, 3], [4, 2, 1])   # => [4, 2, 3]\n",
    "\n",
    "# Filter permet de filtrer les éléments d'un itérable par une fonction booléeene.\n",
    "filter(lambda x: x > 5, [3, 4, 5, 6, 7])   # => [6, 7]"
   ]
  },
  {
   "cell_type": "markdown",
   "metadata": {},
   "source": [
    "## Compréhensions de listes "
   ]
  },
  {
   "cell_type": "code",
   "execution_count": 186,
   "metadata": {},
   "outputs": [],
   "source": [
    "# La compréhension de liste est un élément important du langage Python. \n",
    "# Elle permet de faire des map et des filter de façon très intuitive. \n",
    "\n",
    "# Prenons une fonction et une liste:\n",
    "def f(x):\n",
    "    return 3*x \n",
    "a = [1,3,4,20]\n",
    "\n",
    "\n",
    "# Pour appliquer la fonction aux éléments de la liste on peut faire:\n",
    "b = []\n",
    "for x in a:\n",
    "    b.append(f(x))\n",
    "    \n",
    "# ... Ou utiliser une compréhension de liste:\n",
    "b = [f(x) for x in a]\n",
    "\n",
    "# ... ou map\n",
    "b = list(map(f, a))\n",
    "\n",
    "# Pour appliquer un filtre on peut faire \n",
    "b = []\n",
    "for x in a:\n",
    "    if x%2==0:\n",
    "        b.append(x)\n",
    "        \n",
    "# ...ou utiliser une compréhension de liste\n",
    "b = [x for x in a if x%2==0]\n",
    "\n",
    "# ...ou un filter\n",
    "b = list(filter(lambda x: x%2==0, a))\n",
    "\n",
    "# On peut aussi combiner les deux:\n",
    "b = [f(x) for x in a if x%2==0]\n",
    "b = list(map(f, filter(lambda x: x%2==0, a)))"
   ]
  },
  {
   "cell_type": "code",
   "execution_count": 189,
   "metadata": {},
   "outputs": [],
   "source": [
    "# On peut aussi faire des compréhension de dictionnaires:\n",
    "b = {x*2:x for x in a}\n",
    "c = {k:v**2 for k,v in b.items()}"
   ]
  },
  {
   "cell_type": "markdown",
   "metadata": {},
   "source": [
    "## Classes\n"
   ]
  },
  {
   "cell_type": "code",
   "execution_count": 48,
   "metadata": {},
   "outputs": [
    {
     "name": "stdout",
     "output_type": "stream",
     "text": [
      "Ian: hi\n",
      "Joel: hello\n"
     ]
    }
   ],
   "source": [
    "# On utilise l'opérateur \"class\" pour définir une classe d'objet.\n",
    "class Human:\n",
    "\n",
    "    # Un attribut de la classe. Il est partagé par toutes les instances de la classe.\n",
    "    species = \"H. sapiens\"\n",
    "\n",
    "    # L'initialiseur de base. Il est appelé quand la classe est instanciée.\n",
    "    # Note : les doubles underscores au début et à la fin sont utilisés pour\n",
    "    # les fonctions et attributs utilisés par Python mais contrôlés par l'utilisateur.\n",
    "    # Les méthodes (ou objets ou attributs) comme: __init__, __str__,\n",
    "    # __repr__ etc. sont appelés méthodes magiques.\n",
    "    # Vous ne devriez pas inventer de noms de ce style.\n",
    "    def __init__(self, name):\n",
    "        # Assigner l'argument à l'attribut de l'instance\n",
    "        self.name = name\n",
    "\n",
    "    # Une méthode de l'instance. Toutes prennent \"self\" comme premier argument.\n",
    "    def say(self, msg):\n",
    "        return \"{name}: {message}\".format(name=self.name, message=msg)\n",
    "\n",
    "# Instantier une classe signifie créer un objet de cette classe. \n",
    "i = Human(name=\"Ian\")\n",
    "print(i.say(\"hi\"))     # affiche \"Ian: hi\"\n",
    "\n",
    "j = Human(\"Joel\")\n",
    "print(j.say(\"hello\"))  # affiche \"Joel: hello\""
   ]
  },
  {
   "cell_type": "markdown",
   "metadata": {},
   "source": [
    "## Modules"
   ]
  },
  {
   "cell_type": "code",
   "execution_count": 74,
   "metadata": {},
   "outputs": [
    {
     "name": "stdout",
     "output_type": "stream",
     "text": [
      "4.0\n",
      "4\n",
      "3\n"
     ]
    }
   ],
   "source": [
    "# On peut importer des modules\n",
    "import math\n",
    "print(math.sqrt(16))  # => 4.0\n",
    "\n",
    "# On peut importer des fonctions spécifiques d'un module\n",
    "from math import ceil, floor\n",
    "print(ceil(3.7))  # => 4.0\n",
    "print(floor(3.7))   # => 3.0\n",
    "\n",
    "# On peut importer toutes les fonctions d'un module\n",
    "# Attention: ce n'est pas recommandé.\n",
    "from math import *\n",
    "\n",
    "# On peut raccourcir un nom de module\n",
    "import math as m\n",
    "math.sqrt(16) == m.sqrt(16)   # => True\n",
    "\n",
    "# Les modules Python sont juste des fichiers Python.\n",
    "# Vous pouvez écrire les vôtres et les importer. Le nom du module\n",
    "# est le nom du fichier.\n",
    "\n",
    "# On peut voir quels fonctions et objets un module définit\n",
    "import math\n",
    "#dir(math)"
   ]
  },
  {
   "cell_type": "markdown",
   "metadata": {},
   "source": [
    "## Fichiers"
   ]
  },
  {
   "cell_type": "code",
   "execution_count": 130,
   "metadata": {},
   "outputs": [
    {
     "ename": "FileNotFoundError",
     "evalue": "[Errno 2] No such file or directory: 'non_existing_file.txt'",
     "output_type": "error",
     "traceback": [
      "\u001b[0;31m---------------------------------------------------------------------------\u001b[0m",
      "\u001b[0;31mFileNotFoundError\u001b[0m                         Traceback (most recent call last)",
      "\u001b[0;32m<ipython-input-130-619f7287462d>\u001b[0m in \u001b[0;36m<module>\u001b[0;34m()\u001b[0m\n\u001b[1;32m      4\u001b[0m \u001b[0;31m# Le second est le mode r:lecture, w:écriture, a: ajout. (rb, wb, ab pour lire/écrire directement en binaire)\u001b[0m\u001b[0;34m\u001b[0m\u001b[0;34m\u001b[0m\u001b[0m\n\u001b[1;32m      5\u001b[0m \u001b[0;31m# FileNotFoundError est levée si le fichier n'exsite pas en mode 'r'.\u001b[0m\u001b[0;34m\u001b[0m\u001b[0;34m\u001b[0m\u001b[0m\n\u001b[0;32m----> 6\u001b[0;31m \u001b[0mopen\u001b[0m\u001b[0;34m(\u001b[0m\u001b[0;34m'non_existing_file.txt'\u001b[0m\u001b[0;34m,\u001b[0m \u001b[0;34m'r'\u001b[0m\u001b[0;34m)\u001b[0m\u001b[0;34m\u001b[0m\u001b[0m\n\u001b[0m",
      "\u001b[0;31mFileNotFoundError\u001b[0m: [Errno 2] No such file or directory: 'non_existing_file.txt'"
     ]
    }
   ],
   "source": [
    "# Lire un fichier avec open renvoie un objet file:\n",
    "handler = open('file.txt', 'r')\n",
    "\n",
    "# Le premier argument est le chemin vers le fichier.\n",
    "# Le second est le mode r:lecture, w:écriture, a: ajout. (rb, wb, ab pour lire/écrire directement en binaire)\n",
    "# FileNotFoundError est levée si le fichier n'exsite pas en mode 'r'.\n",
    "open('non_existing_file.txt', 'r') #=> FileNotFoundError"
   ]
  },
  {
   "cell_type": "code",
   "execution_count": null,
   "metadata": {},
   "outputs": [],
   "source": [
    "# Un fichier ouvert avec open doit être fermé avec .close.\n",
    "handler = open('test.txt', 'r')\n",
    "handler.read() #=> Première ligne\\nDeuxième ligne\"\n",
    "handler.close()\n",
    "handler.read() #=> Lire un fichier fermé lève une ValueError\n",
    "\n",
    "# Pour ne pas oublier de fermer les fichier il est recommandé d'utiliser un bloc with\n",
    "with open('test.txt','r') as handler:\n",
    "    handler.read()\n",
    "#=> close est appelé automatiquement à la fin du bloc. \n",
    "handler.read() #=> ValueError\n",
    "\n",
    "# Itérer sur les lignes d'un fichier\n",
    "with open('test.txt','r') as handler:\n",
    "    for line in handler:\n",
    "        print(line)"
   ]
  },
  {
   "cell_type": "code",
   "execution_count": 133,
   "metadata": {},
   "outputs": [],
   "source": [
    "# Écrire dans un fichier:\n",
    "with open('new.txt','w') as handler:\n",
    "    handler.write('Première ligne\\n')\n",
    "\n",
    "with open('new.txt','w') as handler:\n",
    "    handler.write('En mode \"w\", le fichier est écrasé\\n')\n",
    "    \n",
    "# Ajouter à la fin d'un fichier\n",
    "with open('new.txt','a') as handler:\n",
    "    handler.write('Seconde ligne')\n",
    "\n",
    "open('new.txt','r').read(); #=> 'En mode \"w\", le fichier est écrasé\\nSeconde ligne'"
   ]
  },
  {
   "cell_type": "markdown",
   "metadata": {},
   "source": [
    "## Expressions Régulières\n",
    "\n",
    "Les *Expressions Régulières* (ou *regexp* voire *RE*) constituent un petit langage de programmation qui permet de manipuler des chaînes de caractères. Référence: [How To Regex (Python documentation)](https://docs.python.org/3.7/howto/regex.html), [xkcd 208](https://www.xkcd.com/208/), [xkcd 1313](https://www.xkcd.com/1313/)."
   ]
  },
  {
   "cell_type": "code",
   "execution_count": 6,
   "metadata": {},
   "outputs": [],
   "source": [
    "# Les regexp font partie de la bibliothèque standard de Python. Il n'y a pas de module à installer.\n",
    "import re "
   ]
  },
  {
   "cell_type": "code",
   "execution_count": 13,
   "metadata": {},
   "outputs": [],
   "source": [
    "# Deux interfaces sont disponibles:\n",
    "poeme = \"\"\"Ce que l’on conçoit bien s’énonce clairement,\n",
    "Et les mots pour le dire arrivent aisément\"\"\"\n",
    "\n",
    "# Fonctionnel\n",
    "# Est-ce que la chaine commencer par le pattern ?\n",
    "re.match('mot', poeme) #=> None, match ne cherche à matcher le pattern que dans \n",
    "# Est-ce que le pattern se trouve dans la chaine ? (Retourne la position de occurence)\n",
    "re.search('mot', poeme) #=> Match object \n",
    "# Renvoyer toutes les occurences du pattern dans la chaine sous forme de chaines.\n",
    "re.findall('mot', poeme) #=> ['mot']\n",
    "# Trouver toutes les occurences du pattern dans la chaine sous.\n",
    "re.finditer('mot', poeme) #=> iterable of match object\n",
    "# Séparer la chaine à chaque occurence du pattern\n",
    "re.split('mot', poeme) #=> ['ce que...', 'pour le dire...']\n",
    "# Remplacer toutes les occurences du pattern\n",
    "re.sub('mot', 'terme', poeme) #=> '(...) Et les termes pour le dire (...)'\n",
    "\n",
    "# Objet:\n",
    "regexp = re.compile('mot')\n",
    "regexp.match(poeme)\n",
    "regexp.search(poeme)\n",
    "regexp.findall(poeme)\n",
    "regexp.finditer(poeme)\n",
    "regexp.split(poeme)\n",
    "regexp.sub('terme', poeme);\n",
    "# Les diffèrences de performances sont négligeables car toutes les regexp sont mises\n",
    "# en cache quelque soit l'inteface utilisée."
   ]
  },
  {
   "cell_type": "markdown",
   "metadata": {},
   "source": [
    "| **Caractère** | **Signification** |\n",
    "|-- | |\n",
    "| `.` | Tout caractère (sauf `\\n`)|\n",
    "| [abc]| a,b ou c\n",
    "| `[a-z]`| abcdefghijklmopqrstuvwyz |\n",
    "| `[^abc]`| tout sauf a,b ou c |\n",
    "| `\\[` | [ |\n",
    "| `A ⎮ B` | A ou B |\n",
    "| **Position** |  |\n",
    "| `^` | Début de la chaîne|\n",
    "| `$` | Fin de la chaîne|\n",
    "| **Répétition** | (du caractère juste avant) |\n",
    "| `*` | Répété 0+ fois |\n",
    "| `+` | Répété 1+ fois|\n",
    "| '?` | Répété 0 ou 1 fois |\n",
    "| `{m}`| Répété m fois|\n",
    "| `{m,n}` | Répété entre m et n fois |\n",
    "| **Groupes** |\n",
    "| `(blah)`| définit un groupe pour l'objet `match` |"
   ]
  },
  {
   "cell_type": "code",
   "execution_count": null,
   "metadata": {},
   "outputs": [],
   "source": [
    "# L'objet Match \n",
    "match.groups()  # un n-uplet contenant tous les sous groupes d'un match\n",
    "match.start(group) # Position du début groupe n.(le groupe 0 est tout le match)\n",
    "match.end(group) # Position de la fin du groupe n.\n",
    "match.span(group) # (debut, fin)"
   ]
  },
  {
   "cell_type": "markdown",
   "metadata": {},
   "source": [
    "## Calcul numérique avec Numpy\n",
    "\n",
    "Numpy est la bibliothèque de calcul numérique qui implémente un objet très pratique: le tableau n-dimensionel (np.array). \n",
    "\n",
    "N'hésitez pas à [lire le tutorial numpy en entier](https://docs.scipy.org/doc/numpy/user/quickstart.html). Gardez la [liste des fonctions](https://docs.scipy.org/doc/numpy/reference/routines.html#routines) de la bibliothèque sous le coude. "
   ]
  },
  {
   "cell_type": "code",
   "execution_count": 50,
   "metadata": {},
   "outputs": [],
   "source": [
    "# Il est d'usage de l'importer sous le nom np (en utilisant l'operateur `as`)\n",
    "import numpy as np"
   ]
  },
  {
   "cell_type": "markdown",
   "metadata": {},
   "source": [
    "L'objet principal de numpy est le tableau (`np.array`).  Ces valeurs sont stockées en continu dans la mémoire de l'ordinateur, ce qui les rend bien plus rapide que les listes python pour de nombreuses opérations. \n",
    "\n",
    "Un tableau numpy a 4 attributs importants:\n",
    "\n",
    "- `np.array.ndim` : le nombre de dimensions du tableau (axes)\n",
    "- `np.array.shape` : la taille du tableau le long de chaque axe. (2,3) signifie 2 lignes, 3 colonnes.\n",
    "- `np.array.size`: le nombre total d'éléments du tableau.\n",
    "- `np.array.dtype`: Le type des éléments du tableau, en général des nombres à virgule flotante sur 64 bit (`np.float64`) mais ça peut être des entiers sur 32 (`np.int32`) ou des nombres complexes (`np.complex`) voire des objets (`objects`)\n",
    "\n",
    "Pour instancier un tableau vous pouvez utiliser:\n",
    "\n",
    "- `np.array(iterateur)` pour l'initialiser avec une séquence de votre choix. \n",
    "- `np.zeros(shape)` pour initialiser un tableau de zéros.\n",
    "- `np.arange(debut,fin,pas)` pour une séquence arithmétique d'entiers. \n",
    "- `np.linspace(deut,fin,nombre_de_pas)` pour une séquence artihmétique de nombre à virgule flotante."
   ]
  },
  {
   "cell_type": "code",
   "execution_count": 122,
   "metadata": {},
   "outputs": [
    {
     "name": "stdout",
     "output_type": "stream",
     "text": [
      "[1 2 3 4]\n",
      "\n",
      "[[1.5 2.  3. ]\n",
      " [4.  5.  6. ]]\n",
      "\n",
      "[[1.+0.j 2.+0.j]\n",
      " [3.+0.j 4.+0.j]]\n",
      "\n",
      "[[0. 0. 0.]\n",
      " [0. 0. 0.]\n",
      " [0. 0. 0.]]\n",
      "\n",
      "[0 1 2 3 4 5 6 7 8 9]\n",
      "\n",
      "[0.         0.11111111 0.22222222 0.33333333 0.44444444 0.55555556\n",
      " 0.66666667 0.77777778 0.88888889 1.        ]\n",
      "\n"
     ]
    }
   ],
   "source": [
    "# Examples\n",
    "a = np.array([1,2,3,4])\n",
    "b = np.array([(1.5,2,3), (4,5,6)])\n",
    "c = np.array( [ [1,2], [3,4] ], dtype=complex )\n",
    "d = np.zeros((3,3))\n",
    "e = np.arange(10)\n",
    "f = np.linspace(0,1,10)\n",
    "\n",
    "for elt in (a,b,c,d,e,f):\n",
    "    print(elt, end='\\n\\n')"
   ]
  },
  {
   "cell_type": "code",
   "execution_count": 118,
   "metadata": {},
   "outputs": [
    {
     "name": "stdout",
     "output_type": "stream",
     "text": [
      "[1 2 3]\n",
      "[2 4 6]\n",
      "[0 0 0]\n",
      "[1 4 9]\n",
      "[1 4 9]\n",
      "[False  True  True]\n"
     ]
    }
   ],
   "source": [
    "# Les opérations aritmhétiques: `+, -, *, ** , <, >` sont appliquées élément par élément. \n",
    "a = np.array([1,2,3])\n",
    "print(a)\n",
    "print(a + a)\n",
    "print(a - a)\n",
    "print(a * a)\n",
    "print(a**2)\n",
    "print(a>1)"
   ]
  },
  {
   "cell_type": "markdown",
   "metadata": {},
   "source": [
    "On peut sommer ou multiplier les tableau avec des scalaires, l'opération se fait élément par élément (on parle de *[broadcasting](https://docs.scipy.org/doc/numpy/user/basics.broadcasting.html)*) "
   ]
  },
  {
   "cell_type": "code",
   "execution_count": 119,
   "metadata": {},
   "outputs": [
    {
     "name": "stdout",
     "output_type": "stream",
     "text": [
      "[14 12 13]\n",
      "[12  6  9]\n"
     ]
    }
   ],
   "source": [
    "a = np.array([4,2,3])\n",
    "print(a + 10)\n",
    "print(a * 3)"
   ]
  },
  {
   "cell_type": "markdown",
   "metadata": {},
   "source": [
    "Les `np.array`s ont des méthodes prédéfinies pour le `min`, `max`, `sum`...  "
   ]
  },
  {
   "cell_type": "code",
   "execution_count": 54,
   "metadata": {},
   "outputs": [
    {
     "name": "stdout",
     "output_type": "stream",
     "text": [
      "9\n",
      "0\n",
      "45\n"
     ]
    }
   ],
   "source": [
    "a = np.arange(10)\n",
    "print(a.max())\n",
    "print(a.min())\n",
    "print(a.sum())"
   ]
  },
  {
   "cell_type": "markdown",
   "metadata": {},
   "source": [
    "Quelques méthodes et fonctions d'algèbre linéaire:"
   ]
  },
  {
   "cell_type": "code",
   "execution_count": 56,
   "metadata": {},
   "outputs": [
    {
     "name": "stdout",
     "output_type": "stream",
     "text": [
      "[[1. 2.]\n",
      " [3. 4.]]\n"
     ]
    }
   ],
   "source": [
    "A = np.array([[1.0, 2.0], [3.0, 4.0]])\n",
    "A.transpose() # transposée\n",
    "np.dot(A,A) # produit matriciel\n",
    "\n",
    "np.linalg.inv(A) # Inverse\n",
    "np.trace(A) # trace\n",
    "np.linalg.eig(A) # valeurs propres et vecteurs propres associées. \n",
    "\n",
    "print(A)"
   ]
  },
  {
   "cell_type": "markdown",
   "metadata": {},
   "source": [
    "L'indexage se fait comme pour les listes python: `debut:fin:pas`, sauf que l'on peut avoir plusieurs axes:"
   ]
  },
  {
   "cell_type": "code",
   "execution_count": 17,
   "metadata": {},
   "outputs": [],
   "source": [
    "B = np.eye(4,4)\n",
    "B[2,3]\n",
    "B[0:5, 1]                      \n",
    "B[ : ,1]                        \n",
    "B[1:3, : ]\n",
    "\n",
    "B[ : ,1] == B[ 0:, 1] \n",
    "B[ : ,1] ==  B[ :4, 1] \n",
    "B[ : ,1] ==  B[ 0:4, 1];"
   ]
  },
  {
   "cell_type": "markdown",
   "metadata": {},
   "source": [
    "## Graphes avec Matplotlib\n",
    "Matplotlib est la bibliothèque de grapheur la plus utilisée dans la communauté Python. \n",
    "Encore une fois, si vous voulez en savoir plus allez voir le [tutorial officiel](https://matplotlib.org/tutorials/index.html)."
   ]
  },
  {
   "cell_type": "code",
   "execution_count": 78,
   "metadata": {},
   "outputs": [],
   "source": [
    "# Matplotlib est la bibliothèque qui s'occupe de tracer des graphes. \n",
    "# Son module pyplot offre une interface simple et fonctionnelle. \n",
    "# Il est d'usage de l'importer sous le nom plt. \n",
    "import matplotlib.pyplot as plt\n",
    "\n",
    "# Cette commande (spécifique à jupyter) permet d'afficher les graphes de matplotlib directement dans \n",
    "# le navigateur. \n",
    "%matplotlib inline\n",
    "# Alternativement, utilisez `notebook` plutôt que `inline` pour une version interactive.\n",
    "#%matplotlib notebook"
   ]
  },
  {
   "cell_type": "code",
   "execution_count": 59,
   "metadata": {},
   "outputs": [
    {
     "data": {
      "text/plain": [
       "[<matplotlib.lines.Line2D at 0x7f47aaf01978>]"
      ]
     },
     "execution_count": 59,
     "metadata": {},
     "output_type": "execute_result"
    },
    {
     "data": {
      "image/png": "[encoded data removed]",
      "text/plain": [
       "<Figure size 432x288 with 1 Axes>"
      ]
     },
     "metadata": {},
     "output_type": "display_data"
    }
   ],
   "source": [
    "# plot permet de tracer des courbes par interpolation linéaire. \n",
    "x = np.linspace(0,3*np.pi)\n",
    "y = np.sin(x) \n",
    "plt.plot(x,y)"
   ]
  },
  {
   "cell_type": "code",
   "execution_count": 21,
   "metadata": {},
   "outputs": [
    {
     "data": {
      "text/plain": [
       "<matplotlib.collections.PathCollection at 0x7f433e9602e8>"
      ]
     },
     "execution_count": 21,
     "metadata": {},
     "output_type": "execute_result"
    },
    {
     "data": {
      "image/png": "[encoded data removed]",
      "text/plain": [
       "<Figure size 432x288 with 1 Axes>"
      ]
     },
     "metadata": {},
     "output_type": "display_data"
    }
   ],
   "source": [
    "# scatter permet de tracer des points. \n",
    "plt.scatter(x,y)"
   ]
  },
  {
   "cell_type": "code",
   "execution_count": 22,
   "metadata": {},
   "outputs": [
    {
     "data": {
      "text/plain": [
       "(array([ 6.,  4.,  2.,  2.,  4.,  4.,  4.,  6.,  4., 14.]),\n",
       " array([-0.99537911, -0.79589258, -0.59640605, -0.39691951, -0.19743298,\n",
       "         0.00205355,  0.20154008,  0.40102662,  0.60051315,  0.79999968,\n",
       "         0.99948622]),\n",
       " <a list of 10 Patch objects>)"
      ]
     },
     "execution_count": 22,
     "metadata": {},
     "output_type": "execute_result"
    },
    {
     "data": {
      "image/png": "[encoded data removed]",
      "text/plain": [
       "<Figure size 432x288 with 1 Axes>"
      ]
     },
     "metadata": {},
     "output_type": "display_data"
    }
   ],
   "source": [
    "# hist permet de tracer des histogrammes. \n",
    "plt.hist(y)"
   ]
  },
  {
   "cell_type": "code",
   "execution_count": 60,
   "metadata": {},
   "outputs": [
    {
     "data": {
      "image/png": "[encoded data removed]",
      "text/plain": [
       "<Figure size 864x288 with 3 Axes>"
      ]
     },
     "metadata": {},
     "output_type": "display_data"
    }
   ],
   "source": [
    "# Il y a deux types d'objets principaux en matplotlib: les figures et les axes (ou sous-figures).\n",
    "\n",
    "# Par défaut, les plots sont fait sur l'objet axe courant (plt.gca()).\n",
    "# On peut changer l'objet axe courant avec plt.subplot(position) ou\n",
    "# (plus pratique) on peut assigner tous les objets axes d'un coup:\n",
    "fig, (ax1,ax2,ax3) = plt.subplots(1,3, figsize=(12,4))\n",
    "ax1.plot(x,y)\n",
    "ax2.scatter(x,y)\n",
    "ax3.hist(y)\n",
    "\n",
    "# La méthode set des objets axe permet de donner un titre ou de changer\n",
    "# les propriétés du graphe (limites de la zone à tracer, graduations...)\n",
    "ax1.set(xlabel='titre x', ylabel='titre y', title='titre du graphe')\n",
    "ax2.set(xlim=(-1,15))\n",
    "ax3.set(xticks=(-1,0,.7,1))\n",
    "\n",
    "# La méthode savefig de l'objet figure permet de sauvegarder l'image dans un fichier.\n",
    "fig.savefig('test.png')"
   ]
  },
  {
   "cell_type": "markdown",
   "metadata": {},
   "source": [
    "## Calcul scientifique avec Scipy\n",
    "\n",
    "La bibliothèque scipy (scientific python) contient toute une foule de fonctions utilie pour le calcul numérique. En voici quelques morceaux choisis. N'oubliez pas de vous référer à la [documentation](https://docs.scipy.org/doc/scipy/reference/) pour plus de détails."
   ]
  },
  {
   "cell_type": "markdown",
   "metadata": {},
   "source": [
    "### Intégration numérique"
   ]
  },
  {
   "cell_type": "code",
   "execution_count": 51,
   "metadata": {},
   "outputs": [],
   "source": [
    "# Le module scipy.integrate permet de réaliser de l'intégration numérique.\n",
    "import scipy.integrate"
   ]
  },
  {
   "cell_type": "markdown",
   "metadata": {},
   "source": [
    "$$\\int_0^1 f(x) dx$$"
   ]
  },
  {
   "cell_type": "code",
   "execution_count": 109,
   "metadata": {},
   "outputs": [
    {
     "data": {
      "image/png": "[encoded data removed]",
      "text/latex": [
       "$$\\left ( 3.1415926535897922, \\quad 3.533564552071766e-10\\right )$$"
      ],
      "text/plain": [
       "(3.1415926535897922, 3.533564552071766e-10)"
      ]
     },
     "execution_count": 109,
     "metadata": {},
     "output_type": "execute_result"
    }
   ],
   "source": [
    "# Calcul de l'intégrale d'une fonction sur un intervalle\n",
    "def f(x):\n",
    "    return 4*np.sqrt(1-x**2)\n",
    "\n",
    "scipy.integrate.quad(f, 0, 1)"
   ]
  },
  {
   "cell_type": "markdown",
   "metadata": {},
   "source": [
    "$$ y(t) = y(0) + \\int_0^t f(y(t)) $$"
   ]
  },
  {
   "cell_type": "code",
   "execution_count": 115,
   "metadata": {},
   "outputs": [
    {
     "data": {
      "text/plain": [
       "[<matplotlib.lines.Line2D at 0x7f47c48d3be0>]"
      ]
     },
     "execution_count": 115,
     "metadata": {},
     "output_type": "execute_result"
    },
    {
     "data": {
      "image/png": "[encoded data removed]",
      "text/plain": [
       "<Figure size 432x288 with 1 Axes>"
      ]
     },
     "metadata": {},
     "output_type": "display_data"
    }
   ],
   "source": [
    "# Intégration numérique d'une équation différentielle\n",
    "def dxdt(x, t):\n",
    "    return 3*x\n",
    "y0 = 1 \n",
    "traj = scipy.integrate.odeint(dxdt, y0, np.linspace(0,1))\n",
    "plt.plot(traj)"
   ]
  },
  {
   "cell_type": "markdown",
   "metadata": {},
   "source": [
    "### Statistiques"
   ]
  },
  {
   "cell_type": "code",
   "execution_count": 52,
   "metadata": {},
   "outputs": [],
   "source": [
    "# Le module scipy.stats contient de nombreuses distributions de probabilités et des tests statistiques.\n",
    "import scipy.stats"
   ]
  },
  {
   "cell_type": "code",
   "execution_count": 74,
   "metadata": {},
   "outputs": [],
   "source": [
    "X = scipy.stats.norm(loc=0) # Une variable aléatoire normalement distribuée centrée réduite \n",
    "X.mean() #=> 0\n",
    "X.std() #=> 1 \n",
    "X.pdf(1) #=> \\phi(1)\n",
    "\n",
    "Y = scipy.stats.norm(loc=10) # v.a. gaussienne, espérance 10\n",
    "Z = scipy.stats.norm(loc=10, scale=.3) # v.a. gaussienne, espérance 10, ecart-type .3"
   ]
  },
  {
   "cell_type": "code",
   "execution_count": 75,
   "metadata": {},
   "outputs": [],
   "source": [
    "# Échantilloner une variable aléatoire:\n",
    "sampleX = X.rvs(size=100)\n",
    "sampleY = Y.rvs(size=100)\n",
    "sampleZ = Z.rvs(size=100)"
   ]
  },
  {
   "cell_type": "code",
   "execution_count": 94,
   "metadata": {},
   "outputs": [
    {
     "name": "stderr",
     "output_type": "stream",
     "text": [
      "/home/guilhem/.local/lib/python3.5/site-packages/matplotlib/axes/_axes.py:6499: MatplotlibDeprecationWarning: \n",
      "The 'normed' kwarg was deprecated in Matplotlib 2.1 and will be removed in 3.1. Use 'density' instead.\n",
      "  alternative=\"'density'\", removal=\"3.1\")\n"
     ]
    },
    {
     "data": {
      "image/png": "[encoded data removed]",
      "text/plain": [
       "<Figure size 432x288 with 1 Axes>"
      ]
     },
     "metadata": {},
     "output_type": "display_data"
    }
   ],
   "source": [
    "x = np.linspace(-10,12,100)\n",
    "\n",
    "# rv.pdf() donne la fonction densité de probabilité\n",
    "plt.plot(x, X.pdf(x))\n",
    "plt.plot(x, Y.pdf(x))\n",
    "plt.plot(x, Z.pdf(x))\n",
    "\n",
    "plt.hist(sampleX, alpha=.5, label='X', normed=True, color='C0')\n",
    "plt.hist(sampleY, alpha=.5, label='Y', normed=True, color='C1')\n",
    "plt.hist(sampleZ, alpha=.5, label='Z', normed=True, color='C2')\n",
    "plt.legend();"
   ]
  },
  {
   "cell_type": "code",
   "execution_count": 98,
   "metadata": {},
   "outputs": [
    {
     "data": {
      "text/plain": [
       "Ttest_indResult(statistic=-0.18557892843846313, pvalue=0.8529649502348823)"
      ]
     },
     "execution_count": 98,
     "metadata": {},
     "output_type": "execute_result"
    }
   ],
   "source": [
    "# T-test à deux échantillons\n",
    "scipy.stats.ttest_ind(sampleX, sampleY) # => pvalue < 0.05\n",
    "scipy.stats.ttest_ind(sampleY, sampleZ) # => pvalue > 0.05"
   ]
  },
  {
   "cell_type": "markdown",
   "metadata": {},
   "source": [
    "## Calcul symbolique avec Sympy\n",
    "\n",
    "Sympy est une bibliothèque de calcul symbolique en Python. Elle permet de résoudre un grand nombre de problèmes courants en calcul scientifique: simplifications, résolution d'équations, différentiation, calcul de limites... Lisez la [documentation](https://docs.sympy.org/latest/tutorial/index.html) pour plus d'informations."
   ]
  },
  {
   "cell_type": "code",
   "execution_count": 34,
   "metadata": {},
   "outputs": [],
   "source": [
    "import sympy\n",
    "sympy.init_printing() # Pretty_print permet d'afficher les équations dans le notebook via LaTeX. "
   ]
  },
  {
   "cell_type": "code",
   "execution_count": 35,
   "metadata": {},
   "outputs": [
    {
     "data": {
      "image/png": "[encoded data removed]",
      "text/latex": [
       "$$a \\left(b + x\\right)$$"
      ],
      "text/plain": [
       "a⋅(b + x)"
      ]
     },
     "execution_count": 35,
     "metadata": {},
     "output_type": "execute_result"
    }
   ],
   "source": [
    "# Tout d'abord il faut créer un objet symbole pour chaque grandeur utilisée.\n",
    "x,y, a, b, c = sympy.symbols('x,y,a,b,c')\n",
    "\n",
    "# On peut ensuite créer des expressions en utilisant les opérateurs usuels de python.\n",
    "expr = a * (x + b)\n",
    "expr"
   ]
  },
  {
   "cell_type": "code",
   "execution_count": 79,
   "metadata": {},
   "outputs": [
    {
     "data": {
      "image/png": "[encoded data removed]",
      "text/latex": [
       "$$a b + a x$$"
      ],
      "text/plain": [
       "a⋅b + a⋅x"
      ]
     },
     "execution_count": 79,
     "metadata": {},
     "output_type": "execute_result"
    }
   ],
   "source": [
    "# .expand permet de développer une expression\n",
    "expr.expand()"
   ]
  },
  {
   "cell_type": "code",
   "execution_count": 92,
   "metadata": {},
   "outputs": [
    {
     "data": {
      "image/png": "[encoded data removed]",
      "text/latex": [
       "$$\\frac{b \\left(c + 2\\right)}{2}$$"
      ],
      "text/plain": [
       "b⋅(c + 2)\n",
       "─────────\n",
       "    2    "
      ]
     },
     "execution_count": 92,
     "metadata": {},
     "output_type": "execute_result"
    }
   ],
   "source": [
    "# .simplify permet de la simplifier\n",
    "(a + (-a + b * 1/2 * c )+ b).simplify()\n",
    "\n",
    "# La simplification par défaut n'est pas toujours satisfaisante. \n",
    "# voir https://docs.sympy.org/latest/tutorial/simplification.html"
   ]
  },
  {
   "cell_type": "code",
   "execution_count": 93,
   "metadata": {},
   "outputs": [
    {
     "data": {
      "image/png": "[encoded data removed]",
      "text/latex": [
       "$$a x + b = 0$$"
      ],
      "text/plain": [
       "a⋅x + b = 0"
      ]
     },
     "execution_count": 93,
     "metadata": {},
     "output_type": "execute_result"
    }
   ],
   "source": [
    "# Créer une equation se fait avec l'objet Eq.\n",
    "eq = sympy.Eq(a*x+b, 0)\n",
    "eq "
   ]
  },
  {
   "cell_type": "code",
   "execution_count": 94,
   "metadata": {},
   "outputs": [
    {
     "data": {
      "image/png": "[encoded data removed]",
      "text/latex": [
       "$$\\left [ - \\frac{b}{a}\\right ]$$"
      ],
      "text/plain": [
       "⎡-b ⎤\n",
       "⎢───⎥\n",
       "⎣ a ⎦"
      ]
     },
     "execution_count": 94,
     "metadata": {},
     "output_type": "execute_result"
    }
   ],
   "source": [
    "# Résoudre une équation pour une variable donnée:\n",
    "sympy.solve(eq, x)"
   ]
  },
  {
   "cell_type": "code",
   "execution_count": 95,
   "metadata": {
    "scrolled": true
   },
   "outputs": [
    {
     "data": {
      "image/png": "[encoded data removed]",
      "text/latex": [
       "$$a$$"
      ],
      "text/plain": [
       "a"
      ]
     },
     "execution_count": 95,
     "metadata": {},
     "output_type": "execute_result"
    }
   ],
   "source": [
    "# Dériver une expression\n",
    "sympy.diff(expr, x)"
   ]
  },
  {
   "cell_type": "code",
   "execution_count": 49,
   "metadata": {},
   "outputs": [
    {
     "data": {
      "image/png": "[encoded data removed]",
      "text/latex": [
       "$$4 \\sqrt{- x^{2} + 1}$$"
      ],
      "text/plain": [
       "     __________\n",
       "    ╱    2     \n",
       "4⋅╲╱  - x  + 1 "
      ]
     },
     "execution_count": 49,
     "metadata": {},
     "output_type": "execute_result"
    }
   ],
   "source": [
    "expr = 4*sympy.sqrt(1-x**2)\n",
    "expr"
   ]
  },
  {
   "cell_type": "code",
   "execution_count": 50,
   "metadata": {},
   "outputs": [
    {
     "data": {
      "image/png": "[encoded data removed]",
      "text/latex": [
       "$$\\pi$$"
      ],
      "text/plain": [
       "π"
      ]
     },
     "execution_count": 50,
     "metadata": {},
     "output_type": "execute_result"
    }
   ],
   "source": [
    "# Calcul de l'intégrale d'une fonction sur un intervalle\n",
    "sympy.integrate(expr,(x,0,1))"
   ]
  },
  {
   "cell_type": "markdown",
   "metadata": {},
   "source": [
    "## Tableaux de données avec Pandas\n",
    "\n",
    "Pandas est une bibliothèque qui implémente la classe \"tableau\" de donnée (`pandas.Dataframe`). Il s'agit d'un tableau a double entrée constitué de colonnes (`pandas.Series`) qui peuvent être de différent types.  Lisez la [documentation](https://pandas.pydata.org/pandas-docs/stable/index.html) pour plus d'information. Le tutoriel [pandas en 10 minutes](https://pandas.pydata.org/pandas-docs/stable/10min.html) est très pratique. "
   ]
  },
  {
   "cell_type": "code",
   "execution_count": 123,
   "metadata": {},
   "outputs": [],
   "source": [
    "import pandas as pd"
   ]
  },
  {
   "cell_type": "code",
   "execution_count": 136,
   "metadata": {},
   "outputs": [
    {
     "data": {
      "text/html": [
       "<div>\n",
       "<style scoped>\n",
       "    .dataframe tbody tr th:only-of-type {\n",
       "        vertical-align: middle;\n",
       "    }\n",
       "\n",
       "    .dataframe tbody tr th {\n",
       "        vertical-align: top;\n",
       "    }\n",
       "\n",
       "    .dataframe thead th {\n",
       "        text-align: right;\n",
       "    }\n",
       "</style>\n",
       "<table border=\"1\" class=\"dataframe\">\n",
       "  <thead>\n",
       "    <tr style=\"text-align: right;\">\n",
       "      <th></th>\n",
       "      <th>A</th>\n",
       "      <th>B</th>\n",
       "      <th>C</th>\n",
       "    </tr>\n",
       "  </thead>\n",
       "  <tbody>\n",
       "    <tr>\n",
       "      <th>0</th>\n",
       "      <td>0.179734</td>\n",
       "      <td>0.702595</td>\n",
       "      <td>0.874070</td>\n",
       "    </tr>\n",
       "    <tr>\n",
       "      <th>1</th>\n",
       "      <td>0.495800</td>\n",
       "      <td>0.407448</td>\n",
       "      <td>0.249665</td>\n",
       "    </tr>\n",
       "    <tr>\n",
       "      <th>2</th>\n",
       "      <td>0.336099</td>\n",
       "      <td>0.443157</td>\n",
       "      <td>0.926575</td>\n",
       "    </tr>\n",
       "    <tr>\n",
       "      <th>3</th>\n",
       "      <td>0.957757</td>\n",
       "      <td>0.236765</td>\n",
       "      <td>0.996101</td>\n",
       "    </tr>\n",
       "    <tr>\n",
       "      <th>4</th>\n",
       "      <td>0.961121</td>\n",
       "      <td>0.784629</td>\n",
       "      <td>0.154384</td>\n",
       "    </tr>\n",
       "    <tr>\n",
       "      <th>5</th>\n",
       "      <td>0.120409</td>\n",
       "      <td>0.383636</td>\n",
       "      <td>0.510969</td>\n",
       "    </tr>\n",
       "    <tr>\n",
       "      <th>6</th>\n",
       "      <td>0.505870</td>\n",
       "      <td>0.268738</td>\n",
       "      <td>0.269260</td>\n",
       "    </tr>\n",
       "    <tr>\n",
       "      <th>7</th>\n",
       "      <td>0.759919</td>\n",
       "      <td>0.004244</td>\n",
       "      <td>0.521494</td>\n",
       "    </tr>\n",
       "    <tr>\n",
       "      <th>8</th>\n",
       "      <td>0.061665</td>\n",
       "      <td>0.277545</td>\n",
       "      <td>0.517106</td>\n",
       "    </tr>\n",
       "    <tr>\n",
       "      <th>9</th>\n",
       "      <td>0.940788</td>\n",
       "      <td>0.698134</td>\n",
       "      <td>0.667816</td>\n",
       "    </tr>\n",
       "  </tbody>\n",
       "</table>\n",
       "</div>"
      ],
      "text/plain": [
       "          A         B         C\n",
       "0  0.179734  0.702595  0.874070\n",
       "1  0.495800  0.407448  0.249665\n",
       "2  0.336099  0.443157  0.926575\n",
       "3  0.957757  0.236765  0.996101\n",
       "4  0.961121  0.784629  0.154384\n",
       "5  0.120409  0.383636  0.510969\n",
       "6  0.505870  0.268738  0.269260\n",
       "7  0.759919  0.004244  0.521494\n",
       "8  0.061665  0.277545  0.517106\n",
       "9  0.940788  0.698134  0.667816"
      ]
     },
     "execution_count": 136,
     "metadata": {},
     "output_type": "execute_result"
    }
   ],
   "source": [
    "# On peut initialiser un pd.Dataframe avec un np.Array.\n",
    "data = pd.DataFrame(np.random.random(size=(10,3)), columns=['A','B','C'])\n",
    "\n",
    "# Pandas possède de nombreuses fonctions pour importer des données depuis un fichier:\n",
    "try:\n",
    "    pd.read_csv(\"data.csv\")\n",
    "    pd.read_csv(\"data.tsv\", sep='\\t')\n",
    "    pd.read_json(\"data.json\")\n",
    "    pd.read_excel(\"data.xls\")\n",
    "except FileNotFoundError:\n",
    "    pass\n",
    "data"
   ]
  },
  {
   "cell_type": "code",
   "execution_count": 137,
   "metadata": {},
   "outputs": [
    {
     "data": {
      "text/html": [
       "<div>\n",
       "<style scoped>\n",
       "    .dataframe tbody tr th:only-of-type {\n",
       "        vertical-align: middle;\n",
       "    }\n",
       "\n",
       "    .dataframe tbody tr th {\n",
       "        vertical-align: top;\n",
       "    }\n",
       "\n",
       "    .dataframe thead th {\n",
       "        text-align: right;\n",
       "    }\n",
       "</style>\n",
       "<table border=\"1\" class=\"dataframe\">\n",
       "  <thead>\n",
       "    <tr style=\"text-align: right;\">\n",
       "      <th></th>\n",
       "      <th>A</th>\n",
       "      <th>B</th>\n",
       "      <th>C</th>\n",
       "    </tr>\n",
       "  </thead>\n",
       "  <tbody>\n",
       "    <tr>\n",
       "      <th>count</th>\n",
       "      <td>10.000000</td>\n",
       "      <td>10.000000</td>\n",
       "      <td>10.000000</td>\n",
       "    </tr>\n",
       "    <tr>\n",
       "      <th>mean</th>\n",
       "      <td>0.531916</td>\n",
       "      <td>0.420689</td>\n",
       "      <td>0.568744</td>\n",
       "    </tr>\n",
       "    <tr>\n",
       "      <th>std</th>\n",
       "      <td>0.355833</td>\n",
       "      <td>0.245354</td>\n",
       "      <td>0.295362</td>\n",
       "    </tr>\n",
       "    <tr>\n",
       "      <th>min</th>\n",
       "      <td>0.061665</td>\n",
       "      <td>0.004244</td>\n",
       "      <td>0.154384</td>\n",
       "    </tr>\n",
       "    <tr>\n",
       "      <th>25%</th>\n",
       "      <td>0.218825</td>\n",
       "      <td>0.270940</td>\n",
       "      <td>0.329687</td>\n",
       "    </tr>\n",
       "    <tr>\n",
       "      <th>50%</th>\n",
       "      <td>0.500835</td>\n",
       "      <td>0.395542</td>\n",
       "      <td>0.519300</td>\n",
       "    </tr>\n",
       "    <tr>\n",
       "      <th>75%</th>\n",
       "      <td>0.895571</td>\n",
       "      <td>0.634390</td>\n",
       "      <td>0.822506</td>\n",
       "    </tr>\n",
       "    <tr>\n",
       "      <th>max</th>\n",
       "      <td>0.961121</td>\n",
       "      <td>0.784629</td>\n",
       "      <td>0.996101</td>\n",
       "    </tr>\n",
       "  </tbody>\n",
       "</table>\n",
       "</div>"
      ],
      "text/plain": [
       "               A          B          C\n",
       "count  10.000000  10.000000  10.000000\n",
       "mean    0.531916   0.420689   0.568744\n",
       "std     0.355833   0.245354   0.295362\n",
       "min     0.061665   0.004244   0.154384\n",
       "25%     0.218825   0.270940   0.329687\n",
       "50%     0.500835   0.395542   0.519300\n",
       "75%     0.895571   0.634390   0.822506\n",
       "max     0.961121   0.784629   0.996101"
      ]
     },
     "execution_count": 137,
     "metadata": {},
     "output_type": "execute_result"
    }
   ],
   "source": [
    "# Dataframe.describe() donne quelques statistiques descriptives.\n",
    "data.describe()"
   ]
  },
  {
   "cell_type": "code",
   "execution_count": 138,
   "metadata": {},
   "outputs": [
    {
     "data": {
      "text/html": [
       "<div>\n",
       "<style scoped>\n",
       "    .dataframe tbody tr th:only-of-type {\n",
       "        vertical-align: middle;\n",
       "    }\n",
       "\n",
       "    .dataframe tbody tr th {\n",
       "        vertical-align: top;\n",
       "    }\n",
       "\n",
       "    .dataframe thead th {\n",
       "        text-align: right;\n",
       "    }\n",
       "</style>\n",
       "<table border=\"1\" class=\"dataframe\">\n",
       "  <thead>\n",
       "    <tr style=\"text-align: right;\">\n",
       "      <th></th>\n",
       "      <th>A</th>\n",
       "      <th>B</th>\n",
       "      <th>C</th>\n",
       "    </tr>\n",
       "  </thead>\n",
       "  <tbody>\n",
       "    <tr>\n",
       "      <th>3</th>\n",
       "      <td>0.957757</td>\n",
       "      <td>0.236765</td>\n",
       "      <td>0.996101</td>\n",
       "    </tr>\n",
       "    <tr>\n",
       "      <th>4</th>\n",
       "      <td>0.961121</td>\n",
       "      <td>0.784629</td>\n",
       "      <td>0.154384</td>\n",
       "    </tr>\n",
       "    <tr>\n",
       "      <th>6</th>\n",
       "      <td>0.505870</td>\n",
       "      <td>0.268738</td>\n",
       "      <td>0.269260</td>\n",
       "    </tr>\n",
       "    <tr>\n",
       "      <th>7</th>\n",
       "      <td>0.759919</td>\n",
       "      <td>0.004244</td>\n",
       "      <td>0.521494</td>\n",
       "    </tr>\n",
       "    <tr>\n",
       "      <th>9</th>\n",
       "      <td>0.940788</td>\n",
       "      <td>0.698134</td>\n",
       "      <td>0.667816</td>\n",
       "    </tr>\n",
       "  </tbody>\n",
       "</table>\n",
       "</div>"
      ],
      "text/plain": [
       "          A         B         C\n",
       "3  0.957757  0.236765  0.996101\n",
       "4  0.961121  0.784629  0.154384\n",
       "6  0.505870  0.268738  0.269260\n",
       "7  0.759919  0.004244  0.521494\n",
       "9  0.940788  0.698134  0.667816"
      ]
     },
     "execution_count": 138,
     "metadata": {},
     "output_type": "execute_result"
    }
   ],
   "source": [
    "# L'indexage avancé permet de filtrer les tableaux avec des booléens. \n",
    "data[data.A>0.5]"
   ]
  },
  {
   "cell_type": "code",
   "execution_count": 143,
   "metadata": {},
   "outputs": [
    {
     "data": {
      "text/html": [
       "<div>\n",
       "<style scoped>\n",
       "    .dataframe tbody tr th:only-of-type {\n",
       "        vertical-align: middle;\n",
       "    }\n",
       "\n",
       "    .dataframe tbody tr th {\n",
       "        vertical-align: top;\n",
       "    }\n",
       "\n",
       "    .dataframe thead th {\n",
       "        text-align: right;\n",
       "    }\n",
       "</style>\n",
       "<table border=\"1\" class=\"dataframe\">\n",
       "  <thead>\n",
       "    <tr style=\"text-align: right;\">\n",
       "      <th></th>\n",
       "      <th>A</th>\n",
       "      <th>B</th>\n",
       "      <th>C</th>\n",
       "      <th>GrandA</th>\n",
       "    </tr>\n",
       "  </thead>\n",
       "  <tbody>\n",
       "    <tr>\n",
       "      <th>0</th>\n",
       "      <td>0.179734</td>\n",
       "      <td>0.702595</td>\n",
       "      <td>0.874070</td>\n",
       "      <td>Non</td>\n",
       "    </tr>\n",
       "    <tr>\n",
       "      <th>1</th>\n",
       "      <td>0.495800</td>\n",
       "      <td>0.407448</td>\n",
       "      <td>0.249665</td>\n",
       "      <td>Non</td>\n",
       "    </tr>\n",
       "    <tr>\n",
       "      <th>2</th>\n",
       "      <td>0.336099</td>\n",
       "      <td>0.443157</td>\n",
       "      <td>0.926575</td>\n",
       "      <td>Non</td>\n",
       "    </tr>\n",
       "    <tr>\n",
       "      <th>3</th>\n",
       "      <td>0.957757</td>\n",
       "      <td>0.236765</td>\n",
       "      <td>0.996101</td>\n",
       "      <td>Oui</td>\n",
       "    </tr>\n",
       "    <tr>\n",
       "      <th>4</th>\n",
       "      <td>0.961121</td>\n",
       "      <td>0.784629</td>\n",
       "      <td>0.154384</td>\n",
       "      <td>Oui</td>\n",
       "    </tr>\n",
       "    <tr>\n",
       "      <th>5</th>\n",
       "      <td>0.120409</td>\n",
       "      <td>0.383636</td>\n",
       "      <td>0.510969</td>\n",
       "      <td>Non</td>\n",
       "    </tr>\n",
       "    <tr>\n",
       "      <th>6</th>\n",
       "      <td>0.505870</td>\n",
       "      <td>0.268738</td>\n",
       "      <td>0.269260</td>\n",
       "      <td>Oui</td>\n",
       "    </tr>\n",
       "    <tr>\n",
       "      <th>7</th>\n",
       "      <td>0.759919</td>\n",
       "      <td>0.004244</td>\n",
       "      <td>0.521494</td>\n",
       "      <td>Oui</td>\n",
       "    </tr>\n",
       "    <tr>\n",
       "      <th>8</th>\n",
       "      <td>0.061665</td>\n",
       "      <td>0.277545</td>\n",
       "      <td>0.517106</td>\n",
       "      <td>Non</td>\n",
       "    </tr>\n",
       "    <tr>\n",
       "      <th>9</th>\n",
       "      <td>0.940788</td>\n",
       "      <td>0.698134</td>\n",
       "      <td>0.667816</td>\n",
       "      <td>Oui</td>\n",
       "    </tr>\n",
       "  </tbody>\n",
       "</table>\n",
       "</div>"
      ],
      "text/plain": [
       "          A         B         C GrandA\n",
       "0  0.179734  0.702595  0.874070    Non\n",
       "1  0.495800  0.407448  0.249665    Non\n",
       "2  0.336099  0.443157  0.926575    Non\n",
       "3  0.957757  0.236765  0.996101    Oui\n",
       "4  0.961121  0.784629  0.154384    Oui\n",
       "5  0.120409  0.383636  0.510969    Non\n",
       "6  0.505870  0.268738  0.269260    Oui\n",
       "7  0.759919  0.004244  0.521494    Oui\n",
       "8  0.061665  0.277545  0.517106    Non\n",
       "9  0.940788  0.698134  0.667816    Oui"
      ]
     },
     "execution_count": 143,
     "metadata": {},
     "output_type": "execute_result"
    }
   ],
   "source": [
    "data['GrandA'] = ['Oui' if x>0.5 else 'Non' for x in data.A]\n",
    "data"
   ]
  },
  {
   "cell_type": "code",
   "execution_count": 148,
   "metadata": {},
   "outputs": [
    {
     "data": {
      "text/html": [
       "<div>\n",
       "<style scoped>\n",
       "    .dataframe tbody tr th:only-of-type {\n",
       "        vertical-align: middle;\n",
       "    }\n",
       "\n",
       "    .dataframe tbody tr th {\n",
       "        vertical-align: top;\n",
       "    }\n",
       "\n",
       "    .dataframe thead th {\n",
       "        text-align: right;\n",
       "    }\n",
       "</style>\n",
       "<table border=\"1\" class=\"dataframe\">\n",
       "  <thead>\n",
       "    <tr style=\"text-align: right;\">\n",
       "      <th></th>\n",
       "      <th>A</th>\n",
       "      <th>B</th>\n",
       "      <th>C</th>\n",
       "    </tr>\n",
       "    <tr>\n",
       "      <th>GrandA</th>\n",
       "      <th></th>\n",
       "      <th></th>\n",
       "      <th></th>\n",
       "    </tr>\n",
       "  </thead>\n",
       "  <tbody>\n",
       "    <tr>\n",
       "      <th>Non</th>\n",
       "      <td>0.238742</td>\n",
       "      <td>0.442876</td>\n",
       "      <td>0.615677</td>\n",
       "    </tr>\n",
       "    <tr>\n",
       "      <th>Oui</th>\n",
       "      <td>0.825091</td>\n",
       "      <td>0.398502</td>\n",
       "      <td>0.521811</td>\n",
       "    </tr>\n",
       "  </tbody>\n",
       "</table>\n",
       "</div>"
      ],
      "text/plain": [
       "               A         B         C\n",
       "GrandA                              \n",
       "Non     0.238742  0.442876  0.615677\n",
       "Oui     0.825091  0.398502  0.521811"
      ]
     },
     "execution_count": 148,
     "metadata": {},
     "output_type": "execute_result"
    }
   ],
   "source": [
    "# Dataframe.groupby permet de grouper les valeurs en fonction de la valeur d'une colonne.\n",
    "# Cela donne un objet groupby qui a ses méthodes mean, max, sum...\n",
    "data.groupby('GrandA').mean()"
   ]
  },
  {
   "cell_type": "code",
   "execution_count": 154,
   "metadata": {},
   "outputs": [
    {
     "name": "stdout",
     "output_type": "stream",
     "text": [
      "Le groupe \"Non\" a 5 valeurs.\n",
      "Le groupe \"Oui\" a 5 valeurs.\n"
     ]
    }
   ],
   "source": [
    "# Et sur lequel on peut itérer:\n",
    "for value, dt in data.groupby('GrandA'):\n",
    "    print('Le groupe \"{}\" a {} valeurs.'.format(value, dt.shape[0]))"
   ]
  },
  {
   "cell_type": "code",
   "execution_count": 162,
   "metadata": {},
   "outputs": [
    {
     "data": {
      "text/plain": [
       "<matplotlib.axes._subplots.AxesSubplot at 0x7f478c47ca20>"
      ]
     },
     "execution_count": 162,
     "metadata": {},
     "output_type": "execute_result"
    },
    {
     "data": {
      "image/png": "[encoded data removed]",
      "text/plain": [
       "<Figure size 432x288 with 1 Axes>"
      ]
     },
     "metadata": {},
     "output_type": "display_data"
    },
    {
     "data": {
      "image/png": "[encoded data removed]",
      "text/plain": [
       "<Figure size 432x288 with 1 Axes>"
      ]
     },
     "metadata": {},
     "output_type": "display_data"
    }
   ],
   "source": [
    "# Pandas est compatible avec matplotlib...\n",
    "plt.scatter(data.A, data.B);\n",
    "\n",
    "#...et les dataframes possèdent une méthode permettant des visualisations rapides.\n",
    "data.plot()"
   ]
  },
  {
   "cell_type": "code",
   "execution_count": 175,
   "metadata": {},
   "outputs": [
    {
     "data": {
      "text/html": [
       "<div>\n",
       "<style scoped>\n",
       "    .dataframe tbody tr th:only-of-type {\n",
       "        vertical-align: middle;\n",
       "    }\n",
       "\n",
       "    .dataframe tbody tr th {\n",
       "        vertical-align: top;\n",
       "    }\n",
       "\n",
       "    .dataframe thead th {\n",
       "        text-align: right;\n",
       "    }\n",
       "</style>\n",
       "<table border=\"1\" class=\"dataframe\">\n",
       "  <thead>\n",
       "    <tr style=\"text-align: right;\">\n",
       "      <th></th>\n",
       "      <th>Niveau</th>\n",
       "      <th>Nom</th>\n",
       "      <th>Parcours</th>\n",
       "    </tr>\n",
       "  </thead>\n",
       "  <tbody>\n",
       "    <tr>\n",
       "      <th>0</th>\n",
       "      <td>L3</td>\n",
       "      <td>Alice</td>\n",
       "      <td>Biologie</td>\n",
       "    </tr>\n",
       "    <tr>\n",
       "      <th>1</th>\n",
       "      <td>L3</td>\n",
       "      <td>Bob</td>\n",
       "      <td>Biologie</td>\n",
       "    </tr>\n",
       "    <tr>\n",
       "      <th>2</th>\n",
       "      <td>M1</td>\n",
       "      <td>Megan</td>\n",
       "      <td>Biologie</td>\n",
       "    </tr>\n",
       "  </tbody>\n",
       "</table>\n",
       "</div>"
      ],
      "text/plain": [
       "  Niveau    Nom  Parcours\n",
       "0     L3  Alice  Biologie\n",
       "1     L3    Bob  Biologie\n",
       "2     M1  Megan  Biologie"
      ]
     },
     "metadata": {},
     "output_type": "display_data"
    },
    {
     "data": {
      "text/html": [
       "<div>\n",
       "<style scoped>\n",
       "    .dataframe tbody tr th:only-of-type {\n",
       "        vertical-align: middle;\n",
       "    }\n",
       "\n",
       "    .dataframe tbody tr th {\n",
       "        vertical-align: top;\n",
       "    }\n",
       "\n",
       "    .dataframe thead th {\n",
       "        text-align: right;\n",
       "    }\n",
       "</style>\n",
       "<table border=\"1\" class=\"dataframe\">\n",
       "  <thead>\n",
       "    <tr style=\"text-align: right;\">\n",
       "      <th></th>\n",
       "      <th>Cours</th>\n",
       "      <th>Nom</th>\n",
       "      <th>Note</th>\n",
       "    </tr>\n",
       "  </thead>\n",
       "  <tbody>\n",
       "    <tr>\n",
       "      <th>0</th>\n",
       "      <td>Python</td>\n",
       "      <td>Alice</td>\n",
       "      <td>15</td>\n",
       "    </tr>\n",
       "    <tr>\n",
       "      <th>1</th>\n",
       "      <td>R</td>\n",
       "      <td>Alice</td>\n",
       "      <td>12</td>\n",
       "    </tr>\n",
       "    <tr>\n",
       "      <th>2</th>\n",
       "      <td>Python</td>\n",
       "      <td>Bob</td>\n",
       "      <td>10</td>\n",
       "    </tr>\n",
       "    <tr>\n",
       "      <th>3</th>\n",
       "      <td>R</td>\n",
       "      <td>Bob</td>\n",
       "      <td>16</td>\n",
       "    </tr>\n",
       "    <tr>\n",
       "      <th>4</th>\n",
       "      <td>Python</td>\n",
       "      <td>Megan</td>\n",
       "      <td>18</td>\n",
       "    </tr>\n",
       "    <tr>\n",
       "      <th>5</th>\n",
       "      <td>R</td>\n",
       "      <td>Megan</td>\n",
       "      <td>11</td>\n",
       "    </tr>\n",
       "  </tbody>\n",
       "</table>\n",
       "</div>"
      ],
      "text/plain": [
       "    Cours    Nom  Note\n",
       "0  Python  Alice    15\n",
       "1       R  Alice    12\n",
       "2  Python    Bob    10\n",
       "3       R    Bob    16\n",
       "4  Python  Megan    18\n",
       "5       R  Megan    11"
      ]
     },
     "metadata": {},
     "output_type": "display_data"
    },
    {
     "data": {
      "text/html": [
       "<div>\n",
       "<style scoped>\n",
       "    .dataframe tbody tr th:only-of-type {\n",
       "        vertical-align: middle;\n",
       "    }\n",
       "\n",
       "    .dataframe tbody tr th {\n",
       "        vertical-align: top;\n",
       "    }\n",
       "\n",
       "    .dataframe thead th {\n",
       "        text-align: right;\n",
       "    }\n",
       "</style>\n",
       "<table border=\"1\" class=\"dataframe\">\n",
       "  <thead>\n",
       "    <tr style=\"text-align: right;\">\n",
       "      <th></th>\n",
       "      <th>Niveau</th>\n",
       "      <th>Nom</th>\n",
       "      <th>Parcours</th>\n",
       "      <th>Cours</th>\n",
       "      <th>Note</th>\n",
       "    </tr>\n",
       "  </thead>\n",
       "  <tbody>\n",
       "    <tr>\n",
       "      <th>0</th>\n",
       "      <td>L3</td>\n",
       "      <td>Alice</td>\n",
       "      <td>Biologie</td>\n",
       "      <td>Python</td>\n",
       "      <td>15</td>\n",
       "    </tr>\n",
       "    <tr>\n",
       "      <th>1</th>\n",
       "      <td>L3</td>\n",
       "      <td>Alice</td>\n",
       "      <td>Biologie</td>\n",
       "      <td>R</td>\n",
       "      <td>12</td>\n",
       "    </tr>\n",
       "    <tr>\n",
       "      <th>2</th>\n",
       "      <td>L3</td>\n",
       "      <td>Bob</td>\n",
       "      <td>Biologie</td>\n",
       "      <td>Python</td>\n",
       "      <td>10</td>\n",
       "    </tr>\n",
       "    <tr>\n",
       "      <th>3</th>\n",
       "      <td>L3</td>\n",
       "      <td>Bob</td>\n",
       "      <td>Biologie</td>\n",
       "      <td>R</td>\n",
       "      <td>16</td>\n",
       "    </tr>\n",
       "    <tr>\n",
       "      <th>4</th>\n",
       "      <td>M1</td>\n",
       "      <td>Megan</td>\n",
       "      <td>Biologie</td>\n",
       "      <td>Python</td>\n",
       "      <td>18</td>\n",
       "    </tr>\n",
       "    <tr>\n",
       "      <th>5</th>\n",
       "      <td>M1</td>\n",
       "      <td>Megan</td>\n",
       "      <td>Biologie</td>\n",
       "      <td>R</td>\n",
       "      <td>11</td>\n",
       "    </tr>\n",
       "  </tbody>\n",
       "</table>\n",
       "</div>"
      ],
      "text/plain": [
       "  Niveau    Nom  Parcours   Cours  Note\n",
       "0     L3  Alice  Biologie  Python    15\n",
       "1     L3  Alice  Biologie       R    12\n",
       "2     L3    Bob  Biologie  Python    10\n",
       "3     L3    Bob  Biologie       R    16\n",
       "4     M1  Megan  Biologie  Python    18\n",
       "5     M1  Megan  Biologie       R    11"
      ]
     },
     "execution_count": 175,
     "metadata": {},
     "output_type": "execute_result"
    }
   ],
   "source": [
    "# Les dataframe permettent des opérations sophistiquées de bases de données comme la jointure de table.\n",
    "etudiants = pd.DataFrame([{\"Nom\":\"Alice\",\"Parcours\":\"Biologie\", \"Niveau\":\"L3\"},\n",
    "                         {\"Nom\":\"Bob\",\"Parcours\":\"Biologie\", \"Niveau\":\"L3\"},\n",
    "                         {\"Nom\":\"Megan\",\"Parcours\":\"Biologie\", \"Niveau\":\"M1\"}])\n",
    "notes = pd.DataFrame({'Nom':['Alice','Alice','Bob','Bob','Megan', 'Megan'],\n",
    "                      'Cours':['Python','R']*3,\n",
    "                      'Note':[15,12,10,16,18,11]})\n",
    "\n",
    "from IPython.display import display\n",
    "display(etudiants, notes)\n",
    "pd.merge(etudiants, notes, left_on='Nom', right_on='Nom')"
   ]
  }
 ],
 "metadata": {
  "kernelspec": {
   "display_name": "Python 3",
   "language": "python",
   "name": "python3"
  },
  "language_info": {
   "codemirror_mode": {
    "name": "ipython",
    "version": 3
   },
   "file_extension": ".py",
   "mimetype": "text/x-python",
   "name": "python",
   "nbconvert_exporter": "python",
   "pygments_lexer": "ipython3",
   "version": "3.5.3"
  },
  "toc": {
   "base_numbering": 1,
   "nav_menu": {},
   "number_sections": true,
   "sideBar": true,
   "skip_h1_title": false,
   "title_cell": "Table of Contents",
   "title_sidebar": "Contents",
   "toc_cell": false,
   "toc_position": {},
   "toc_section_display": true,
   "toc_window_display": false
  }
 },
 "nbformat": 4,
 "nbformat_minor": 2
}
