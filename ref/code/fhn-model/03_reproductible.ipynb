{
 "cells": [
  {
   "cell_type": "markdown",
   "metadata": {},
   "source": [
    "# Recherche reproductible et interfaces\n",
    "\n",
    "Le biologiste moderne, nous l'avons vu doit souvent écrire de petits programmes. Ses principales préoccupations sont (dans l'ordre):\n",
    "\n",
    "- Le programme doit être correct\n",
    "- Les résultats doivent être facilement reproductibles\n",
    "- Le programme doit être pratique à utiliser\n",
    "\n",
    "Vous remarquerez que la notion de vitesse d'exécution n'est même pas dans cette liste. En effet, c'est souvent un problème secondaire.  "
   ]
  },
  {
   "cell_type": "markdown",
   "metadata": {},
   "source": [
    "## Assurer le caractère pratique de son code\n",
    "\n",
    "### De l'importance d'une bonne interface\n",
    "\n",
    "L'interface est la partie de votre code avec lequel l'utilisateur interagit avec votre code (dans la recherche c'est souvent vous-même, éventuellement dans quelques mois/années, mais soyez sympa avec vous-même). Il est donc important qu'elle soit claire et pratique. \n",
    "\n",
    "Pour des petites analyses, un Notebook Jupyter bien documenté (avec des blocs de textes en markdown) et commenté (avec des docstring et autres) est satisfaisant. \n",
    "\n",
    "Dès que l'on commence à avoir une utilisation plus intensive (utilisation sur de nombreux jeux de données, très longs calculs)... il est bénéfique de sortir l'analyse du notebook. Quitte à ne l'utiliser que pour l'exploration interactive et la présentation (avec prise de notes) des résultats. \n",
    "\n",
    "Je vous propose de parler de deux types d'interface. L'interface en ligne de commande (CLI, command line interface) et l'interface programmatique (Advanced Programming Interface, API). On ne couvrira pas les interface graphiques (Graphical user interface, GUI) parce que ce n'est pas si utile quand on développe un programme scientifique. On peut souvent se contenter de la GUI fournie par le notebook.\n",
    "\n",
    "### L'interface console (CLI) avec argparse\n",
    "\n",
    "L'interface en ligne de commande est celle que vous invoquez quand vous lancer votre programme depuis le terminal. \n",
    "\n",
    "Nous avons vu dans les exercices comment utiliser input pour demander à l'utilisateur de rentrer des valeurs. Cependant c'est une très mauvaise pratique. Une bonne interface en ligne de commande pour un logiciel scientifique n'est pas interactive, et permet que tous les paramètres soient passés par des arguments.\n",
    "\n",
    "Cela à l'avantage de permettre la compatibilité avec les autres outils unix (cat, grep, awk, count...) mais surtout cela permet l'automatisation de votre programme. Comme le lancer en parallèle sur un grand nombre de jeux de données ou avec un grand nombre de paramètre, sur votre machine ou sur une grille de calcul. "
   ]
  },
  {
   "cell_type": "code",
   "execution_count": 2,
   "metadata": {},
   "outputs": [
    {
     "data": {
      "text/plain": [
       "['/usr/local/lib/python3.5/dist-packages/ipykernel_launcher.py',\n",
       " '-f',\n",
       " '/run/user/1000/jupyter/kernel-62d83444-484e-4cf0-9e89-73aa417966f4.json']"
      ]
     },
     "execution_count": 2,
     "metadata": {},
     "output_type": "execute_result"
    }
   ],
   "source": [
    "# Tous les arguments passés au démarrage de\n",
    "# l'interpréteur se trouvent dans la liste sys.argv.\n",
    "import sys\n",
    "sys.argv"
   ]
  },
  {
   "cell_type": "markdown",
   "metadata": {},
   "source": [
    "Une solution est de parser `sys.argv` à la main. Heureusement Python à un module dans sa bibliothèque standard qui permet de créer facilement des interfaces en ligne de commande. Il s'agit de `argparse`. `argparse` possède une API orienté objet, un [bon tutoriel](https://docs.python.org/3.7/howto/argparse.html) et est très facile d'utilisation. Voici un exemple minimal:\n",
    "\n",
    "```python\n",
    "#! /usr/bin/env python3\n",
    "\"\"\" Un exemple d'interface. \n",
    "Mettre une docstring au début d'un fichier python définit la docstring du module associé.\"\"\"\n",
    "import argparse\n",
    "import random\n",
    "\n",
    "# Créer un objet Argument Parser. Le champ description est utilisé pour l'aide de votre programme.\n",
    "parser = argparse.ArgumentParser(description='Generate a random sequence')\n",
    "\n",
    "# Ajouter un nouvel argument -N, qui prend un entier, qui vaut 10 par défaut\n",
    "# et qui doit être présent 1 ou 0 fois (vous pouvez utiliser *,+,? comme pour les regexp, ou un nombre)\n",
    "parser.add_argument('-N', help='Sequence size', type=int, default=10, nargs=\"?\")\n",
    "\n",
    "# Parse les arguments présents dans sys.argv\n",
    "args = parser.parse_args() # => Renvoie un objet de type Namespace\n",
    "\n",
    "# On accède aux arguments avec la syntaxe habituelle des espaces de noms\n",
    "print('> Random sequence of length {}'.format(args.N))\n",
    "print(''.join([random.choice('ATGC') for _ in range(args.N)]))\n",
    "```\n",
    "\n",
    "Si vous mettez ceci dans un fichier `sequence.py`, voici le résultat:\n",
    "\n",
    "```bash\n",
    "guilhem@volvox:~/lectures/python$ ./sequences.py -N 3\n",
    "> Random sequence of length 3\n",
    "TTC\n",
    "```\n",
    "\n",
    "Vous pouvez constater que python fait la prise en charge des erreurs pour vous: \n",
    " \n",
    "```bash\n",
    "guilhem@volvox:~/lectures/python$ ./sequences.py -N \"Blah\"\n",
    "usage: sequences.py [-h] [-N [N]]\n",
    "sequences.py: error: argument -N: invalid int value: 'Blah'\n",
    "```\n",
    "\n",
    "Et créér même l'aide de votre programme automatiquement:\n",
    "\n",
    "```bash\n",
    "guilhem@volvox:~/lectures/python$ ./sequences.py --help\n",
    "usage: sequences.py [-h] [-N [N]]\n",
    "\n",
    "Generate a random sequence\n",
    "\n",
    "optional arguments:\n",
    "  -h, --help  show this help message and exit\n",
    "  -N [N]      Sequence size\n",
    "```"
   ]
  },
  {
   "cell_type": "code",
   "execution_count": null,
   "metadata": {},
   "outputs": [],
   "source": [
    "# Exercice :\n",
    "# Écrivez une interface CLI pour votre logiciel de traitement de séquence\n",
    "#- `sequence.py -N 100` doit renvoyer une séquence aléatoire de longueur 100\n",
    "#- `sequence.py -N 100 --fasta` doit le faire au format fasta\n",
    "#- `sequence.py -N 100 --translate` doit convertir la séquence en protéines\n",
    "\n",
    "# Avancé: accepter une séquence d'entrée dans un fichier si on utilise `--input fichier.fa` au lieu de `-N 100`."
   ]
  },
  {
   "cell_type": "markdown",
   "metadata": {},
   "source": [
    "### L'interface programmatique (API) avec un module\n",
    "\n",
    "Un second type d'interface, à laquelle vous avez déjà tous eu à faire est l'interface programmatique (API). Typiquement les bibliothèques comme [`numpy`](https://docs.scipy.org/doc/numpy/reference/), [`matplotlib`](https://matplotlib.org/api/api_overview.html) etc. définissent une interface que vous utilisez quand vous faites `import numpy`. Il existe aussi des API qui sont exposées sur le web et que l'on peut interroger depuis son propre code (exemple, celles du [NCBI](https://www.ncbi.nlm.nih.gov/home/develop/api/)). \n",
    "\n",
    "De manière générale une API est un ensemble de spécifications qui régissent la manière avec laquelle l'utilisateur-developpeur va interagir avec votre code. Les API des grandes bibliothèques en sont des composantes cruciales, et ne sont pas changées à la légère (et jamais sans changer le numéro de version), car cela pourrait casser le code des utilisateurs.\n",
    "\n",
    "Au niveau, plus modeste, du chercheur, on peut vouloir réutiliser son code dans d'autre projet, ou publier une méthode avec une interface pratique pour son utilisation. Pour cela, on écrit un **paquet** python et on documente son **API**. Voici quelques notions importantes, comme toujours je vous renvoie à la [documentation officielle](https://docs.python.org/3/distributing/index.html) pour plus d'information. "
   ]
  },
  {
   "cell_type": "markdown",
   "metadata": {},
   "source": [
    "#### Quelques mots sur `import`\n",
    "\n",
    "En python tout fichier contenant des instructions python (en général portant l'extension `*.py`) est un module et peut être importé. Voici un exemple: \n",
    "\n",
    "```python\n",
    "#! /usr/bin/env python3\n",
    "''' fichier module.py '''\n",
    "def fonction_utile(a):\n",
    "    ### Cette fonction fait partie de l'espace de nom du module.\n",
    "    pass\n",
    "\n",
    "print('module chargé !') # Ce code sera exécuté au premier import de ce module.\n",
    "if __name__ == \"__main__\":\n",
    "    ### Le code dans ce bloc sera exécuté seulement si on appelle ce\n",
    "    ### module avec python3 module.py ou ./module.py\n",
    "    ### mais pas si on import module\n",
    "    fonction_utile(4)\n",
    "```\n",
    "\n",
    "Dans un autre fichier...\n",
    "\n",
    "```python\n",
    "#! /usr/bin/env python3\n",
    "''' fichier main.py '''\n",
    "import module\n",
    "# L'espace de nom du module est maintenant accessible avec la syntaxe \"module.variable\" ou \"module.fonction\"\n",
    "module.fonction_utile(10)\n",
    "```\n",
    "\n",
    "Notez que les modules peuvent être regroupés en un sous-module en les plaçant dans le même dossier. Si on importe le nom du dossier, python cherchera un fichier avec le nom spécial `__init__.py`.\n",
    "\n",
    "Ainsi, si on a cette arborescence: \n",
    "```bash\n",
    "./main.py\n",
    "./module/ \n",
    "./module/__init__.py \n",
    "./module/sous_module.py \n",
    "```\n",
    "et ce fichier: \n",
    "\n",
    "```python \n",
    "\"\"\"contenu de main.py\"\"\"\n",
    "import module # Importe module/__init__.py\n",
    "import module.sous_module # Importe module/sous_module.py\n",
    "``` "
   ]
  },
  {
   "cell_type": "markdown",
   "metadata": {},
   "source": [
    "#### Mais où sont les modules ? \n",
    "\n",
    "Quand on utilise la commande `import blah`, python cherche un fichier `blah.py` dans le répertoire local (donné par ` os.getcwd()`) puis, s'il ne trouve pas il essaye successivement les chemins disponibles dans `sys.path`.\n",
    "\n",
    "Exemple:\n",
    " \n",
    "```python\n",
    ">>> import sys\n",
    ">>> print(sys.path)\n",
    "['',\n",
    " '/usr/lib/python35.zip',\n",
    " '/usr/lib/python3.5',\n",
    " '/usr/lib/python3.5/plat-x86_64-linux-gnu',\n",
    " '/usr/lib/python3.5/lib-dynload',\n",
    " '/home/guilhem/.local/lib/python3.5/site-packages',\n",
    " '/usr/local/lib/python3.5/dist-packages',\n",
    " '/usr/lib/python3/dist-packages',\n",
    " '/usr/local/lib/python3.5/dist-packages/IPython/extensions'\n",
    "]\n",
    "```"
   ]
  },
  {
   "cell_type": "markdown",
   "metadata": {},
   "source": [
    "#### Installer un module\n",
    "\n",
    "Installer un module en python se fait avec la commande `pip` (Python Package Installer). La [documentation complète est la référence](https://docs.python.org/3/installing/index.html#installing-index), mais voici quelques trucs à retenir:\n",
    "\n",
    "```bash\n",
    "# Installe le paquet nomdupaquet depuis le Python Package Index [PyPI](https://pypi.org/) (necessite d'être root)\n",
    "pip install nomdupaquet\n",
    "\n",
    "# Installe le paquet dans .local/lib/ (pas besoin d'être root)\n",
    "pip --user install nomdupaquet\n",
    "\n",
    "# Installe un paquet depuis un dossier\n",
    "pip install ./dossier/paquet\n",
    "\n",
    "# Installe un paquet depuis un dossier SANS le copier dans le path\n",
    "# ce qui permet de ne pas avoir à le réinstaller à chaque modification\n",
    "# on parle de `developper mode`\n",
    "pip install -e ./dossier/paquet\n",
    "\n",
    "# Installe un paquet depuis une archive de sources\n",
    "pip install ./paquet.tar.gz\n",
    "\n",
    "# Installe un paquet depuis un dépôt gitlab|github bien configuré\n",
    "pip install https://gitlab.com/<depot>/repository/archive.zip?ref=master\n",
    "```"
   ]
  },
  {
   "cell_type": "markdown",
   "metadata": {},
   "source": [
    "#### Un path temporaire pour chaque projet: `virtualenv`\n",
    "\n",
    "Par défaut `pip` installe dans le path global du système, ce qui nécessite les droits d'administrateur. On peut installer en mode utilisateur, mais il reste un problème: plusieurs projets peuvent avoir besoin de plusieurs versions de modules différents (certains de vos collaborateurs sont sous numpy 10 et les autre sous numpy 11), ou vous voulez être sûr qu'une mise à jour intempestive de votre système ne changera pas la version des paquets. \n",
    "\n",
    "L'utilitaire `virtualenv` permet de créer un \"environnement virtuel\" très facilement. C'est-à-dire une installation de python indépendante de votre système hôte, avec son propre path et ses propres paquets installés. [La documentation sur virtualenv est, bien sûr, la référence](https://docs.python.org/3/tutorial/venv.html?highlight=pip) mais voici les quelques trucs à retenir. \n",
    "\n",
    "```bash\n",
    "# Créer un virtualenv, avec son path, python et pip.\n",
    "virtualenv mon_environnement \n",
    "# Cela créer un répertoire mon_environnement.\n",
    "# On peut préciser la version de python avec l'option -p (voir man virtualenv)\n",
    "# Activer le virtualenv\n",
    "source mon_environnement/bin/activate\n",
    "# Maintenant dans cette console, tout appel a python ou pip utilisera le python de cet environnement virtuel et non celui du système.\n",
    "# Il faut y réinstaller vos paquets (avec pip).\n",
    "\n",
    "# L'environnement est ouvert dans le shell courant.\n",
    "# Pour le quitter sans fermer son shell (terminal, connection SSH) il faut faire:\n",
    "deactivate\n",
    "```"
   ]
  },
  {
   "cell_type": "markdown",
   "metadata": {},
   "source": [
    "#### Écrire un paquet Python\n",
    "\n",
    "Écrire un paquet python n'est pas très compliqué, à condition de s'y prendre avec méthode et bien suivre la [documentation](https://packaging.python.org/tutorials/packaging-projects/#packaging-your-project). Voici un exemple minimal. \n",
    "\n",
    "```bash\n",
    "./mon_paquet/\n",
    "./mon_paquet/setup.py # Configure le paquet.\n",
    "./mon_paquet/mon_paquet.py # Le module à empaqueter (pourrait être un dossier comme vu plus haut)\n",
    "```\n",
    "\n",
    "Le contenu de `setup.py` donne les informations sur le paquet:\n",
    "\n",
    "```python\n",
    "import setuptools\n",
    "\n",
    "long_description = \"\"\"# Mon paquet il est beau...\n",
    "\n",
    "...et en plus il expose de belles fonctions.\"\"\"\n",
    "\n",
    "setuptools.setup(\n",
    "    name=\"mon_paquet\",\n",
    "    version=\"0.0.1\",\n",
    "    author=\"Ernest Dulm\",\n",
    "    author_email=\"example@ens.fr\",\n",
    "    description=\"Un bien beau paquet\",\n",
    "    long_description=long_description,\n",
    "    long_description_content_type=\"text/markdown\",\n",
    "    url=\"https://github.com/pypa/sampleproject\",\n",
    "    packages=setuptools.find_packages(),\n",
    ")\n",
    "```\n",
    "\n",
    "Vous pouvez maintenant installer ce paquet avec `pip ./mon_paquet`. \n",
    "\n",
    "Ou créer une archive re-distribuable avec `python3 setup.py sdist` (var créer `./dist/mon_paquet-0.0.1.tar.gz`) \n",
    "\n",
    "Si vous souhaitez que votre paquet expose une commande pour votre terminal c'est dans le [setup.py que ça se passe](https://setuptools.readthedocs.io/en/latest/setuptools.html#automatic-script-creation). \n",
    "\n",
    "#### Exercice:\n",
    "\n",
    "- Écrire un paquet pour votre programme de traitement des séquences.\n",
    "- L'installer n mode développeur avec `pip -e <chemin>`\n",
    "- L'importer depuis un notebook se trouvant ailleurs dans votre home."
   ]
  },
  {
   "cell_type": "markdown",
   "metadata": {},
   "source": [
    "## Assurer le caractère reproductible de son code\n",
    "\n",
    "Très rapidement vous (ou vos collaborateurs) serez amené à ré-utiliser du code que vous avez écrit quelques mois/ans plus tôt, pour refaire une analyse, répondre à un reviewer. Pour que ceci se passe sans douleur, il est important de bien organiser son code.\n",
    "\n",
    "Si tout votre code se trouve dans un notebook-spaghetti, où il faut exécuter les cellules dans une ordre précis pour qu'elles fonctionnent (parfois), vous allez avoir beaucoup de mal. Voici une série de conseils généraux:\n",
    "\n",
    "- Vérifiez ponctuellement que vos notebook s'exécutent sans erreurs si vous faites (Kernel->Restart and Run all). Toujours faire cette vérification avant d'arrêter de travailler sur un notebook. \n",
    "- Adhérez le plus possible à un style de programmation (comme celui de la [PEP8](https://www.python.org/dev/peps/pep-0008/) utilisé pour la bibliothèque standard et de nombreux paquets).\n",
    "- Un notebook doit servir à l'exploration interactive d'un problème: une fois que le code logique \"critique\" est stabilisé dans le notebook, mettez-le dans un module à part, et importez-le dans le notebook. Il sera plus facile à réutiliser, maintenir et tester.\n",
    "- Mettez votre code dans un gestionnaire de version comme git [git](https://git-scm.com/) et tenez vous y. Software carpentry propose un bon [tutoriel git pour les scientifique](https://swcarpentry.github.io/git-novice/).\n",
    "- Quand vous sauvegardez des résultats d'analyses ou de simulations, sauvegardez toujours les paramètres utilisés.  Ça peut être aussi simple qu'un `write` dans un fichier `metadata.txt`. Faites en sorte qu'il soit impossible d'exporter de nouveaux résultats sans exporter les métadonnées en même temps. \n",
    "- Quand vous recevez des données de l'extérieur (collaborateur, article). Ne modifiez jamais les données \"en place\". Personnellement ma méthode est d'avoir un dossier `data/raw/` qui contient exactement ce qu'on m'a envoyé et un notebook `data/readme.ipynb` qui documente les données (date, provenance, structure), teste si elles sont correctes (nombre d'entrées, pas de 0 aux mauvais endroits etc..) et les convertit dans un format plus simple à traiter (sauvegardé dans un dossier `data/processed`). Comme ça, même si les données changent (nouvelle expérience, etc...), il me suffit de changer cette partie. "
   ]
  },
  {
   "cell_type": "markdown",
   "metadata": {},
   "source": [
    "Exercice: \n",
    "\n",
    "  - Réécrivez votre programme sequence.py pour qu'il adhère a la PEP8 (Vous pouvez tester votre code avec [pylint](https://www.pylint.org/)) \n",
    "  - Voir le notebook \"Ex3\" pour un exemple de bonne pratique notebook/données. "
   ]
  },
  {
   "cell_type": "markdown",
   "metadata": {},
   "source": [
    "## Assurer le caractère correct de son code \n",
    "\n",
    "Peut être la pire chose qui puisse arriver à un morceau de code en recherche est de pas avoir confiance aux résultats qu'il donne.  S'il est très facile de détecter quand un programme plante (pas de résultats), il y a des cas où un programme peut vous donner des résultats (parfois subtilement faux). \n",
    "\n",
    "Cela peut vous faire perdre beaucoup de temps. Comment s'éviter cela ? \n",
    "\n",
    "De manière générale, si un programme est faux, on veut qu'il lève une exception plutôt que de continuer silencieusement. On veut qu'il la lève le plus tôt possible et de façon la plus explicite possible."
   ]
  },
  {
   "cell_type": "markdown",
   "metadata": {},
   "source": [
    "### Les assertions et la programmation défensive\n",
    "\n",
    "La programmation défensive consiste à vérifier un certain nombre de conditions connues tout au long du programme. Une méthode typique fait appel à la commande `assert`. \n",
    "\n",
    "Une commande assert est suivie d'une expression. Si cette expression est correcte, il ne se passe rien. Si non, une exception `AssertError` est levée.\n"
   ]
  },
  {
   "cell_type": "code",
   "execution_count": 13,
   "metadata": {},
   "outputs": [
    {
     "ename": "AssertionError",
     "evalue": "On peut préciser un commentaire qui s'affichera dans la trace",
     "output_type": "error",
     "traceback": [
      "\u001b[0;31m---------------------------------------------------------------------------\u001b[0m",
      "\u001b[0;31mAssertionError\u001b[0m                            Traceback (most recent call last)",
      "\u001b[0;32m<ipython-input-13-7b614d909674>\u001b[0m in \u001b[0;36m<module>\u001b[0;34m()\u001b[0m\n\u001b[1;32m      1\u001b[0m \u001b[0;32massert\u001b[0m \u001b[0;32mTrue\u001b[0m \u001b[0;31m#Il ne se passe rien\u001b[0m\u001b[0;34m\u001b[0m\u001b[0m\n\u001b[0;32m----> 2\u001b[0;31m \u001b[0;32massert\u001b[0m \u001b[0;32mFalse\u001b[0m\u001b[0;34m,\u001b[0m \u001b[0;34m\"On peut préciser un commentaire qui s'affichera dans la trace\"\u001b[0m\u001b[0;34m\u001b[0m\u001b[0m\n\u001b[0m",
      "\u001b[0;31mAssertionError\u001b[0m: On peut préciser un commentaire qui s'affichera dans la trace"
     ]
    }
   ],
   "source": [
    "assert True #Il ne se passe rien\n",
    "assert False, \"On peut préciser un commentaire qui s'affichera dans la trace\""
   ]
  },
  {
   "cell_type": "markdown",
   "metadata": {},
   "source": [
    "Les assertions permettent de vérifier que: \n",
    "- les entrées sont correctes (on parle de pré-conditions)\n",
    "- les sorties sont correctes (on parle de post-conditions)\n",
    "- les conditions qui devraient toujours être vraies le reste (on parle d'invariants)\n",
    "et d'arrêter le programme si ce n'est pas le cas."
   ]
  },
  {
   "cell_type": "code",
   "execution_count": 27,
   "metadata": {},
   "outputs": [
    {
     "ename": "AssertionError",
     "evalue": "Sequence contains other letters than ATGC",
     "output_type": "error",
     "traceback": [
      "\u001b[0;31m---------------------------------------------------------------------------\u001b[0m",
      "\u001b[0;31mAssertionError\u001b[0m                            Traceback (most recent call last)",
      "\u001b[0;32m<ipython-input-27-4efe75a2ed48>\u001b[0m in \u001b[0;36m<module>\u001b[0;34m()\u001b[0m\n\u001b[1;32m     19\u001b[0m \u001b[0;34m\u001b[0m\u001b[0m\n\u001b[1;32m     20\u001b[0m \u001b[0mgc_content\u001b[0m\u001b[0;34m(\u001b[0m\u001b[0;34m'ATGCTTGACTTC'\u001b[0m\u001b[0;34m)\u001b[0m\u001b[0;34m\u001b[0m\u001b[0m\n\u001b[0;32m---> 21\u001b[0;31m \u001b[0mgc_content\u001b[0m\u001b[0;34m(\u001b[0m\u001b[0;34m'ATGCTTGACTTCU'\u001b[0m\u001b[0;34m)\u001b[0m\u001b[0;34m\u001b[0m\u001b[0m\n\u001b[0m",
      "\u001b[0;32m<ipython-input-27-4efe75a2ed48>\u001b[0m in \u001b[0;36mgc_content\u001b[0;34m(seq)\u001b[0m\n\u001b[1;32m      8\u001b[0m \u001b[0;34m\u001b[0m\u001b[0m\n\u001b[1;32m      9\u001b[0m     \u001b[0;31m# Ceci est une pré-condition, elle doit toujours être vraie en entrée de la fonction.\u001b[0m\u001b[0;34m\u001b[0m\u001b[0;34m\u001b[0m\u001b[0m\n\u001b[0;32m---> 10\u001b[0;31m     \u001b[0;32massert\u001b[0m \u001b[0mall\u001b[0m\u001b[0;34m(\u001b[0m\u001b[0;34m[\u001b[0m\u001b[0mbase\u001b[0m \u001b[0;32min\u001b[0m \u001b[0;34m'ATGC'\u001b[0m \u001b[0;32mfor\u001b[0m \u001b[0mbase\u001b[0m \u001b[0;32min\u001b[0m \u001b[0mseq\u001b[0m\u001b[0;34m]\u001b[0m\u001b[0;34m)\u001b[0m\u001b[0;34m,\u001b[0m \u001b[0;34m'Sequence contains other letters than ATGC'\u001b[0m\u001b[0;34m\u001b[0m\u001b[0m\n\u001b[0m\u001b[1;32m     11\u001b[0m \u001b[0;34m\u001b[0m\u001b[0m\n\u001b[1;32m     12\u001b[0m     \u001b[0mcounter\u001b[0m \u001b[0;34m=\u001b[0m \u001b[0mCounter\u001b[0m\u001b[0;34m(\u001b[0m\u001b[0mseq\u001b[0m\u001b[0;34m)\u001b[0m\u001b[0;34m\u001b[0m\u001b[0m\n",
      "\u001b[0;31mAssertionError\u001b[0m: Sequence contains other letters than ATGC"
     ]
    }
   ],
   "source": [
    "# Exemple: \n",
    "from collections import Counter\n",
    "def gc_content(seq):\n",
    "    \"\"\"Calcule le GC-content de la séquence seq.\"\"\"\n",
    "    \n",
    "    if not seq:\n",
    "        return None\n",
    "    \n",
    "    # Ceci est une pré-condition, elle doit toujours être vraie en entrée de la fonction.\n",
    "    assert all([base in 'ATGC' for base in seq]), 'Sequence contains other letters than ATGC'\n",
    "    \n",
    "    counter = Counter(seq)\n",
    "    gc =  (counter['G']+counter['G'])/len(seq)\n",
    "    \n",
    "     # Ceci est une post-condition, elle doit être toujours vraie en sortie de la fonction.\n",
    "    assert 0<=gc<=1\n",
    "    \n",
    "    return gc\n",
    "\n",
    "gc_content('ATGCTTGACTTC')\n",
    "gc_content('ATGCTTGACTTCU')"
   ]
  },
  {
   "cell_type": "markdown",
   "metadata": {},
   "source": [
    "Notez que les assertions on un coût en temps. Mais il est possible de les ignorer en utilisant le paramètre -O de l'interpréteur python. \n",
    "\n",
    "```bash\n",
    "# On créer un module python très simple.\n",
    "guilhem@volvox:~/lectures/python$ echo \"assert False\" > test.py\n",
    "\n",
    "#Si on l'execute, l'assertion lève une erreur\n",
    "guilhem@volvox:~/lectures/python$ python3 test.py \n",
    "Traceback (most recent call last):\n",
    "  File \"test.py\", line 1, in <module>\n",
    "    assert False\n",
    "AssertionError\n",
    "\n",
    "# Mais n'est pas testée avec l'option -O\n",
    "guilhem@volvox:~/lectures/python$ python3 -O test.py\n",
    "#(rien)\n",
    "```"
   ]
  },
  {
   "cell_type": "markdown",
   "metadata": {},
   "source": [
    "### Les Tests\n",
    "\n",
    "Les tests sont des fonctions particulières qui ne servent qu'à faire des assertions. On peut écrire des test pour l'ensemble d'un programme, ou pour des fonctions particulières (on parle de tests unitaires). \n",
    "\n",
    "Une méthode de programmation (test-driven development) recommande de toujours écrire les tests avant d'écrire le code qui est sensé les passer. Il existe des bibliothèques spécialisées (ex. [nose](https://nose.readthedocs.io/en/latest/testing.html)) qui facilitent l'écriture et l'exécution de tests."
   ]
  },
  {
   "cell_type": "code",
   "execution_count": 40,
   "metadata": {},
   "outputs": [],
   "source": [
    "def test_gc():\n",
    "    \"\"\"Un expemple de test simple\"\"\"\n",
    "    # Les cas à tester sont appeler des \"fixtures\" dans la terminologie des tests\n",
    "    assert gc_content('') == 0, 'Séquence vide'\n",
    "    assert gc_content('ATGC') == 0.5, 'Séquence normale'\n",
    "    assert gc_content('ATAT') == 0, 'Séquence sans G'\n",
    "    assert gc_content('GGCC') == 1, 'Séquence de G'\n",
    "    \n",
    "    # On peut aussi tester si la bonne exception est levée.\n",
    "    try:\n",
    "        gc_content('U')\n",
    "    except AssertionError:\n",
    "        pass\n",
    "    else:\n",
    "        raise AssertionError('Mauvais caractères')\n",
    "test_gc()"
   ]
  },
  {
   "cell_type": "markdown",
   "metadata": {},
   "source": [
    "Exercice: \n",
    "- Écrivez des tests et des assertions pour votre programme de traitement des séquences.\n",
    "- Faites en sorte que les test se lançent à partir de la commande `sequences.py --test`"
   ]
  },
  {
   "cell_type": "code",
   "execution_count": null,
   "metadata": {},
   "outputs": [],
   "source": []
  }
 ],
 "metadata": {
  "kernelspec": {
   "display_name": "Python 3",
   "language": "python",
   "name": "python3"
  },
  "language_info": {
   "codemirror_mode": {
    "name": "ipython",
    "version": 3
   },
   "file_extension": ".py",
   "mimetype": "text/x-python",
   "name": "python",
   "nbconvert_exporter": "python",
   "pygments_lexer": "ipython3",
   "version": "3.5.3"
  },
  "toc": {
   "base_numbering": 1,
   "nav_menu": {},
   "number_sections": true,
   "sideBar": true,
   "skip_h1_title": false,
   "title_cell": "Table of Contents",
   "title_sidebar": "Contents",
   "toc_cell": false,
   "toc_position": {},
   "toc_section_display": true,
   "toc_window_display": false
  }
 },
 "nbformat": 4,
 "nbformat_minor": 2
}
